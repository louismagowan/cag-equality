{
 "cells": [
  {
   "cell_type": "code",
   "execution_count": 1,
   "id": "5e3256c3",
   "metadata": {},
   "outputs": [],
   "source": [
    "# General\n",
    "import pandas as pd\n",
    "import numpy as np\n",
    "import os\n",
    "import glob\n",
    "\n",
    "# Preprocessing\n",
    "from sklearn.model_selection import train_test_split\n",
    "from sklearn.preprocessing import OrdinalEncoder, MinMaxScaler\n",
    "\n",
    "# Descriptive statistics\n",
    "from scipy.stats import ttest_ind, chi2_contingency\n",
    "\n",
    "# Plotting\n",
    "import seaborn as sns\n",
    "sns.set_style(\"darkgrid\")\n",
    "import matplotlib.pyplot as plt\n",
    "\n",
    "# Modelling\n",
    "from sklearn.metrics import mean_squared_error\n",
    "from sklearn.model_selection import StratifiedKFold\n",
    "## Linear regression\n",
    "from sklearn.linear_model import LinearRegression\n",
    "## SVR\n",
    "from sklearn.svm import LinearSVR, SVR\n",
    "## Neural networks\n",
    "from tensorflow.keras.layers import Dense, BatchNormalization\n",
    "from tensorflow.keras import Sequential\n",
    "from tensorflow.keras import optimizers\n",
    "from tensorflow.keras.callbacks import EarlyStopping\n",
    "## LGBM\n",
    "import lightgbm as lgb\n",
    "import optuna\n",
    "from optuna.integration import LightGBMPruningCallback"
   ]
  },
  {
   "cell_type": "code",
   "execution_count": 2,
   "id": "3c3a4149",
   "metadata": {},
   "outputs": [],
   "source": [
    "# Get rid of annoying LGBM messages\n",
    "import warnings\n",
    "warnings.filterwarnings(\"ignore\", message=\"categorical_column in param dict is overridden.\")\n",
    "warnings.filterwarnings(\"ignore\", message='Overriding the parameters from Reference Dataset.')\n",
    "warnings.filterwarnings(\"ignore\", message='The reported value is ignored because this*')\n",
    "warnings.filterwarnings(\"ignore\", message='Found `n_estimators` in params. Will use it*')\n",
    "warnings.filterwarnings(\"ignore\", message='The distribution is specified by*')\n",
    "\n",
    "# Hide optuna logging too\n",
    "optuna.logging.set_verbosity(optuna.logging.WARNING)"
   ]
  },
  {
   "cell_type": "markdown",
   "id": "543924db",
   "metadata": {},
   "source": [
    "# Pre-processing"
   ]
  },
  {
   "cell_type": "code",
   "execution_count": 3,
   "id": "837c4a42",
   "metadata": {},
   "outputs": [],
   "source": [
    "# Get files to read in\n",
    "gcse_files = glob.glob(\"../fake_data/synthetic_*_gcse_20[1-2][0, 8-9].csv\")\n",
    "npd_files = glob.glob(\"../fake_data/synthetic_npd_ks4_student_20[1-2][0, 8-9].csv\")"
   ]
  },
  {
   "cell_type": "markdown",
   "id": "65dcd54b",
   "metadata": {},
   "source": [
    "## Exam Data"
   ]
  },
  {
   "cell_type": "code",
   "execution_count": 4,
   "id": "1cbcb540",
   "metadata": {},
   "outputs": [],
   "source": [
    "def process_grades(data = pd.DataFrame, grade_col = str):\n",
    "    \n",
    "    # Drop rows with missing grades\n",
    "    data = data.dropna(subset = grade_col)\n",
    "    # Convert U grade to 0\n",
    "    data.loc[data[grade_col] == \"U\", grade_col] = \"0\"\n",
    "    # Convert grades to numeric from string format\n",
    "    data = data[data[grade_col].isin([str(x) for x in (range(0, 10))])]\n",
    "    data[grade_col] = data[grade_col].astype(float)\n",
    "    return data"
   ]
  },
  {
   "cell_type": "code",
   "execution_count": 5,
   "id": "06b48f57",
   "metadata": {},
   "outputs": [],
   "source": [
    "def process_gcse_data(df = pd.DataFrame):\n",
    "    \n",
    "    \"\"\"\n",
    "    Takes raw GCSE exam data (2017-2020 files), filters it\n",
    "    appropriately and processes it. \n",
    "    Returns a DataFrame with a reduced number of columns.\n",
    "    Full steps taken can be seen in code commenting or in\n",
    "    Methodology section of capstone.\n",
    "    --------------------------------------------------\n",
    "    df = DataFrame of raw GCSE data\n",
    "    \"\"\"\n",
    "    \n",
    "    # Copy to prevent in-place changes\n",
    "    data = df.copy()\n",
    "    \n",
    "    # Make cols lowercase\n",
    "    data.columns = [x.lower() for x in data.columns]\n",
    "    \n",
    "    # Reformat examseries to year col\n",
    "    data[\"year\"] = data.examseries.apply(lambda x: x.split()[1])\n",
    "    \n",
    "    # Remove candidates who were not 16 on 31st August\n",
    "    data = data.query(\"yearendage == 16\")\n",
    "    # Remove private candidates\n",
    "    data = data.query(\"privatecandidate == False\")\n",
    "    # Commented out below since all True in synthetic data\n",
    "    # Remove partial absentees\n",
    "#     data = data.query(\"partialabsence == False\")\n",
    "    # Remove candidates without prior attainment or that weren't matched in NPD\n",
    "    data = data.dropna(subset = [\"normalisedks2score\", \"npdmatchround\"])\n",
    "    \n",
    "    # Remove candidates with 0 prior attainment (errors in data)\n",
    "    data = data[data.normalisedks2score > 0]\n",
    "    \n",
    "    # Remove non-reformed GCSEs\n",
    "    data = data[data.reformphase.isin(['Ofqual-regulated Phase 1 reformed GCSE FC',\n",
    "                                       'Ofqual-regulated Phase 2 reformed GCSE FC'])]\n",
    "    # Recode tier into foundation or not foundation\n",
    "    data.loc[data.tier != \"F\", \"tier\"] = \"Not F\"\n",
    "    \n",
    "    # Process grade column inplace\n",
    "    data = process_grades(data, grade_col = \"grade\")\n",
    "    \n",
    "    # Standardise the KS2 prior attainment to between 0 and 1\n",
    "    scaler = MinMaxScaler()\n",
    "    data.normalisedks2score = scaler.fit_transform(data[['normalisedks2score']])\n",
    "    \n",
    "    # Get candidates who took at least 8 GCSEs\n",
    "    grouped = data.groupby(\"uidp\").count()\n",
    "    at_least_8 = set(grouped[grouped.examseries >= 8].index.to_list())\n",
    "    # Get candidates who took English and Maths\n",
    "    eng_math = set(data[data.jcqtitle.isin([\"Mathematics\", \"English language\"])].uidp)\n",
    "    # Get candidates who took English and Maths and >= 8 GCSEs\n",
    "    filtered_ids = at_least_8 & eng_math\n",
    "    # Beware that since this is simulated data, it's wrong\n",
    "    filtered = data[data.uidp.isin(filtered_ids)]\n",
    "    \n",
    "    # Select cols needed for modelling and dropnas\n",
    "    gcse_cols = [\"uidp\", \"year\", \"jcqtitle\", \"tier\", \"centretypedesc\",\n",
    "                 \"normalisedks2score\", \"grade\", \"centreassessmentgrade\"]\n",
    "    filtered = filtered[gcse_cols]\n",
    "\n",
    "    return filtered"
   ]
  },
  {
   "cell_type": "code",
   "execution_count": 6,
   "id": "d6d381e3",
   "metadata": {},
   "outputs": [],
   "source": [
    "# Load and process all the GCSE exam data\n",
    "gcse_data = pd.DataFrame()\n",
    "# Iterate through files\n",
    "for file in gcse_files:\n",
    "    # Perform filtering/pre-processing\n",
    "    year_df = process_gcse_data(pd.read_csv(file))\n",
    "    # Process the CAG column too\n",
    "    if \"2020\" in file:\n",
    "        year_df = process_grades(year_df, \"centreassessmentgrade\")\n",
    "    # Create dummy value for other years\n",
    "    else:\n",
    "        year_df.centreassessmentgrade = np.NaN\n",
    "        \n",
    "    # Merge with other years\n",
    "    gcse_data = pd.concat([gcse_data, year_df])\n",
    "    # Delete var to save memory\n",
    "    del year_df\n",
    "# Reset index\n",
    "gcse_data = gcse_data.reset_index(drop = True)"
   ]
  },
  {
   "cell_type": "code",
   "execution_count": 7,
   "id": "6827b0ec",
   "metadata": {},
   "outputs": [],
   "source": [
    "# # Take a smaller sample of the GCSE data, overwrite the orignal gcse_data object too\n",
    "# gcse_data, unneeded_gcse_data = train_test_split(gcse_data, \n",
    "#                                                   train_size = 0.1, \n",
    "#                                                   stratify = gcse_data.year,\n",
    "#                                                   random_state = 42, shuffle = True)\n",
    "# del unneeded_gcse_data"
   ]
  },
  {
   "cell_type": "markdown",
   "id": "94c3c64c",
   "metadata": {},
   "source": [
    "## NPD Data"
   ]
  },
  {
   "cell_type": "code",
   "execution_count": 8,
   "id": "8c27b640",
   "metadata": {},
   "outputs": [],
   "source": [
    "def process_npd(data = pd.DataFrame):\n",
    "    \n",
    "    \"\"\"\n",
    "    Takes raw NPD data (2017-2020 files), filters it\n",
    "    appropriately and processes it. \n",
    "    Returns a DataFrame with a reduced number of columns.\n",
    "    Full steps taken can be seen in code commenting or in\n",
    "    Methodology section of capstone.\n",
    "    --------------------------------------------------\n",
    "    df = DataFrame of raw NPD data\n",
    "    \"\"\"    \n",
    "    \n",
    "    # Copy to prevent inplace changes\n",
    "    df = data.copy()\n",
    "    # Make cols lowercase\n",
    "    df.columns = [x.lower() for x in df.columns]\n",
    "    # Select the columns that are common across files\n",
    "    npd_cols = [\"uidp\", \"ks4_ealgrp_ptq_ee\", \"ks4_gender\"]\n",
    "    # Get the bases for the columns that change in suffix in each file\n",
    "    col_bases = [\"ethnicgroupmajor\", \"fsmeligible\", \"senprovisionmajor\"]\n",
    "    # Get the suffix part that changes\n",
    "    year_ending = int(file[-6:-4])\n",
    "    # Dynamically select those cols with changing suffixes\n",
    "    npd_cols.extend([col_base + f\"_spr{year_ending}\" for col_base in col_bases])\n",
    "    # Also add in most recent IDACI score\n",
    "    npd_cols.append(sorted([x for x in df.columns if \"idaciscore\" in x])[-1])\n",
    "    \n",
    "    # Select the needed columns\n",
    "    df = df[npd_cols]\n",
    "    # Add in year col\n",
    "    df[\"year\"] = f\"20{year_ending}\"\n",
    "    # Rename columns\n",
    "    clean_cols = [\"uidp\", \"eal\", \"gender\", \"ethnicity\",\n",
    "              \"fsm\", \"sen\", \"idaci\", \"year\"]\n",
    "    df.columns = clean_cols\n",
    "    \n",
    "    return df"
   ]
  },
  {
   "cell_type": "code",
   "execution_count": 9,
   "id": "1f9927c4",
   "metadata": {},
   "outputs": [],
   "source": [
    "# Legacy code for checking cols are consistent\n",
    "# col_dict = dict()\n",
    "# for file in npd_files:\n",
    "#     col_dict[file[-8:-4]] = pd.read_csv(file).columns\n",
    "# set(col_dict[\"2020\"]) & set(col_dict[\"2019\"]) & set(col_dict[\"2018\"])\n",
    "# set(col_dict[\"2020\"]) - set(col_dict[\"2019\"])"
   ]
  },
  {
   "cell_type": "code",
   "execution_count": 10,
   "id": "143102ce",
   "metadata": {},
   "outputs": [],
   "source": [
    "# Create df to store each year's data in\n",
    "npd_data = pd.DataFrame()\n",
    "\n",
    "# Iterate through files\n",
    "for file in npd_files:\n",
    "    # Load data\n",
    "    npd_df = pd.read_csv(file)\n",
    "    # Process the NPD data\n",
    "    npd_df = process_npd(npd_df)\n",
    "    # Combine into dataframe\n",
    "    npd_data = pd.concat([npd_data, npd_df])\n",
    "    \n",
    "    # Delete var to save memory\n",
    "    del npd_df"
   ]
  },
  {
   "cell_type": "markdown",
   "id": "559c918d",
   "metadata": {},
   "source": [
    "# Joining"
   ]
  },
  {
   "cell_type": "code",
   "execution_count": 11,
   "id": "5e3ba32f",
   "metadata": {
    "code_folding": [
     0
    ]
   },
   "outputs": [],
   "source": [
    "def recode_cols(data = pd.DataFrame):\n",
    "    \"\"\"\n",
    "    Takes processed merged GCSE exam and NPD data (2017-2020 files),\n",
    "    filters it appropriately and processes it. \n",
    "    It recodes several columns into fewer numbers of categories\n",
    "    to make modelling easier.\n",
    "    Returns a DataFrame with a reduced number of columns.\n",
    "    Full steps taken can be seen in code commenting or in\n",
    "    Methodology section of capstone.\n",
    "    --------------------------------------------------\n",
    "    df = DataFrame of merged NPD/GCSE data\n",
    "    \"\"\"\n",
    "    \n",
    "    # Copy to prevent inplace changes\n",
    "    df = data.copy()\n",
    "    # Filter EAL to remove NAs or unclassifieds\n",
    "    df = df[df.eal.isin([1,2])]\n",
    "    # Filter ethnicity to remove unclassifieds/NaNs\n",
    "    df = df[df.ethnicity.isin([\"AOEG\", \"ASIA\", \"BLAC\", \"CHIN\",\n",
    "                          \"MIXD\", \"WHIT\"])]\n",
    "    # Filter and recode SEN to remove unclassifieds and make SEN/not SEN\n",
    "    df = df[df.sen.isin([\"1_NON\", \"2_SNS\", \"3_SS\"])]\n",
    "    df.loc[df.sen != \"1_NON\", \"sen\"] = \"SEN\"\n",
    "    df.loc[df.sen == \"1_NON\", \"sen\"] = \"No SEN\"\n",
    "    \n",
    "    # Drop remaining NaNs from FSM and IDACI cols\n",
    "    df = df.dropna(subset = [\"fsm\", \"idaci\"])\n",
    "    \n",
    "    return df"
   ]
  },
  {
   "cell_type": "code",
   "execution_count": 12,
   "id": "0559a8d7",
   "metadata": {},
   "outputs": [],
   "source": [
    "# Inner join exam data with NPD data\n",
    "merged = npd_data.merge(gcse_data, on = [\"uidp\", \"year\"],\n",
    "                       how = \"inner\")\n",
    "\n",
    "# Recode columns and filter further\n",
    "df = recode_cols(merged)\n",
    "\n",
    "# Recode columns and filter further\n",
    "df = recode_cols(merged)\n",
    "\n",
    "# Get list of most common subjects to plot with later\n",
    "most_common_subjects = df.groupby(\"jcqtitle\").count()\\\n",
    ".sort_values(\"eal\", ascending = False)\\\n",
    ".head(10)\\\n",
    ".index\\\n",
    ".to_list()\n",
    "\n",
    "# Drop now unnecesary UIDP and year cols\n",
    "df = df.drop(columns = [\"year\", \"uidp\"])\n",
    "\n",
    "# Convert categorical cols to numerics\n",
    "categorical_cols = [\"eal\", \"gender\", \"ethnicity\", \"fsm\",\n",
    "               \"sen\", \"jcqtitle\", \"tier\", \"centretypedesc\"]\n",
    "\n",
    "# Encode categorical columns as numerics\n",
    "# Create mapping to inverse transform with later\n",
    "mapping = {}\n",
    "# Iterate through categorical columns\n",
    "for col in categorical_cols:\n",
    "    # Instantiate encoder\n",
    "    encoder = OrdinalEncoder()\n",
    "    # Store encoding in mapping dict\n",
    "    mapping[col] = encoder.fit(df[col].values.reshape(-1, 1))\n",
    "    # Convert column to numerics\n",
    "    df[col] = encoder.transform(df[col].values.reshape(-1, 1))"
   ]
  },
  {
   "cell_type": "code",
   "execution_count": 13,
   "id": "797e4b5a",
   "metadata": {},
   "outputs": [],
   "source": [
    "# Split into treatment and control\n",
    "treatment = df[~df.centreassessmentgrade.isna()].copy()\n",
    "control = df[df.centreassessmentgrade.isna()].copy()\n",
    "\n",
    "# Split into labels and features\n",
    "X = np.array(control.iloc[:, :10], dtype = \"float32\")\n",
    "y = np.array(control.grade, dtype = \"float32\")\n",
    "\n",
    "# Split into test and train\n",
    "X_train, X_test, y_train, y_test = train_test_split(X, y, test_size = 0.2,\n",
    "                                                   shuffle = True,\n",
    "                                                   random_state = 42)"
   ]
  },
  {
   "cell_type": "markdown",
   "id": "b0cbf133",
   "metadata": {},
   "source": [
    "# Descriptive Statistics"
   ]
  },
  {
   "cell_type": "markdown",
   "id": "84173beb",
   "metadata": {},
   "source": [
    "## Continuous Variables"
   ]
  },
  {
   "cell_type": "code",
   "execution_count": 14,
   "id": "b35c8ca0",
   "metadata": {},
   "outputs": [],
   "source": [
    "# Calculate summary stats of continuous variables\n",
    "continuous_cols = ['idaci', 'normalisedks2score', 'grade', 'centreassessmentgrade']\n",
    "control_continuous = control[continuous_cols].apply([np.mean, np.std]).T\n",
    "treatment_continuous = treatment[continuous_cols].apply([np.mean, np.std]).T"
   ]
  },
  {
   "cell_type": "code",
   "execution_count": 20,
   "id": "27588b4e-3e2d-4e24-bacb-851ee1195465",
   "metadata": {},
   "outputs": [],
   "source": [
    "import statsmodels.stats.api as sms"
   ]
  },
  {
   "cell_type": "code",
   "execution_count": 21,
   "id": "9a101719",
   "metadata": {},
   "outputs": [],
   "source": [
    "# Save summary stats\n",
    "summary_cont = pd.merge(control_continuous,\n",
    "                        treatment_continuous,\n",
    "                        how = \"inner\",\n",
    "                        left_index = True,\n",
    "                        right_index = True,\n",
    "                        suffixes = [\"_control\", \"_treatment\"])\n",
    "\n",
    "# Create cols to store results in\n",
    "summary_cont[\"p_val\"] = np.NaN\n",
    "summary_cont[\"conf_lower\"] = np.NaN\n",
    "summary_cont[\"conf_upper\"] = np.NaN\n",
    "\n",
    "# Run t-tests and conf intervals of mean differences\n",
    "for col in continuous_cols:\n",
    "    # Run t-test over each continuous col\n",
    "    t_test = ttest_ind(treatment[col], control[col])\n",
    "    \n",
    "    # Calculate confidence intervals for difference between means\n",
    "    cm = sms.CompareMeans(sms.DescrStatsW(treatment[col]),\n",
    "                      sms.DescrStatsW(control[col]))\n",
    "    lower, upper = cm.tconfint_diff(alpha = 0.05, usevar='unequal')\n",
    "    \n",
    "    # Store p-value\n",
    "    summary_cont.loc[col, \"p_val\"] = t_test.pvalue\n",
    "    # Store confidence intervals\n",
    "    summary_cont.loc[col, \"conf_lower\"] = lower\n",
    "    summary_cont.loc[col, \"conf_upper\"] = upper\n",
    "\n",
    "# Export results\n",
    "summary_cont.to_csv(\"descriptive-continuous.csv\")"
   ]
  },
  {
   "cell_type": "code",
   "execution_count": null,
   "id": "67b9606e",
   "metadata": {},
   "outputs": [],
   "source": [
    "summary_cont"
   ]
  },
  {
   "cell_type": "code",
   "execution_count": 19,
   "id": "b111b555",
   "metadata": {},
   "outputs": [],
   "source": [
    "import statsmodels.stats.api as sms\n",
    "summary_cont[\"conf_lower\"] = np.NaN\n",
    "summary_cont[\"conf_upper\"] = np.NaN\n",
    "# Calculate confidence intervals for difference between means\n",
    "cm = sms.CompareMeans(sms.DescrStatsW(treatment[col]),\n",
    "                  sms.DescrStatsW(control[col]))\n",
    "lower, upper = cm.tconfint_diff(alpha = 0.05, usevar='unequal')"
   ]
  },
  {
   "cell_type": "markdown",
   "id": "2143e1ea",
   "metadata": {},
   "source": [
    "## Categorical Variables"
   ]
  },
  {
   "cell_type": "code",
   "execution_count": 22,
   "id": "9bd37c0e",
   "metadata": {},
   "outputs": [],
   "source": [
    "# Reconvert categorical cols back into original label form\n",
    "for col in categorical_cols:\n",
    "    # Inverse transform columns\n",
    "    control[col] = mapping[col].inverse_transform(control[col].values.reshape(-1, 1))\n",
    "    treatment[col] = mapping[col].inverse_transform(treatment[col].values.reshape(-1, 1))"
   ]
  },
  {
   "cell_type": "code",
   "execution_count": 23,
   "id": "792a6115",
   "metadata": {},
   "outputs": [],
   "source": [
    "# Calculate proportions in each group\n",
    "summary_cat = pd.DataFrame()\n",
    "\n",
    "for col in categorical_cols:\n",
    "    # Get frequencies and proportions for categories in group\n",
    "    # For control\n",
    "    control_count = control.groupby(col)[\"eal\"].count()\n",
    "    control_prop =  control_count / control.shape[0]\n",
    "    control_sum = pd.DataFrame(data = {\"control_count\":control_count,\n",
    "                                       \"control_prop\": control_prop,\n",
    "                                       \"col\": col})\n",
    "    # For treatment\n",
    "    treatment_count = treatment.groupby(col)[\"eal\"].count()\n",
    "    treatment_prop = treatment_count / treatment.shape[0]\n",
    "    treatment_sum = pd.DataFrame(data = {\"treatment_count\":treatment_count,\n",
    "                                         \"treatment_prop\": treatment_prop,\n",
    "                                         \"col\": col})\n",
    "    # Combine into one df\n",
    "    comparison = pd.concat([control_sum,\n",
    "                            treatment_sum[[\"treatment_count\", \"treatment_prop\"]]], axis = 1).fillna(0)\n",
    "    # Run chi-square test\n",
    "    chi2, p, dof, exp = chi2_contingency(comparison[[\"control_count\", \"treatment_count\"]])\n",
    "    # Add p-values to df\n",
    "    comparison[\"p_val\"] = p\n",
    "    \n",
    "    # Merge with other results\n",
    "    summary_cat = pd.concat([summary_cat, comparison])\n",
    "\n",
    "# Rename index\n",
    "summary_cat.index.name = \"category\"\n",
    "summary_cat = summary_cat.reset_index()\n",
    "# Export results\n",
    "summary_cat.to_csv(\"descriptive-categoricals.csv\", index = False)"
   ]
  },
  {
   "cell_type": "code",
   "execution_count": 24,
   "id": "24946572",
   "metadata": {},
   "outputs": [
    {
     "data": {
      "text/html": [
       "<div>\n",
       "<style scoped>\n",
       "    .dataframe tbody tr th:only-of-type {\n",
       "        vertical-align: middle;\n",
       "    }\n",
       "\n",
       "    .dataframe tbody tr th {\n",
       "        vertical-align: top;\n",
       "    }\n",
       "\n",
       "    .dataframe thead th {\n",
       "        text-align: right;\n",
       "    }\n",
       "</style>\n",
       "<table border=\"1\" class=\"dataframe\">\n",
       "  <thead>\n",
       "    <tr style=\"text-align: right;\">\n",
       "      <th></th>\n",
       "      <th>category</th>\n",
       "      <th>control_count</th>\n",
       "      <th>control_prop</th>\n",
       "      <th>col</th>\n",
       "      <th>treatment_count</th>\n",
       "      <th>treatment_prop</th>\n",
       "      <th>p_val</th>\n",
       "    </tr>\n",
       "  </thead>\n",
       "  <tbody>\n",
       "    <tr>\n",
       "      <th>0</th>\n",
       "      <td>1.0</td>\n",
       "      <td>104.0</td>\n",
       "      <td>0.800000</td>\n",
       "      <td>eal</td>\n",
       "      <td>95.0</td>\n",
       "      <td>0.669014</td>\n",
       "      <td>0.021548</td>\n",
       "    </tr>\n",
       "    <tr>\n",
       "      <th>1</th>\n",
       "      <td>2.0</td>\n",
       "      <td>26.0</td>\n",
       "      <td>0.200000</td>\n",
       "      <td>eal</td>\n",
       "      <td>47.0</td>\n",
       "      <td>0.330986</td>\n",
       "      <td>0.021548</td>\n",
       "    </tr>\n",
       "    <tr>\n",
       "      <th>2</th>\n",
       "      <td>F</td>\n",
       "      <td>49.0</td>\n",
       "      <td>0.376923</td>\n",
       "      <td>gender</td>\n",
       "      <td>82.0</td>\n",
       "      <td>0.577465</td>\n",
       "      <td>0.001448</td>\n",
       "    </tr>\n",
       "    <tr>\n",
       "      <th>3</th>\n",
       "      <td>M</td>\n",
       "      <td>81.0</td>\n",
       "      <td>0.623077</td>\n",
       "      <td>gender</td>\n",
       "      <td>60.0</td>\n",
       "      <td>0.422535</td>\n",
       "      <td>0.001448</td>\n",
       "    </tr>\n",
       "    <tr>\n",
       "      <th>4</th>\n",
       "      <td>ASIA</td>\n",
       "      <td>16.0</td>\n",
       "      <td>0.123077</td>\n",
       "      <td>ethnicity</td>\n",
       "      <td>8.0</td>\n",
       "      <td>0.056338</td>\n",
       "      <td>0.026099</td>\n",
       "    </tr>\n",
       "  </tbody>\n",
       "</table>\n",
       "</div>"
      ],
      "text/plain": [
       "  category  control_count  control_prop        col  treatment_count  \\\n",
       "0      1.0          104.0      0.800000        eal             95.0   \n",
       "1      2.0           26.0      0.200000        eal             47.0   \n",
       "2        F           49.0      0.376923     gender             82.0   \n",
       "3        M           81.0      0.623077     gender             60.0   \n",
       "4     ASIA           16.0      0.123077  ethnicity              8.0   \n",
       "\n",
       "   treatment_prop     p_val  \n",
       "0        0.669014  0.021548  \n",
       "1        0.330986  0.021548  \n",
       "2        0.577465  0.001448  \n",
       "3        0.422535  0.001448  \n",
       "4        0.056338  0.026099  "
      ]
     },
     "execution_count": 24,
     "metadata": {},
     "output_type": "execute_result"
    }
   ],
   "source": [
    "summary_cat.head()"
   ]
  },
  {
   "cell_type": "code",
   "execution_count": 25,
   "id": "7c7a9912",
   "metadata": {},
   "outputs": [],
   "source": [
    "# Plot most common subject mean grades, treatment vs control\n",
    "subject_treat = treatment.groupby(\"jcqtitle\")[[\"grade\"]].mean()\\\n",
    ".loc[most_common_subjects].reset_index().round(2)\n",
    "subject_control = control.groupby(\"jcqtitle\")[[\"grade\"]].mean()\\\n",
    ".loc[most_common_subjects].reset_index().round(2)"
   ]
  },
  {
   "cell_type": "code",
   "execution_count": 26,
   "id": "1d08b63c",
   "metadata": {},
   "outputs": [
    {
     "data": {
      "image/png": "[encoded data removed]",
      "text/plain": [
       "<Figure size 432x288 with 1 Axes>"
      ]
     },
     "metadata": {},
     "output_type": "display_data"
    }
   ],
   "source": [
    "# Plot treatment\n",
    "fig = sns.barplot(x = \"jcqtitle\", y = \"grade\", data = subject_treat)\n",
    "fig.tick_params(axis='x', rotation=60)\n",
    "fig.set(xlabel = \"Subject\", ylabel = \"Mean Grade\",\n",
    "        title = \"Mean Grades | Most Common 10 Subjects| Treatment\")\n",
    "fig.bar_label(fig.containers[0]);\n",
    "\n",
    "plt.tight_layout()\n",
    "plt.savefig(\"treatment_subj_grades.png\")"
   ]
  },
  {
   "cell_type": "code",
   "execution_count": 27,
   "id": "1feb5dba",
   "metadata": {},
   "outputs": [
    {
     "data": {
      "image/png": "[encoded data removed]",
      "text/plain": [
       "<Figure size 432x288 with 1 Axes>"
      ]
     },
     "metadata": {},
     "output_type": "display_data"
    }
   ],
   "source": [
    "# Plot control\n",
    "fig = sns.barplot(x = \"jcqtitle\", y = \"grade\", data = subject_control)\n",
    "fig.tick_params(axis='x', rotation=60)\n",
    "fig.set(xlabel = \"Subject\", ylabel = \"Mean Grade\",\n",
    "        title = \"Mean Grades | Most Common 10 Subjects| Control\")\n",
    "fig.bar_label(fig.containers[0]);\n",
    "\n",
    "plt.tight_layout()\n",
    "plt.savefig(\"control_subj_grades.png\")"
   ]
  },
  {
   "cell_type": "markdown",
   "id": "3145f260",
   "metadata": {},
   "source": [
    "# Modelling"
   ]
  },
  {
   "cell_type": "code",
   "execution_count": 28,
   "id": "d9c9449e",
   "metadata": {},
   "outputs": [],
   "source": [
    "# Create dataframe to store model results in\n",
    "all_results = pd.DataFrame()"
   ]
  },
  {
   "cell_type": "code",
   "execution_count": 29,
   "id": "cc5e4087",
   "metadata": {},
   "outputs": [],
   "source": [
    "def evaluate_model(X_train, X_test,\n",
    "                  y_train, y_test,\n",
    "                  model, model_name):\n",
    "    \n",
    "    \"\"\"\n",
    "    Function to evaluate a model in terms of\n",
    "    train and test RMSE.\n",
    "    Returns a dataframe of model name and RMSEs.\n",
    "    --------------------------------------------------\n",
    "    X_train = np.array of X data, used to generate train RMSE\n",
    "    X_test = np.array of X data, used to generate test RMSE\n",
    "    y_train = np.array of y data, used to generate train RMSE\n",
    "    y_test = np.array of y data, used to generate test RMSE\n",
    "    model = fitted model instance to use with model.predict\n",
    "    model_name = str, name to save the model under\n",
    "    \"\"\"\n",
    "    # Generate predictions\n",
    "    train_preds = model.predict(X_train)\n",
    "    test_preds = model.predict(X_test)\n",
    "    # Evaluate model\n",
    "    train_rmse = mean_squared_error(y_train, train_preds, squared = False)\n",
    "    test_rmse = mean_squared_error(y_test, test_preds, squared = False)\n",
    "\n",
    "    # Store results\n",
    "    results = pd.DataFrame({\"model\": model_name,\n",
    "                            \"train_rmse\": train_rmse,\n",
    "                            \"test_rmse\": test_rmse,\n",
    "                 }, index = [0])\n",
    "    \n",
    "    return results"
   ]
  },
  {
   "cell_type": "markdown",
   "id": "44c0a8ea",
   "metadata": {},
   "source": [
    "## Linear Model"
   ]
  },
  {
   "cell_type": "code",
   "execution_count": 30,
   "id": "06e5abc7",
   "metadata": {},
   "outputs": [],
   "source": [
    "# Create linear model\n",
    "linear_model = LinearRegression()\n",
    "linear_model.fit(X_train, y_train)\n",
    "# Evaluate model, getting test and train RMSE\n",
    "results = evaluate_model(X_train, X_test,\n",
    "                         y_train, y_test,\n",
    "                         linear_model, \"ols_linear\")\n",
    "# Store results\n",
    "all_results = pd.concat([all_results, results])"
   ]
  },
  {
   "cell_type": "markdown",
   "id": "22357ac1",
   "metadata": {},
   "source": [
    "## Neural Network"
   ]
  },
  {
   "cell_type": "markdown",
   "id": "9bdf2ae9",
   "metadata": {},
   "source": [
    "The 32-32 network seemed to work quite well. Could also try it with batch normalisation, same again with 64-64 networks"
   ]
  },
  {
   "cell_type": "code",
   "execution_count": 31,
   "id": "282cb932",
   "metadata": {},
   "outputs": [],
   "source": [
    "def build_mlp(X_data,\n",
    "              layer_1_units = 64,\n",
    "              layer_2_units = 64,\n",
    "              batch_normalization = False,\n",
    "              loss = \"mse\",\n",
    "              optimizer = \"adam\",\n",
    "              metrics = [\"mse\"]):\n",
    "    \"\"\"\n",
    "    Function to create artificial neural network. Dense layer\n",
    "    units can be specified, as can the use of batch normalization\n",
    "    in between the dense layers (this provides mild regularisation)\n",
    "    and may speed up training.\n",
    "    Returns a compiled Keras model.\n",
    "    --------------------------------------------------\n",
    "    X_data = np.array of X data, used to give input shape to model\n",
    "    layer_1_units = int, number of neurons in 1st hidden layer\n",
    "    layer_2_units = int, number of neurons in 2nd hidden layer\n",
    "    batch_normalization = bool, batch normalize between hidden layers \n",
    "    if true\n",
    "    loss = str, name of loss function to use\n",
    "    optimizer = str or keras.Optimzer object, optimizer to use\n",
    "    metrics = list of strings, evaluation metrics to use\n",
    "    \"\"\"\n",
    "    # Build model\n",
    "    model = Sequential(name = \"MLP\")\n",
    "    # 1st Dense layer\n",
    "    model.add(Dense(units = layer_1_units, activation = \"relu\", input_shape = (X_data.shape[1], ),\n",
    "                   kernel_initializer = \"he_normal\"))\n",
    "    \n",
    "    # Add batch normalization if desired\n",
    "    if batch_normalization:\n",
    "        model.add(BatchNormalization())\n",
    "    \n",
    "    # 2nd Dense layer\n",
    "    model.add(Dense(units = layer_2_units, activation = \"relu\",\n",
    "                   kernel_initializer = \"he_normal\"))\n",
    "    # Output layer\n",
    "    model.add(Dense(units = 1, activation = \"linear\",\n",
    "                   kernel_initializer = \"he_normal\"))\n",
    "    # Compile model\n",
    "    model.compile(**compile_hp)\n",
    "    \n",
    "    return model"
   ]
  },
  {
   "cell_type": "code",
   "execution_count": 32,
   "id": "88baf23e",
   "metadata": {},
   "outputs": [],
   "source": [
    "# Hyperparams used during modelling\n",
    "# Compilation hyperparams\n",
    "compile_hp = dict()\n",
    "compile_hp[\"loss\"] = \"mse\"\n",
    "compile_hp[\"optimizer\"] = optimizers.Adam(learning_rate = 0.001)\n",
    "compile_hp[\"metrics\"] = [\"mse\"]\n",
    "\n",
    "# Fitting hyperparams\n",
    "fit_hp = dict()\n",
    "fit_hp[\"batch_size\"] = 32\n",
    "fit_hp[\"epochs\"] = 200\n",
    "fit_hp[\"validation_split\"] = 0.2\n",
    "# Create callback to select the best model\n",
    "fit_hp[\"callbacks\"] = EarlyStopping(monitor = \"val_loss\",\n",
    "                                         mode = \"min\",\n",
    "                                         restore_best_weights = True,\n",
    "                                         patience = 25)\n",
    "\n",
    "# Eliminate verbose to have a neater notebook \n",
    "fit_hp[\"verbose\"] = 2"
   ]
  },
  {
   "cell_type": "markdown",
   "id": "c2abe51f",
   "metadata": {},
   "source": [
    "### NN 1"
   ]
  },
  {
   "cell_type": "code",
   "execution_count": 33,
   "id": "14561def",
   "metadata": {
    "scrolled": true
   },
   "outputs": [
    {
     "name": "stdout",
     "output_type": "stream",
     "text": [
      "Metal device set to: Apple M1\n"
     ]
    },
    {
     "name": "stderr",
     "output_type": "stream",
     "text": [
      "2022-08-05 15:39:25.539759: I tensorflow/core/common_runtime/pluggable_device/pluggable_device_factory.cc:305] Could not identify NUMA node of platform GPU ID 0, defaulting to 0. Your kernel may not have been built with NUMA support.\n",
      "2022-08-05 15:39:25.540481: I tensorflow/core/common_runtime/pluggable_device/pluggable_device_factory.cc:271] Created TensorFlow device (/job:localhost/replica:0/task:0/device:GPU:0 with 0 MB memory) -> physical PluggableDevice (device: 0, name: METAL, pci bus id: <undefined>)\n",
      "2022-08-05 15:39:25.734618: W tensorflow/core/platform/profile_utils/cpu_utils.cc:128] Failed to get CPU frequency: 0 Hz\n"
     ]
    },
    {
     "name": "stdout",
     "output_type": "stream",
     "text": [
      "Epoch 1/200\n"
     ]
    },
    {
     "name": "stderr",
     "output_type": "stream",
     "text": [
      "2022-08-05 15:39:25.966374: I tensorflow/core/grappler/optimizers/custom_graph_optimizer_registry.cc:113] Plugin optimizer for device_type GPU is enabled.\n"
     ]
    },
    {
     "name": "stdout",
     "output_type": "stream",
     "text": [
      "3/3 - 1s - loss: 25.4179 - mse: 25.4179 - val_loss: 17.7134 - val_mse: 17.7134 - 556ms/epoch - 185ms/step\n",
      "Epoch 2/200\n",
      "3/3 - 0s - loss: 23.9126 - mse: 23.9126 - val_loss: 16.5251 - val_mse: 16.5251 - 33ms/epoch - 11ms/step\n",
      "Epoch 3/200\n",
      "3/3 - 0s - loss: 22.9397 - mse: 22.9397 - val_loss: 15.6008 - val_mse: 15.6008 - 32ms/epoch - 11ms/step\n",
      "Epoch 4/200\n",
      "3/3 - 0s - loss: 21.6539 - mse: 21.6539 - val_loss: 14.7721 - val_mse: 14.7721 - 30ms/epoch - 10ms/step\n",
      "Epoch 5/200\n",
      "3/3 - 0s - loss: 20.9097 - mse: 20.9097 - val_loss: 14.0620 - val_mse: 14.0620 - 30ms/epoch - 10ms/step\n",
      "Epoch 6/200\n"
     ]
    },
    {
     "name": "stderr",
     "output_type": "stream",
     "text": [
      "2022-08-05 15:39:26.279161: I tensorflow/core/grappler/optimizers/custom_graph_optimizer_registry.cc:113] Plugin optimizer for device_type GPU is enabled.\n"
     ]
    },
    {
     "name": "stdout",
     "output_type": "stream",
     "text": [
      "3/3 - 0s - loss: 19.3122 - mse: 19.3122 - val_loss: 13.4832 - val_mse: 13.4832 - 31ms/epoch - 10ms/step\n",
      "Epoch 7/200\n",
      "3/3 - 0s - loss: 18.7162 - mse: 18.7162 - val_loss: 12.9877 - val_mse: 12.9877 - 34ms/epoch - 11ms/step\n",
      "Epoch 8/200\n",
      "3/3 - 0s - loss: 17.5068 - mse: 17.5068 - val_loss: 12.6125 - val_mse: 12.6125 - 30ms/epoch - 10ms/step\n",
      "Epoch 9/200\n",
      "3/3 - 0s - loss: 16.4094 - mse: 16.4094 - val_loss: 12.2552 - val_mse: 12.2552 - 30ms/epoch - 10ms/step\n",
      "Epoch 10/200\n",
      "3/3 - 0s - loss: 15.8161 - mse: 15.8161 - val_loss: 11.9885 - val_mse: 11.9885 - 30ms/epoch - 10ms/step\n",
      "Epoch 11/200\n",
      "3/3 - 0s - loss: 14.5212 - mse: 14.5212 - val_loss: 11.7571 - val_mse: 11.7571 - 32ms/epoch - 11ms/step\n",
      "Epoch 12/200\n",
      "3/3 - 0s - loss: 14.1502 - mse: 14.1502 - val_loss: 11.5742 - val_mse: 11.5742 - 42ms/epoch - 14ms/step\n",
      "Epoch 13/200\n",
      "3/3 - 0s - loss: 13.4697 - mse: 13.4697 - val_loss: 11.3977 - val_mse: 11.3977 - 34ms/epoch - 11ms/step\n",
      "Epoch 14/200\n",
      "3/3 - 0s - loss: 12.7181 - mse: 12.7181 - val_loss: 11.2353 - val_mse: 11.2353 - 29ms/epoch - 10ms/step\n",
      "Epoch 15/200\n",
      "3/3 - 0s - loss: 12.4101 - mse: 12.4101 - val_loss: 11.1196 - val_mse: 11.1196 - 29ms/epoch - 10ms/step\n",
      "Epoch 16/200\n",
      "3/3 - 0s - loss: 11.2644 - mse: 11.2644 - val_loss: 11.0116 - val_mse: 11.0116 - 33ms/epoch - 11ms/step\n",
      "Epoch 17/200\n",
      "3/3 - 0s - loss: 10.9490 - mse: 10.9490 - val_loss: 10.9033 - val_mse: 10.9033 - 29ms/epoch - 10ms/step\n",
      "Epoch 18/200\n",
      "3/3 - 0s - loss: 10.2381 - mse: 10.2381 - val_loss: 10.7978 - val_mse: 10.7978 - 29ms/epoch - 10ms/step\n",
      "Epoch 19/200\n",
      "3/3 - 0s - loss: 9.7775 - mse: 9.7775 - val_loss: 10.6987 - val_mse: 10.6987 - 28ms/epoch - 9ms/step\n",
      "Epoch 20/200\n",
      "3/3 - 0s - loss: 9.1288 - mse: 9.1288 - val_loss: 10.5953 - val_mse: 10.5953 - 28ms/epoch - 9ms/step\n",
      "Epoch 21/200\n",
      "3/3 - 0s - loss: 9.2071 - mse: 9.2071 - val_loss: 10.4716 - val_mse: 10.4716 - 28ms/epoch - 9ms/step\n",
      "Epoch 22/200\n",
      "3/3 - 0s - loss: 8.7501 - mse: 8.7501 - val_loss: 10.3674 - val_mse: 10.3674 - 28ms/epoch - 9ms/step\n",
      "Epoch 23/200\n",
      "3/3 - 0s - loss: 7.8924 - mse: 7.8924 - val_loss: 10.2722 - val_mse: 10.2722 - 28ms/epoch - 9ms/step\n",
      "Epoch 24/200\n",
      "3/3 - 0s - loss: 7.9061 - mse: 7.9061 - val_loss: 10.1658 - val_mse: 10.1658 - 30ms/epoch - 10ms/step\n",
      "Epoch 25/200\n",
      "3/3 - 0s - loss: 7.4489 - mse: 7.4489 - val_loss: 10.0701 - val_mse: 10.0701 - 30ms/epoch - 10ms/step\n",
      "Epoch 26/200\n",
      "3/3 - 0s - loss: 6.7467 - mse: 6.7467 - val_loss: 9.9853 - val_mse: 9.9853 - 29ms/epoch - 10ms/step\n",
      "Epoch 27/200\n",
      "3/3 - 0s - loss: 7.2357 - mse: 7.2357 - val_loss: 9.9225 - val_mse: 9.9225 - 29ms/epoch - 10ms/step\n",
      "Epoch 28/200\n",
      "3/3 - 0s - loss: 6.3643 - mse: 6.3643 - val_loss: 9.8566 - val_mse: 9.8566 - 30ms/epoch - 10ms/step\n",
      "Epoch 29/200\n",
      "3/3 - 0s - loss: 6.3255 - mse: 6.3255 - val_loss: 9.8086 - val_mse: 9.8086 - 29ms/epoch - 10ms/step\n",
      "Epoch 30/200\n",
      "3/3 - 0s - loss: 6.1727 - mse: 6.1727 - val_loss: 9.7588 - val_mse: 9.7588 - 28ms/epoch - 9ms/step\n",
      "Epoch 31/200\n",
      "3/3 - 0s - loss: 5.6194 - mse: 5.6194 - val_loss: 9.6849 - val_mse: 9.6849 - 30ms/epoch - 10ms/step\n",
      "Epoch 32/200\n",
      "3/3 - 0s - loss: 5.6244 - mse: 5.6244 - val_loss: 9.6070 - val_mse: 9.6070 - 28ms/epoch - 9ms/step\n",
      "Epoch 33/200\n",
      "3/3 - 0s - loss: 5.1212 - mse: 5.1212 - val_loss: 9.5267 - val_mse: 9.5267 - 29ms/epoch - 10ms/step\n",
      "Epoch 34/200\n",
      "3/3 - 0s - loss: 4.8689 - mse: 4.8689 - val_loss: 9.4267 - val_mse: 9.4267 - 29ms/epoch - 10ms/step\n",
      "Epoch 35/200\n",
      "3/3 - 0s - loss: 5.1843 - mse: 5.1843 - val_loss: 9.3175 - val_mse: 9.3175 - 28ms/epoch - 9ms/step\n",
      "Epoch 36/200\n",
      "3/3 - 0s - loss: 5.1251 - mse: 5.1251 - val_loss: 9.1974 - val_mse: 9.1974 - 29ms/epoch - 10ms/step\n",
      "Epoch 37/200\n",
      "3/3 - 0s - loss: 4.6013 - mse: 4.6013 - val_loss: 9.1006 - val_mse: 9.1006 - 28ms/epoch - 9ms/step\n",
      "Epoch 38/200\n",
      "3/3 - 0s - loss: 4.6748 - mse: 4.6748 - val_loss: 9.0095 - val_mse: 9.0095 - 29ms/epoch - 10ms/step\n",
      "Epoch 39/200\n",
      "3/3 - 0s - loss: 4.4968 - mse: 4.4968 - val_loss: 8.9320 - val_mse: 8.9320 - 29ms/epoch - 10ms/step\n",
      "Epoch 40/200\n",
      "3/3 - 0s - loss: 4.5876 - mse: 4.5876 - val_loss: 8.8637 - val_mse: 8.8637 - 29ms/epoch - 10ms/step\n",
      "Epoch 41/200\n",
      "3/3 - 0s - loss: 4.1380 - mse: 4.1380 - val_loss: 8.8210 - val_mse: 8.8210 - 28ms/epoch - 9ms/step\n",
      "Epoch 42/200\n",
      "3/3 - 0s - loss: 4.4719 - mse: 4.4719 - val_loss: 8.7617 - val_mse: 8.7617 - 28ms/epoch - 9ms/step\n",
      "Epoch 43/200\n",
      "3/3 - 0s - loss: 4.2617 - mse: 4.2617 - val_loss: 8.7042 - val_mse: 8.7042 - 28ms/epoch - 9ms/step\n",
      "Epoch 44/200\n",
      "3/3 - 0s - loss: 4.1160 - mse: 4.1160 - val_loss: 8.6508 - val_mse: 8.6508 - 29ms/epoch - 10ms/step\n",
      "Epoch 45/200\n",
      "3/3 - 0s - loss: 3.7753 - mse: 3.7753 - val_loss: 8.6021 - val_mse: 8.6021 - 29ms/epoch - 10ms/step\n",
      "Epoch 46/200\n",
      "3/3 - 0s - loss: 3.9983 - mse: 3.9983 - val_loss: 8.5403 - val_mse: 8.5403 - 29ms/epoch - 10ms/step\n",
      "Epoch 47/200\n",
      "3/3 - 0s - loss: 4.3682 - mse: 4.3682 - val_loss: 8.4897 - val_mse: 8.4897 - 29ms/epoch - 10ms/step\n",
      "Epoch 48/200\n",
      "3/3 - 0s - loss: 4.2657 - mse: 4.2657 - val_loss: 8.4306 - val_mse: 8.4306 - 32ms/epoch - 11ms/step\n",
      "Epoch 49/200\n",
      "3/3 - 0s - loss: 3.5813 - mse: 3.5813 - val_loss: 8.3682 - val_mse: 8.3682 - 29ms/epoch - 10ms/step\n",
      "Epoch 50/200\n",
      "3/3 - 0s - loss: 3.7113 - mse: 3.7113 - val_loss: 8.3084 - val_mse: 8.3084 - 30ms/epoch - 10ms/step\n",
      "Epoch 51/200\n",
      "3/3 - 0s - loss: 3.6273 - mse: 3.6273 - val_loss: 8.2486 - val_mse: 8.2486 - 29ms/epoch - 10ms/step\n",
      "Epoch 52/200\n",
      "3/3 - 0s - loss: 3.4218 - mse: 3.4218 - val_loss: 8.1953 - val_mse: 8.1953 - 28ms/epoch - 9ms/step\n",
      "Epoch 53/200\n",
      "3/3 - 0s - loss: 3.5573 - mse: 3.5573 - val_loss: 8.1461 - val_mse: 8.1461 - 28ms/epoch - 9ms/step\n",
      "Epoch 54/200\n",
      "3/3 - 0s - loss: 3.7831 - mse: 3.7831 - val_loss: 8.0864 - val_mse: 8.0864 - 31ms/epoch - 10ms/step\n",
      "Epoch 55/200\n",
      "3/3 - 0s - loss: 4.2599 - mse: 4.2599 - val_loss: 8.0410 - val_mse: 8.0410 - 29ms/epoch - 10ms/step\n",
      "Epoch 56/200\n",
      "3/3 - 0s - loss: 3.7899 - mse: 3.7899 - val_loss: 8.0047 - val_mse: 8.0047 - 29ms/epoch - 10ms/step\n",
      "Epoch 57/200\n",
      "3/3 - 0s - loss: 3.3796 - mse: 3.3796 - val_loss: 7.9601 - val_mse: 7.9601 - 28ms/epoch - 9ms/step\n",
      "Epoch 58/200\n",
      "3/3 - 0s - loss: 3.5668 - mse: 3.5668 - val_loss: 7.9160 - val_mse: 7.9160 - 28ms/epoch - 9ms/step\n",
      "Epoch 59/200\n",
      "3/3 - 0s - loss: 3.4612 - mse: 3.4612 - val_loss: 7.8452 - val_mse: 7.8452 - 28ms/epoch - 9ms/step\n",
      "Epoch 60/200\n",
      "3/3 - 0s - loss: 3.4078 - mse: 3.4078 - val_loss: 7.7899 - val_mse: 7.7899 - 29ms/epoch - 10ms/step\n",
      "Epoch 61/200\n",
      "3/3 - 0s - loss: 3.2945 - mse: 3.2945 - val_loss: 7.7501 - val_mse: 7.7501 - 30ms/epoch - 10ms/step\n",
      "Epoch 62/200\n",
      "3/3 - 0s - loss: 3.3835 - mse: 3.3835 - val_loss: 7.7174 - val_mse: 7.7174 - 29ms/epoch - 10ms/step\n",
      "Epoch 63/200\n",
      "3/3 - 0s - loss: 3.6173 - mse: 3.6173 - val_loss: 7.6844 - val_mse: 7.6844 - 28ms/epoch - 9ms/step\n",
      "Epoch 64/200\n",
      "3/3 - 0s - loss: 3.2651 - mse: 3.2651 - val_loss: 7.6659 - val_mse: 7.6659 - 28ms/epoch - 9ms/step\n",
      "Epoch 65/200\n",
      "3/3 - 0s - loss: 3.8958 - mse: 3.8958 - val_loss: 7.6567 - val_mse: 7.6567 - 29ms/epoch - 10ms/step\n",
      "Epoch 66/200\n",
      "3/3 - 0s - loss: 3.8415 - mse: 3.8415 - val_loss: 7.6282 - val_mse: 7.6282 - 31ms/epoch - 10ms/step\n",
      "Epoch 67/200\n",
      "3/3 - 0s - loss: 3.4407 - mse: 3.4407 - val_loss: 7.5752 - val_mse: 7.5752 - 29ms/epoch - 10ms/step\n",
      "Epoch 68/200\n",
      "3/3 - 0s - loss: 3.4858 - mse: 3.4858 - val_loss: 7.5183 - val_mse: 7.5183 - 29ms/epoch - 10ms/step\n",
      "Epoch 69/200\n",
      "3/3 - 0s - loss: 3.4611 - mse: 3.4611 - val_loss: 7.4645 - val_mse: 7.4645 - 29ms/epoch - 10ms/step\n",
      "Epoch 70/200\n",
      "3/3 - 0s - loss: 3.6886 - mse: 3.6886 - val_loss: 7.4346 - val_mse: 7.4346 - 30ms/epoch - 10ms/step\n",
      "Epoch 71/200\n",
      "3/3 - 0s - loss: 3.4899 - mse: 3.4899 - val_loss: 7.4106 - val_mse: 7.4106 - 29ms/epoch - 10ms/step\n",
      "Epoch 72/200\n",
      "3/3 - 0s - loss: 3.3497 - mse: 3.3497 - val_loss: 7.3917 - val_mse: 7.3917 - 29ms/epoch - 10ms/step\n",
      "Epoch 73/200\n",
      "3/3 - 0s - loss: 3.2859 - mse: 3.2859 - val_loss: 7.3810 - val_mse: 7.3810 - 30ms/epoch - 10ms/step\n",
      "Epoch 74/200\n",
      "3/3 - 0s - loss: 3.3591 - mse: 3.3591 - val_loss: 7.3791 - val_mse: 7.3791 - 29ms/epoch - 10ms/step\n",
      "Epoch 75/200\n",
      "3/3 - 0s - loss: 3.1701 - mse: 3.1701 - val_loss: 7.3538 - val_mse: 7.3538 - 30ms/epoch - 10ms/step\n",
      "Epoch 76/200\n",
      "3/3 - 0s - loss: 3.4328 - mse: 3.4328 - val_loss: 7.3253 - val_mse: 7.3253 - 29ms/epoch - 10ms/step\n",
      "Epoch 77/200\n",
      "3/3 - 0s - loss: 3.1781 - mse: 3.1781 - val_loss: 7.2945 - val_mse: 7.2945 - 30ms/epoch - 10ms/step\n",
      "Epoch 78/200\n",
      "3/3 - 0s - loss: 3.1208 - mse: 3.1208 - val_loss: 7.2631 - val_mse: 7.2631 - 30ms/epoch - 10ms/step\n",
      "Epoch 79/200\n",
      "3/3 - 0s - loss: 3.0650 - mse: 3.0650 - val_loss: 7.2088 - val_mse: 7.2088 - 30ms/epoch - 10ms/step\n",
      "Epoch 80/200\n",
      "3/3 - 0s - loss: 2.9799 - mse: 2.9799 - val_loss: 7.1748 - val_mse: 7.1748 - 30ms/epoch - 10ms/step\n",
      "Epoch 81/200\n",
      "3/3 - 0s - loss: 3.2046 - mse: 3.2046 - val_loss: 7.1582 - val_mse: 7.1582 - 29ms/epoch - 10ms/step\n",
      "Epoch 82/200\n",
      "3/3 - 0s - loss: 2.8824 - mse: 2.8824 - val_loss: 7.1232 - val_mse: 7.1232 - 29ms/epoch - 10ms/step\n",
      "Epoch 83/200\n",
      "3/3 - 0s - loss: 3.2737 - mse: 3.2737 - val_loss: 7.0796 - val_mse: 7.0796 - 30ms/epoch - 10ms/step\n",
      "Epoch 84/200\n",
      "3/3 - 0s - loss: 3.1984 - mse: 3.1984 - val_loss: 7.0390 - val_mse: 7.0390 - 31ms/epoch - 10ms/step\n",
      "Epoch 85/200\n",
      "3/3 - 0s - loss: 2.9071 - mse: 2.9071 - val_loss: 7.0159 - val_mse: 7.0159 - 41ms/epoch - 14ms/step\n",
      "Epoch 86/200\n",
      "3/3 - 0s - loss: 3.1085 - mse: 3.1085 - val_loss: 7.0013 - val_mse: 7.0013 - 30ms/epoch - 10ms/step\n",
      "Epoch 87/200\n",
      "3/3 - 0s - loss: 3.2530 - mse: 3.2530 - val_loss: 7.0008 - val_mse: 7.0008 - 30ms/epoch - 10ms/step\n",
      "Epoch 88/200\n",
      "3/3 - 0s - loss: 3.1399 - mse: 3.1399 - val_loss: 7.0107 - val_mse: 7.0107 - 27ms/epoch - 9ms/step\n",
      "Epoch 89/200\n",
      "3/3 - 0s - loss: 2.9386 - mse: 2.9386 - val_loss: 6.9961 - val_mse: 6.9961 - 29ms/epoch - 10ms/step\n",
      "Epoch 90/200\n",
      "3/3 - 0s - loss: 2.8990 - mse: 2.8990 - val_loss: 6.9490 - val_mse: 6.9490 - 30ms/epoch - 10ms/step\n",
      "Epoch 91/200\n",
      "3/3 - 0s - loss: 2.9506 - mse: 2.9506 - val_loss: 6.8865 - val_mse: 6.8865 - 30ms/epoch - 10ms/step\n",
      "Epoch 92/200\n",
      "3/3 - 0s - loss: 2.9732 - mse: 2.9732 - val_loss: 6.8294 - val_mse: 6.8294 - 32ms/epoch - 11ms/step\n",
      "Epoch 93/200\n",
      "3/3 - 0s - loss: 3.2074 - mse: 3.2074 - val_loss: 6.7891 - val_mse: 6.7891 - 30ms/epoch - 10ms/step\n",
      "Epoch 94/200\n",
      "3/3 - 0s - loss: 3.0086 - mse: 3.0086 - val_loss: 6.7735 - val_mse: 6.7735 - 29ms/epoch - 10ms/step\n",
      "Epoch 95/200\n",
      "3/3 - 0s - loss: 3.1481 - mse: 3.1481 - val_loss: 6.7599 - val_mse: 6.7599 - 35ms/epoch - 12ms/step\n",
      "Epoch 96/200\n",
      "3/3 - 0s - loss: 2.9544 - mse: 2.9544 - val_loss: 6.7662 - val_mse: 6.7662 - 30ms/epoch - 10ms/step\n",
      "Epoch 97/200\n",
      "3/3 - 0s - loss: 2.9060 - mse: 2.9060 - val_loss: 6.7648 - val_mse: 6.7648 - 26ms/epoch - 9ms/step\n",
      "Epoch 98/200\n",
      "3/3 - 0s - loss: 2.7592 - mse: 2.7592 - val_loss: 6.7638 - val_mse: 6.7638 - 27ms/epoch - 9ms/step\n",
      "Epoch 99/200\n",
      "3/3 - 0s - loss: 2.8057 - mse: 2.8057 - val_loss: 6.7583 - val_mse: 6.7583 - 30ms/epoch - 10ms/step\n",
      "Epoch 100/200\n",
      "3/3 - 0s - loss: 2.7923 - mse: 2.7923 - val_loss: 6.7326 - val_mse: 6.7326 - 30ms/epoch - 10ms/step\n",
      "Epoch 101/200\n",
      "3/3 - 0s - loss: 2.9527 - mse: 2.9527 - val_loss: 6.7186 - val_mse: 6.7186 - 31ms/epoch - 10ms/step\n",
      "Epoch 102/200\n",
      "3/3 - 0s - loss: 2.9895 - mse: 2.9895 - val_loss: 6.7053 - val_mse: 6.7053 - 30ms/epoch - 10ms/step\n",
      "Epoch 103/200\n",
      "3/3 - 0s - loss: 2.9521 - mse: 2.9521 - val_loss: 6.6774 - val_mse: 6.6774 - 30ms/epoch - 10ms/step\n",
      "Epoch 104/200\n",
      "3/3 - 0s - loss: 3.0374 - mse: 3.0374 - val_loss: 6.6756 - val_mse: 6.6756 - 29ms/epoch - 10ms/step\n",
      "Epoch 105/200\n",
      "3/3 - 0s - loss: 2.8898 - mse: 2.8898 - val_loss: 6.6485 - val_mse: 6.6485 - 30ms/epoch - 10ms/step\n",
      "Epoch 106/200\n",
      "3/3 - 0s - loss: 2.8725 - mse: 2.8725 - val_loss: 6.6035 - val_mse: 6.6035 - 33ms/epoch - 11ms/step\n",
      "Epoch 107/200\n",
      "3/3 - 0s - loss: 2.8380 - mse: 2.8380 - val_loss: 6.5701 - val_mse: 6.5701 - 34ms/epoch - 11ms/step\n",
      "Epoch 108/200\n",
      "3/3 - 0s - loss: 2.7090 - mse: 2.7090 - val_loss: 6.5245 - val_mse: 6.5245 - 33ms/epoch - 11ms/step\n",
      "Epoch 109/200\n",
      "3/3 - 0s - loss: 2.9571 - mse: 2.9571 - val_loss: 6.4894 - val_mse: 6.4894 - 31ms/epoch - 10ms/step\n",
      "Epoch 110/200\n",
      "3/3 - 0s - loss: 2.9919 - mse: 2.9919 - val_loss: 6.4370 - val_mse: 6.4370 - 30ms/epoch - 10ms/step\n",
      "Epoch 111/200\n",
      "3/3 - 0s - loss: 2.8061 - mse: 2.8061 - val_loss: 6.3906 - val_mse: 6.3906 - 29ms/epoch - 10ms/step\n",
      "Epoch 112/200\n",
      "3/3 - 0s - loss: 2.9462 - mse: 2.9462 - val_loss: 6.3785 - val_mse: 6.3785 - 30ms/epoch - 10ms/step\n",
      "Epoch 113/200\n",
      "3/3 - 0s - loss: 2.6618 - mse: 2.6618 - val_loss: 6.3604 - val_mse: 6.3604 - 32ms/epoch - 11ms/step\n",
      "Epoch 114/200\n",
      "3/3 - 0s - loss: 2.8098 - mse: 2.8098 - val_loss: 6.3567 - val_mse: 6.3567 - 29ms/epoch - 10ms/step\n",
      "Epoch 115/200\n",
      "3/3 - 0s - loss: 2.9918 - mse: 2.9918 - val_loss: 6.3576 - val_mse: 6.3576 - 27ms/epoch - 9ms/step\n",
      "Epoch 116/200\n",
      "3/3 - 0s - loss: 2.6420 - mse: 2.6420 - val_loss: 6.3519 - val_mse: 6.3519 - 28ms/epoch - 9ms/step\n",
      "Epoch 117/200\n",
      "3/3 - 0s - loss: 2.7645 - mse: 2.7645 - val_loss: 6.3666 - val_mse: 6.3666 - 27ms/epoch - 9ms/step\n",
      "Epoch 118/200\n",
      "3/3 - 0s - loss: 3.0172 - mse: 3.0172 - val_loss: 6.3700 - val_mse: 6.3700 - 27ms/epoch - 9ms/step\n",
      "Epoch 119/200\n",
      "3/3 - 0s - loss: 2.6337 - mse: 2.6337 - val_loss: 6.3554 - val_mse: 6.3554 - 26ms/epoch - 9ms/step\n",
      "Epoch 120/200\n",
      "3/3 - 0s - loss: 2.8830 - mse: 2.8830 - val_loss: 6.3534 - val_mse: 6.3534 - 27ms/epoch - 9ms/step\n",
      "Epoch 121/200\n",
      "3/3 - 0s - loss: 2.7024 - mse: 2.7024 - val_loss: 6.3213 - val_mse: 6.3213 - 29ms/epoch - 10ms/step\n",
      "Epoch 122/200\n",
      "3/3 - 0s - loss: 2.7394 - mse: 2.7394 - val_loss: 6.2897 - val_mse: 6.2897 - 29ms/epoch - 10ms/step\n",
      "Epoch 123/200\n",
      "3/3 - 0s - loss: 2.5078 - mse: 2.5078 - val_loss: 6.2502 - val_mse: 6.2502 - 29ms/epoch - 10ms/step\n",
      "Epoch 124/200\n",
      "3/3 - 0s - loss: 2.9140 - mse: 2.9140 - val_loss: 6.2247 - val_mse: 6.2247 - 30ms/epoch - 10ms/step\n",
      "Epoch 125/200\n",
      "3/3 - 0s - loss: 2.7442 - mse: 2.7442 - val_loss: 6.2111 - val_mse: 6.2111 - 29ms/epoch - 10ms/step\n",
      "Epoch 126/200\n",
      "3/3 - 0s - loss: 2.5873 - mse: 2.5873 - val_loss: 6.1945 - val_mse: 6.1945 - 32ms/epoch - 11ms/step\n",
      "Epoch 127/200\n",
      "3/3 - 0s - loss: 2.7505 - mse: 2.7505 - val_loss: 6.1905 - val_mse: 6.1905 - 30ms/epoch - 10ms/step\n",
      "Epoch 128/200\n",
      "3/3 - 0s - loss: 2.6181 - mse: 2.6181 - val_loss: 6.1718 - val_mse: 6.1718 - 31ms/epoch - 10ms/step\n",
      "Epoch 129/200\n",
      "3/3 - 0s - loss: 2.6365 - mse: 2.6365 - val_loss: 6.1305 - val_mse: 6.1305 - 30ms/epoch - 10ms/step\n",
      "Epoch 130/200\n",
      "3/3 - 0s - loss: 2.8024 - mse: 2.8024 - val_loss: 6.1241 - val_mse: 6.1241 - 30ms/epoch - 10ms/step\n",
      "Epoch 131/200\n",
      "3/3 - 0s - loss: 2.4710 - mse: 2.4710 - val_loss: 6.1147 - val_mse: 6.1147 - 29ms/epoch - 10ms/step\n",
      "Epoch 132/200\n",
      "3/3 - 0s - loss: 2.5339 - mse: 2.5339 - val_loss: 6.0995 - val_mse: 6.0995 - 33ms/epoch - 11ms/step\n",
      "Epoch 133/200\n",
      "3/3 - 0s - loss: 2.6879 - mse: 2.6879 - val_loss: 6.1177 - val_mse: 6.1177 - 26ms/epoch - 9ms/step\n",
      "Epoch 134/200\n",
      "3/3 - 0s - loss: 2.7629 - mse: 2.7629 - val_loss: 6.1576 - val_mse: 6.1576 - 29ms/epoch - 10ms/step\n",
      "Epoch 135/200\n",
      "3/3 - 0s - loss: 2.5647 - mse: 2.5647 - val_loss: 6.1929 - val_mse: 6.1929 - 27ms/epoch - 9ms/step\n",
      "Epoch 136/200\n",
      "3/3 - 0s - loss: 2.6198 - mse: 2.6198 - val_loss: 6.2263 - val_mse: 6.2263 - 38ms/epoch - 13ms/step\n",
      "Epoch 137/200\n",
      "3/3 - 0s - loss: 2.5151 - mse: 2.5151 - val_loss: 6.2126 - val_mse: 6.2126 - 27ms/epoch - 9ms/step\n",
      "Epoch 138/200\n",
      "3/3 - 0s - loss: 2.4571 - mse: 2.4571 - val_loss: 6.2281 - val_mse: 6.2281 - 32ms/epoch - 11ms/step\n",
      "Epoch 139/200\n",
      "3/3 - 0s - loss: 2.5052 - mse: 2.5052 - val_loss: 6.2189 - val_mse: 6.2189 - 28ms/epoch - 9ms/step\n",
      "Epoch 140/200\n",
      "3/3 - 0s - loss: 2.7578 - mse: 2.7578 - val_loss: 6.1952 - val_mse: 6.1952 - 28ms/epoch - 9ms/step\n",
      "Epoch 141/200\n",
      "3/3 - 0s - loss: 2.6404 - mse: 2.6404 - val_loss: 6.1985 - val_mse: 6.1985 - 28ms/epoch - 9ms/step\n",
      "Epoch 142/200\n",
      "3/3 - 0s - loss: 2.6242 - mse: 2.6242 - val_loss: 6.2035 - val_mse: 6.2035 - 28ms/epoch - 9ms/step\n",
      "Epoch 143/200\n",
      "3/3 - 0s - loss: 2.7207 - mse: 2.7207 - val_loss: 6.1798 - val_mse: 6.1798 - 26ms/epoch - 9ms/step\n",
      "Epoch 144/200\n",
      "3/3 - 0s - loss: 2.5421 - mse: 2.5421 - val_loss: 6.1430 - val_mse: 6.1430 - 26ms/epoch - 9ms/step\n",
      "Epoch 145/200\n",
      "3/3 - 0s - loss: 2.4063 - mse: 2.4063 - val_loss: 6.1216 - val_mse: 6.1216 - 26ms/epoch - 9ms/step\n",
      "Epoch 146/200\n",
      "3/3 - 0s - loss: 2.5307 - mse: 2.5307 - val_loss: 6.1113 - val_mse: 6.1113 - 27ms/epoch - 9ms/step\n",
      "Epoch 147/200\n",
      "3/3 - 0s - loss: 2.3151 - mse: 2.3151 - val_loss: 6.0998 - val_mse: 6.0998 - 26ms/epoch - 9ms/step\n",
      "Epoch 148/200\n",
      "3/3 - 0s - loss: 2.3343 - mse: 2.3343 - val_loss: 6.1155 - val_mse: 6.1155 - 26ms/epoch - 9ms/step\n",
      "Epoch 149/200\n",
      "3/3 - 0s - loss: 2.4999 - mse: 2.4999 - val_loss: 6.1472 - val_mse: 6.1472 - 27ms/epoch - 9ms/step\n",
      "Epoch 150/200\n",
      "3/3 - 0s - loss: 2.4804 - mse: 2.4804 - val_loss: 6.1675 - val_mse: 6.1675 - 48ms/epoch - 16ms/step\n",
      "Epoch 151/200\n",
      "3/3 - 0s - loss: 2.5140 - mse: 2.5140 - val_loss: 6.1688 - val_mse: 6.1688 - 339ms/epoch - 113ms/step\n",
      "Epoch 152/200\n",
      "3/3 - 0s - loss: 2.7448 - mse: 2.7448 - val_loss: 6.1526 - val_mse: 6.1526 - 89ms/epoch - 30ms/step\n",
      "Epoch 153/200\n",
      "3/3 - 0s - loss: 2.3662 - mse: 2.3662 - val_loss: 6.1656 - val_mse: 6.1656 - 36ms/epoch - 12ms/step\n",
      "Epoch 154/200\n",
      "3/3 - 0s - loss: 2.6240 - mse: 2.6240 - val_loss: 6.1683 - val_mse: 6.1683 - 35ms/epoch - 12ms/step\n",
      "Epoch 155/200\n",
      "3/3 - 0s - loss: 2.5279 - mse: 2.5279 - val_loss: 6.1639 - val_mse: 6.1639 - 34ms/epoch - 11ms/step\n",
      "Epoch 156/200\n",
      "3/3 - 0s - loss: 2.4502 - mse: 2.4502 - val_loss: 6.1637 - val_mse: 6.1637 - 28ms/epoch - 9ms/step\n",
      "Epoch 157/200\n",
      "3/3 - 0s - loss: 2.7175 - mse: 2.7175 - val_loss: 6.1728 - val_mse: 6.1728 - 29ms/epoch - 10ms/step\n"
     ]
    },
    {
     "name": "stderr",
     "output_type": "stream",
     "text": [
      "2022-08-05 15:39:31.685529: I tensorflow/core/grappler/optimizers/custom_graph_optimizer_registry.cc:113] Plugin optimizer for device_type GPU is enabled.\n"
     ]
    }
   ],
   "source": [
    "# Select number of hidden units\n",
    "layer_1_units = 32\n",
    "layer_2_units = 32\n",
    "# Select whether to batch normalize\n",
    "batch_normalization = True\n",
    "\n",
    "# Build and compile model\n",
    "mlp = build_mlp(X_train,\n",
    "                  layer_1_units = layer_1_units,\n",
    "                  layer_2_units = layer_2_units,\n",
    "                  batch_normalization = batch_normalization,\n",
    "                  **compile_hp)\n",
    "# Fit model\n",
    "history = mlp.fit(X_train, y_train, **fit_hp)\n",
    "\n",
    "# Get string to save model details with\n",
    "save_name  = f\"neural_network-{layer_1_units}_{layer_2_units}\"\n",
    "if batch_normalization:\n",
    "    save_name = save_name + \"_bn\"\n",
    "\n",
    "# Evaluate model, getting test and train RMSE\n",
    "results = evaluate_model(X_train, X_test,\n",
    "                         y_train, y_test,\n",
    "                         mlp, save_name)\n",
    "# Store results\n",
    "all_results = pd.concat([all_results, results])"
   ]
  },
  {
   "cell_type": "markdown",
   "id": "02747447",
   "metadata": {},
   "source": [
    "## LGBM"
   ]
  },
  {
   "cell_type": "code",
   "execution_count": 34,
   "id": "4c728573",
   "metadata": {},
   "outputs": [],
   "source": [
    "# Params to compile LGBM model with\n",
    "fixed_params = {\n",
    "        'objective': 'regression',\n",
    "        'metric': \"rmse\",  \n",
    "        'verbosity': -1,\n",
    "}"
   ]
  },
  {
   "cell_type": "code",
   "execution_count": 35,
   "id": "b2812b5d",
   "metadata": {},
   "outputs": [],
   "source": [
    "def objective(trial, X, y):\n",
    "    \"\"\"\n",
    "    Wrapper function to work with Optuna trial objects, \n",
    "    enabling Hyperband hyperparameter search.\n",
    "    \"\"\"   \n",
    "    # Suggest hyperparams to test using Optuna trial object.\n",
    "    param = {**fixed_params,\n",
    "        'boosting_type': 'gbdt',\n",
    "        'num_leaves': trial.suggest_int('num_leaves', 2, 3000, step = 20),\n",
    "        'feature_fraction': trial.suggest_float('feature_fraction', 0.2, 0.99, step = 0.05),\n",
    "        'bagging_fraction': trial.suggest_float('bagging_fraction', 0.2, 0.99, step = 0.05),\n",
    "        'bagging_freq': trial.suggest_int('bagging_freq', 1, 7),\n",
    "        'min_child_samples': trial.suggest_int('min_child_samples', 5, 100),\n",
    "        \"n_estimators\": trial.suggest_int(\"n_estimators\", 200, 5000),\n",
    "        \"learning_rate\": trial.suggest_float(\"learning_rate\", 0.01, 0.3),\n",
    "        \"max_depth\": trial.suggest_int(\"max_depth\", 3, 12),\n",
    "        \"min_data_in_leaf\": trial.suggest_int(\"min_data_in_leaf\", 5, 2000, step=5),\n",
    "        \"lambda_l1\": trial.suggest_float(\"lambda_l1\", 1e-8, 10.0, log=True),\n",
    "        \"lambda_l2\": trial.suggest_float(\"lambda_l2\", 1e-8, 10.0, log=True),\n",
    "        \"min_gain_to_split\": trial.suggest_float(\"min_gain_to_split\", 0, 10),\n",
    "        \"max_bin\": trial.suggest_int(\"max_bin\", 200, 300),\n",
    "    }\n",
    "    \n",
    "    # Create cv object\n",
    "    cv = StratifiedKFold(n_splits = 5, shuffle = True)\n",
    "    # Make empty array to store cv RMSE scores in\n",
    "    cv_scores = np.empty(5)\n",
    "    \n",
    "    # Split into K train and validation sets and iterate through them\n",
    "    for idx, (train_idx, test_idx) in enumerate(cv.split(X, y)):\n",
    "        # Split into training and validation CV sets\n",
    "        X_train_cv, X_test_cv = X[train_idx], X[test_idx]\n",
    "        y_train_cv, y_test_cv = y[train_idx], y[test_idx]\n",
    "\n",
    "        # Convert data to proper LGBM format\n",
    "        train_data = lgb.Dataset(X_train_cv, label = y_train_cv,\n",
    "                                 categorical_feature = [0,1,2,3,4,6,7,8])\n",
    "        val_data = lgb.Dataset(X_test_cv, label = y_test_cv, \n",
    "                               categorical_feature = [0,1,2,3,4,6,7,8],\n",
    "                              reference = train_data)\n",
    "        \n",
    "        # Make callbacks to prevent trialling hyperparams that are obviously bad\n",
    "        callbacks = [\n",
    "            LightGBMPruningCallback(trial, metric = \"rmse\"),\n",
    "                     # Callback to reduce model validation performance messages\n",
    "                    lgb.log_evaluation(period = 100),\n",
    "                     # Early stoppping to prevent overfitting training data\n",
    "                    lgb.early_stopping(100)]\n",
    "\n",
    "        # Training the model\n",
    "        model = lgb.train(params = param,  train_set = train_data,\n",
    "                          valid_sets = val_data,   \n",
    "                          callbacks = callbacks,\n",
    "                         )\n",
    "    \n",
    "        # Get predictions\n",
    "        preds = model.predict(X_test_cv)\n",
    "        # Calculate RMSE\n",
    "        cv_scores[idx] = mean_squared_error(y_test_cv, preds, squared = False)\n",
    "\n",
    "    return np.mean(cv_scores)"
   ]
  },
  {
   "cell_type": "code",
   "execution_count": 36,
   "id": "86154180",
   "metadata": {},
   "outputs": [],
   "source": [
    "%%capture my_study\n",
    "# Above line magic hides lengthy output, but stores into first_round if you want to look\n",
    "\n",
    "# Create Optuna study to do CV hyperparameter search\n",
    "study = optuna.create_study(direction = \"minimize\", # minimizing RMSE\n",
    "                            study_name = \"LGBM Classifier\",\n",
    "                           pruner = optuna.pruners.HyperbandPruner())\n",
    "func = lambda trial: objective(trial, X = X_train, y = y_train)\n",
    "study.optimize(func, n_trials = 200)"
   ]
  },
  {
   "cell_type": "code",
   "execution_count": 37,
   "id": "8387684e",
   "metadata": {},
   "outputs": [
    {
     "name": "stdout",
     "output_type": "stream",
     "text": [
      "[LightGBM] [Warning] min_data_in_leaf is set=10, min_child_samples=18 will be ignored. Current value: min_data_in_leaf=10\n"
     ]
    },
    {
     "name": "stderr",
     "output_type": "stream",
     "text": [
      "/Users/louis/miniforge3/envs/skywalker/lib/python3.9/site-packages/lightgbm/basic.py:2065: UserWarning: Using categorical_feature in Dataset.\n",
      "  _log_warning('Using categorical_feature in Dataset.')\n"
     ]
    }
   ],
   "source": [
    "# Run best model and evaluate\n",
    "# Convert data to proper LGBM format\n",
    "train_data = lgb.Dataset(X_train, label = y_train,\n",
    "                         categorical_feature = [0,1,2,3,4,6,7,8])\n",
    "\n",
    "# Callback to reduce model messages\n",
    "callbacks = [lgb.log_evaluation(period = 100)]\n",
    "\n",
    "# Training the model using the best params identified in study\n",
    "lgbm = lgb.train(params = {**fixed_params, **study.best_params},\n",
    "                  train_set = train_data, \n",
    "                  callbacks = callbacks,\n",
    "                 )\n",
    "\n",
    "# Evaluate model, getting test and train RMSE\n",
    "results = evaluate_model(X_train, X_test,\n",
    "                         y_train, y_test,\n",
    "                         lgbm, \"lgbm\")\n",
    "# Store results\n",
    "all_results = pd.concat([all_results, results])"
   ]
  },
  {
   "cell_type": "markdown",
   "id": "52da8826",
   "metadata": {},
   "source": [
    "## Support Vector Regression"
   ]
  },
  {
   "cell_type": "markdown",
   "id": "43bccd0b",
   "metadata": {},
   "source": [
    "### RBF SVR"
   ]
  },
  {
   "cell_type": "code",
   "execution_count": 38,
   "id": "038a816e",
   "metadata": {},
   "outputs": [],
   "source": [
    "# Create model\n",
    "rbf_svr = SVR()\n",
    "# Fit\n",
    "rbf_svr.fit(X_train, y_train)\n",
    "# Evaluate model, getting test and train RMSE\n",
    "results = evaluate_model(X_train, X_test,\n",
    "                         y_train, y_test,\n",
    "                         rbf_svr, \"svm_rbf\")\n",
    "# Store results\n",
    "all_results = pd.concat([all_results, results])"
   ]
  },
  {
   "cell_type": "markdown",
   "id": "3362182f",
   "metadata": {},
   "source": [
    "### LinearSVR"
   ]
  },
  {
   "cell_type": "code",
   "execution_count": 39,
   "id": "863ae93e",
   "metadata": {},
   "outputs": [
    {
     "name": "stderr",
     "output_type": "stream",
     "text": [
      "/Users/louis/miniforge3/envs/skywalker/lib/python3.9/site-packages/sklearn/svm/_base.py:1206: ConvergenceWarning: Liblinear failed to converge, increase the number of iterations.\n",
      "  warnings.warn(\n"
     ]
    }
   ],
   "source": [
    "# Create model\n",
    "epsilon = 0.499\n",
    "linear_svr = LinearSVR(epsilon = epsilon)\n",
    "# Fit\n",
    "linear_svr.fit(X_train, y_train)\n",
    "# Evaluate model, getting test and train RMSE\n",
    "results = evaluate_model(X_train, X_test,\n",
    "                         y_train, y_test,\n",
    "                         linear_svr, f\"svm_linear-{epsilon}\")\n",
    "# Store results\n",
    "all_results = pd.concat([all_results, results])"
   ]
  },
  {
   "cell_type": "markdown",
   "id": "f55e57ab",
   "metadata": {},
   "source": [
    "# Analysing Results / Using Best Model"
   ]
  },
  {
   "cell_type": "markdown",
   "id": "646dc686",
   "metadata": {},
   "source": [
    "## Make Predictions"
   ]
  },
  {
   "cell_type": "code",
   "execution_count": 40,
   "id": "d5b5a629",
   "metadata": {},
   "outputs": [],
   "source": [
    "# Compare model performances\n",
    "best = all_results.sort_values(\"test_rmse\").head(1)\n",
    "all_results.sort_values(\"test_rmse\")\n",
    "all_results.to_csv(\"model_evaluations.csv\", index = False)"
   ]
  },
  {
   "cell_type": "code",
   "execution_count": 41,
   "id": "d51a1198",
   "metadata": {},
   "outputs": [],
   "source": [
    "# Select best model and it's test RMSE\n",
    "best_model = rbf_svr\n",
    "best_rmse = best.test_rmse"
   ]
  },
  {
   "cell_type": "code",
   "execution_count": 42,
   "id": "c94cc384",
   "metadata": {},
   "outputs": [],
   "source": [
    "# Get treatment in numeric form again\n",
    "treatment = df[~df.centreassessmentgrade.isna()].copy()\n",
    "\n",
    "# Split into labels and features\n",
    "X_treatment = np.array(treatment.iloc[:, :10], dtype = \"float32\")\n",
    "y_treatment = np.array(treatment.grade, dtype = \"float32\")"
   ]
  },
  {
   "cell_type": "code",
   "execution_count": 43,
   "id": "28e6eac8",
   "metadata": {},
   "outputs": [],
   "source": [
    "# Calculate predictions for 2020 year using best model\n",
    "treatment[\"predictions\"] = best_model.predict(X_treatment)\n",
    "# Calculate differences from CAG\n",
    "treatment[\"cag_diff\"] = treatment.centreassessmentgrade - treatment.predictions"
   ]
  },
  {
   "cell_type": "code",
   "execution_count": 44,
   "id": "d88f41b8",
   "metadata": {},
   "outputs": [],
   "source": [
    "# Create quantiles for IDACI and prior attainment\n",
    "quantile_labels = [\"very low\", \"low\", \"medium\", \"high\", \"very high\"]\n",
    "treatment[\"idaci_quantile\"] = pd.qcut(treatment.idaci, \n",
    "                                      q = 5,\n",
    "                                      labels = quantile_labels)\n",
    "treatment[\"attainment_quantile\"] = pd.qcut(treatment.normalisedks2score, \n",
    "                                      q = 5,\n",
    "                                      labels = quantile_labels)\n",
    "# Reconvert categorical cols back into original label form\n",
    "for col in categorical_cols:\n",
    "    # Inverse transform columns\n",
    "    treatment[col] = mapping[col].inverse_transform(treatment[col].values.reshape(-1, 1))\n",
    "    \n",
    "# Create neater labels for certain columns\n",
    "# EAL\n",
    "eal_mappings = {1.0:\"No EAL\", 2.0: \"EAL\"}\n",
    "treatment.eal = treatment.eal.replace(eal_mappings)\n",
    "# FSM\n",
    "fsm_mappings = {0:\"No FSM\", 1: \"FSM\"}\n",
    "treatment.fsm = treatment.fsm.replace(fsm_mappings)"
   ]
  },
  {
   "cell_type": "markdown",
   "id": "41452b70",
   "metadata": {},
   "source": [
    "## Analyse Feature Importance"
   ]
  },
  {
   "cell_type": "code",
   "execution_count": 45,
   "id": "489b7757",
   "metadata": {},
   "outputs": [],
   "source": [
    "import shap"
   ]
  },
  {
   "cell_type": "code",
   "execution_count": 49,
   "id": "0a5d03c3-500f-47e1-a881-61e6b3f1c930",
   "metadata": {},
   "outputs": [
    {
     "data": {
      "text/plain": [
       "Index(['eal', 'gender', 'ethnicity', 'fsm', 'sen', 'idaci', 'jcqtitle', 'tier',\n",
       "       'centretypedesc', 'normalisedks2score'],\n",
       "      dtype='object')"
      ]
     },
     "execution_count": 49,
     "metadata": {},
     "output_type": "execute_result"
    }
   ],
   "source": [
    "df.columns[:-2]"
   ]
  },
  {
   "cell_type": "code",
   "execution_count": 47,
   "id": "ff8fe332-1ad2-4fec-9412-fba210f8c286",
   "metadata": {},
   "outputs": [
    {
     "data": {
      "text/html": [
       "<div>\n",
       "<style scoped>\n",
       "    .dataframe tbody tr th:only-of-type {\n",
       "        vertical-align: middle;\n",
       "    }\n",
       "\n",
       "    .dataframe tbody tr th {\n",
       "        vertical-align: top;\n",
       "    }\n",
       "\n",
       "    .dataframe thead th {\n",
       "        text-align: right;\n",
       "    }\n",
       "</style>\n",
       "<table border=\"1\" class=\"dataframe\">\n",
       "  <thead>\n",
       "    <tr style=\"text-align: right;\">\n",
       "      <th></th>\n",
       "      <th>eal</th>\n",
       "      <th>gender</th>\n",
       "      <th>ethnicity</th>\n",
       "      <th>fsm</th>\n",
       "      <th>sen</th>\n",
       "      <th>idaci</th>\n",
       "      <th>jcqtitle</th>\n",
       "      <th>tier</th>\n",
       "      <th>centretypedesc</th>\n",
       "      <th>normalisedks2score</th>\n",
       "      <th>grade</th>\n",
       "      <th>centreassessmentgrade</th>\n",
       "    </tr>\n",
       "  </thead>\n",
       "  <tbody>\n",
       "    <tr>\n",
       "      <th>0</th>\n",
       "      <td>1.0</td>\n",
       "      <td>0.0</td>\n",
       "      <td>3.0</td>\n",
       "      <td>0.0</td>\n",
       "      <td>1.0</td>\n",
       "      <td>0.12</td>\n",
       "      <td>3.0</td>\n",
       "      <td>1.0</td>\n",
       "      <td>0.0</td>\n",
       "      <td>0.543113</td>\n",
       "      <td>4.0</td>\n",
       "      <td>9.0</td>\n",
       "    </tr>\n",
       "    <tr>\n",
       "      <th>1</th>\n",
       "      <td>1.0</td>\n",
       "      <td>0.0</td>\n",
       "      <td>3.0</td>\n",
       "      <td>0.0</td>\n",
       "      <td>1.0</td>\n",
       "      <td>0.12</td>\n",
       "      <td>7.0</td>\n",
       "      <td>1.0</td>\n",
       "      <td>0.0</td>\n",
       "      <td>0.290575</td>\n",
       "      <td>7.0</td>\n",
       "      <td>8.0</td>\n",
       "    </tr>\n",
       "    <tr>\n",
       "      <th>2</th>\n",
       "      <td>1.0</td>\n",
       "      <td>0.0</td>\n",
       "      <td>3.0</td>\n",
       "      <td>0.0</td>\n",
       "      <td>1.0</td>\n",
       "      <td>0.12</td>\n",
       "      <td>7.0</td>\n",
       "      <td>1.0</td>\n",
       "      <td>5.0</td>\n",
       "      <td>0.321432</td>\n",
       "      <td>4.0</td>\n",
       "      <td>7.0</td>\n",
       "    </tr>\n",
       "    <tr>\n",
       "      <th>3</th>\n",
       "      <td>1.0</td>\n",
       "      <td>0.0</td>\n",
       "      <td>3.0</td>\n",
       "      <td>0.0</td>\n",
       "      <td>1.0</td>\n",
       "      <td>0.12</td>\n",
       "      <td>13.0</td>\n",
       "      <td>1.0</td>\n",
       "      <td>4.0</td>\n",
       "      <td>0.736166</td>\n",
       "      <td>9.0</td>\n",
       "      <td>5.0</td>\n",
       "    </tr>\n",
       "    <tr>\n",
       "      <th>4</th>\n",
       "      <td>1.0</td>\n",
       "      <td>0.0</td>\n",
       "      <td>3.0</td>\n",
       "      <td>0.0</td>\n",
       "      <td>1.0</td>\n",
       "      <td>0.12</td>\n",
       "      <td>7.0</td>\n",
       "      <td>1.0</td>\n",
       "      <td>0.0</td>\n",
       "      <td>0.432596</td>\n",
       "      <td>4.0</td>\n",
       "      <td>9.0</td>\n",
       "    </tr>\n",
       "    <tr>\n",
       "      <th>...</th>\n",
       "      <td>...</td>\n",
       "      <td>...</td>\n",
       "      <td>...</td>\n",
       "      <td>...</td>\n",
       "      <td>...</td>\n",
       "      <td>...</td>\n",
       "      <td>...</td>\n",
       "      <td>...</td>\n",
       "      <td>...</td>\n",
       "      <td>...</td>\n",
       "      <td>...</td>\n",
       "      <td>...</td>\n",
       "    </tr>\n",
       "    <tr>\n",
       "      <th>392</th>\n",
       "      <td>0.0</td>\n",
       "      <td>0.0</td>\n",
       "      <td>3.0</td>\n",
       "      <td>0.0</td>\n",
       "      <td>0.0</td>\n",
       "      <td>0.14</td>\n",
       "      <td>13.0</td>\n",
       "      <td>1.0</td>\n",
       "      <td>0.0</td>\n",
       "      <td>0.478605</td>\n",
       "      <td>2.0</td>\n",
       "      <td>NaN</td>\n",
       "    </tr>\n",
       "    <tr>\n",
       "      <th>393</th>\n",
       "      <td>0.0</td>\n",
       "      <td>0.0</td>\n",
       "      <td>3.0</td>\n",
       "      <td>0.0</td>\n",
       "      <td>0.0</td>\n",
       "      <td>0.14</td>\n",
       "      <td>14.0</td>\n",
       "      <td>1.0</td>\n",
       "      <td>5.0</td>\n",
       "      <td>0.354737</td>\n",
       "      <td>5.0</td>\n",
       "      <td>NaN</td>\n",
       "    </tr>\n",
       "    <tr>\n",
       "      <th>394</th>\n",
       "      <td>0.0</td>\n",
       "      <td>0.0</td>\n",
       "      <td>3.0</td>\n",
       "      <td>0.0</td>\n",
       "      <td>0.0</td>\n",
       "      <td>0.14</td>\n",
       "      <td>19.0</td>\n",
       "      <td>1.0</td>\n",
       "      <td>6.0</td>\n",
       "      <td>0.589380</td>\n",
       "      <td>3.0</td>\n",
       "      <td>NaN</td>\n",
       "    </tr>\n",
       "    <tr>\n",
       "      <th>395</th>\n",
       "      <td>0.0</td>\n",
       "      <td>0.0</td>\n",
       "      <td>3.0</td>\n",
       "      <td>0.0</td>\n",
       "      <td>0.0</td>\n",
       "      <td>0.14</td>\n",
       "      <td>8.0</td>\n",
       "      <td>1.0</td>\n",
       "      <td>0.0</td>\n",
       "      <td>0.581628</td>\n",
       "      <td>5.0</td>\n",
       "      <td>NaN</td>\n",
       "    </tr>\n",
       "    <tr>\n",
       "      <th>396</th>\n",
       "      <td>0.0</td>\n",
       "      <td>0.0</td>\n",
       "      <td>3.0</td>\n",
       "      <td>0.0</td>\n",
       "      <td>0.0</td>\n",
       "      <td>0.14</td>\n",
       "      <td>18.0</td>\n",
       "      <td>1.0</td>\n",
       "      <td>5.0</td>\n",
       "      <td>0.433651</td>\n",
       "      <td>1.0</td>\n",
       "      <td>NaN</td>\n",
       "    </tr>\n",
       "  </tbody>\n",
       "</table>\n",
       "<p>270 rows × 12 columns</p>\n",
       "</div>"
      ],
      "text/plain": [
       "     eal  gender  ethnicity  fsm  sen  idaci  jcqtitle  tier  centretypedesc  \\\n",
       "0    1.0     0.0        3.0  0.0  1.0   0.12       3.0   1.0             0.0   \n",
       "1    1.0     0.0        3.0  0.0  1.0   0.12       7.0   1.0             0.0   \n",
       "2    1.0     0.0        3.0  0.0  1.0   0.12       7.0   1.0             5.0   \n",
       "3    1.0     0.0        3.0  0.0  1.0   0.12      13.0   1.0             4.0   \n",
       "4    1.0     0.0        3.0  0.0  1.0   0.12       7.0   1.0             0.0   \n",
       "..   ...     ...        ...  ...  ...    ...       ...   ...             ...   \n",
       "392  0.0     0.0        3.0  0.0  0.0   0.14      13.0   1.0             0.0   \n",
       "393  0.0     0.0        3.0  0.0  0.0   0.14      14.0   1.0             5.0   \n",
       "394  0.0     0.0        3.0  0.0  0.0   0.14      19.0   1.0             6.0   \n",
       "395  0.0     0.0        3.0  0.0  0.0   0.14       8.0   1.0             0.0   \n",
       "396  0.0     0.0        3.0  0.0  0.0   0.14      18.0   1.0             5.0   \n",
       "\n",
       "     normalisedks2score  grade  centreassessmentgrade  \n",
       "0              0.543113    4.0                    9.0  \n",
       "1              0.290575    7.0                    8.0  \n",
       "2              0.321432    4.0                    7.0  \n",
       "3              0.736166    9.0                    5.0  \n",
       "4              0.432596    4.0                    9.0  \n",
       "..                  ...    ...                    ...  \n",
       "392            0.478605    2.0                    NaN  \n",
       "393            0.354737    5.0                    NaN  \n",
       "394            0.589380    3.0                    NaN  \n",
       "395            0.581628    5.0                    NaN  \n",
       "396            0.433651    1.0                    NaN  \n",
       "\n",
       "[270 rows x 12 columns]"
      ]
     },
     "execution_count": 47,
     "metadata": {},
     "output_type": "execute_result"
    }
   ],
   "source": [
    "df[:-2]"
   ]
  },
  {
   "cell_type": "code",
   "execution_count": null,
   "id": "0ba0174b-03ab-49dc-bca2-2d8c1ba3f28d",
   "metadata": {},
   "outputs": [],
   "source": []
  },
  {
   "cell_type": "code",
   "execution_count": 199,
   "id": "a54689b9",
   "metadata": {},
   "outputs": [
    {
     "data": {
      "image/png": "[encoded data removed]",
      "text/plain": [
       "<Figure size 576x468 with 3 Axes>"
      ]
     },
     "metadata": {},
     "output_type": "display_data"
    }
   ],
   "source": [
    "# LGBM shap\n",
    "# Explain the model's predictions using SHAP\n",
    "explainer = shap.Explainer(lgbm)\n",
    "shap_values = explainer(pd.DataFrame(X_train, columns = df.columns[:-2]))\n",
    "\n",
    "# visualize the first prediction's explanation\n",
    "shap.plots.waterfall(shap_values[0])"
   ]
  },
  {
   "cell_type": "code",
   "execution_count": 191,
   "id": "64910872",
   "metadata": {},
   "outputs": [
    {
     "data": {
      "image/png": "[encoded data removed]",
      "text/plain": [
       "<Figure size 576x396 with 2 Axes>"
      ]
     },
     "metadata": {},
     "output_type": "display_data"
    }
   ],
   "source": [
    "# LGBM shap\n",
    "shap.summary_plot(shap_values)"
   ]
  },
  {
   "cell_type": "code",
   "execution_count": 195,
   "id": "fb3988c5",
   "metadata": {},
   "outputs": [
    {
     "name": "stderr",
     "output_type": "stream",
     "text": [
      "Using 104 background data samples could cause slower run times. Consider using shap.sample(data, K) or shap.kmeans(data, K) to summarize the background as K samples.\n"
     ]
    },
    {
     "data": {
      "application/vnd.jupyter.widget-view+json": {
       "model_id": "dee33f9e0bd74e3faba9d7ca6f3b608a",
       "version_major": 2,
       "version_minor": 0
      },
      "text/plain": [
       "  0%|          | 0/104 [00:00<?, ?it/s]"
      ]
     },
     "metadata": {},
     "output_type": "display_data"
    },
    {
     "data": {
      "image/png": "[encoded data removed]",
      "text/plain": [
       "<Figure size 576x468 with 3 Axes>"
      ]
     },
     "metadata": {},
     "output_type": "display_data"
    }
   ],
   "source": [
    "# RBF SVR shap or linear SVR\n",
    "# Explain the model's predictions using SHAP\n",
    "explainer = shap.KernelExplainer(linear_svr.predict, X_train)\n",
    "# Hide annoying messages\n",
    "with warnings.catch_warnings():\n",
    "    warnings.filterwarnings(\"ignore\")\n",
    "    shap_values = explainer.shap_values(X_train)\n",
    "# visualize the first prediction's explanation\n",
    "shap.plots._waterfall.waterfall_legacy(explainer.expected_value, \n",
    "                                       shap_values[0], \n",
    "                                       feature_names = df.columns[:-2],\n",
    "                                       show = True)"
   ]
  },
  {
   "cell_type": "code",
   "execution_count": 197,
   "id": "b68b393d",
   "metadata": {},
   "outputs": [
    {
     "data": {
      "image/png": "[encoded data removed]",
      "text/plain": [
       "<Figure size 576x396 with 1 Axes>"
      ]
     },
     "metadata": {},
     "output_type": "display_data"
    }
   ],
   "source": [
    "# RBF SVR shap or linear SVR\n",
    "shap.summary_plot(shap_values, feature_names = df.columns[:-2],\n",
    "                                       show = True)"
   ]
  },
  {
   "cell_type": "code",
   "execution_count": 154,
   "id": "c3a3b6fc",
   "metadata": {},
   "outputs": [
    {
     "name": "stderr",
     "output_type": "stream",
     "text": [
      "Your TensorFlow version is newer than 2.4.0 and so graph support has been removed in eager mode and some static graphs may not be supported. See PR #1483 for discussion.\n",
      "`tf.keras.backend.set_learning_phase` is deprecated and will be removed after 2020-10-11. To update it, simply pass a True/False value to the `training` argument of the `__call__` method of your layer or model.\n",
      "2022-07-30 20:00:41.341845: I tensorflow/core/grappler/optimizers/custom_graph_optimizer_registry.cc:113] Plugin optimizer for device_type GPU is enabled.\n"
     ]
    },
    {
     "data": {
      "image/png": "[encoded data removed]",
      "text/plain": [
       "<Figure size 576x396 with 1 Axes>"
      ]
     },
     "metadata": {},
     "output_type": "display_data"
    }
   ],
   "source": [
    "# Deep learning SHAP\n",
    "explainer = shap.DeepExplainer(mlp, X_train)\n",
    "shap_values = explainer.shap_values(X_test)\n",
    "\n",
    "shap.summary_plot(shap_values[0], plot_type = 'bar', \n",
    "                  feature_names = df.columns[:-2])"
   ]
  },
  {
   "cell_type": "code",
   "execution_count": 198,
   "id": "168c04de",
   "metadata": {
    "scrolled": true
   },
   "outputs": [
    {
     "name": "stderr",
     "output_type": "stream",
     "text": [
      "Your TensorFlow version is newer than 2.4.0 and so graph support has been removed in eager mode and some static graphs may not be supported. See PR #1483 for discussion.\n",
      "`tf.keras.backend.set_learning_phase` is deprecated and will be removed after 2020-10-11. To update it, simply pass a True/False value to the `training` argument of the `__call__` method of your layer or model.\n",
      "2022-07-30 20:28:39.803808: I tensorflow/core/grappler/optimizers/custom_graph_optimizer_registry.cc:113] Plugin optimizer for device_type GPU is enabled.\n"
     ]
    },
    {
     "data": {
      "image/png": "[encoded data removed]",
      "text/plain": [
       "<Figure size 576x396 with 1 Axes>"
      ]
     },
     "metadata": {},
     "output_type": "display_data"
    }
   ],
   "source": [
    "explainer = shap.DeepExplainer(mlp, X_train)\n",
    "shap_values = explainer.shap_values(X_test)\n",
    "shap.summary_plot(shap_values[0], feature_names = df.columns[:-2])"
   ]
  },
  {
   "cell_type": "code",
   "execution_count": 169,
   "id": "8bec104a",
   "metadata": {},
   "outputs": [
    {
     "name": "stderr",
     "output_type": "stream",
     "text": [
      "Your TensorFlow version is newer than 2.4.0 and so graph support has been removed in eager mode and some static graphs may not be supported. See PR #1483 for discussion.\n",
      "`tf.keras.backend.set_learning_phase` is deprecated and will be removed after 2020-10-11. To update it, simply pass a True/False value to the `training` argument of the `__call__` method of your layer or model.\n",
      "2022-07-30 20:12:32.404650: I tensorflow/core/grappler/optimizers/custom_graph_optimizer_registry.cc:113] Plugin optimizer for device_type GPU is enabled.\n"
     ]
    },
    {
     "data": {
      "image/png": "[encoded data removed]",
      "text/plain": [
       "<Figure size 576x396 with 1 Axes>"
      ]
     },
     "metadata": {},
     "output_type": "display_data"
    }
   ],
   "source": [
    "# Deep learning SHAP\n",
    "explainer = shap.DeepExplainer(mlp, X_train)\n",
    "shap_values = explainer.shap_values(X_test)\n",
    "\n",
    "shap.summary_plot(shap_values[0],\n",
    "                  feature_names = df.columns[:-2])"
   ]
  },
  {
   "cell_type": "code",
   "execution_count": 170,
   "id": "d6d92f8e",
   "metadata": {},
   "outputs": [
    {
     "data": {
      "image/png": "[encoded data removed]",
      "text/plain": [
       "<Figure size 576x396 with 1 Axes>"
      ]
     },
     "metadata": {},
     "output_type": "display_data"
    }
   ],
   "source": [
    "shap.summary_plot(X_train,\n",
    "                  feature_names = df.columns[:-2])"
   ]
  },
  {
   "cell_type": "code",
   "execution_count": 155,
   "id": "4a5ee12c",
   "metadata": {},
   "outputs": [
    {
     "data": {
      "image/png": "[encoded data removed]",
      "text/plain": [
       "<Figure size 576x468 with 3 Axes>"
      ]
     },
     "metadata": {},
     "output_type": "display_data"
    }
   ],
   "source": [
    "# deep learning shap\n",
    "shap.plots._waterfall.waterfall_legacy(explainer.expected_value[0].numpy(),\n",
    "                                       shap_values[0][0],\n",
    "                                       feature_names = df.columns[:-2])"
   ]
  },
  {
   "cell_type": "code",
   "execution_count": 153,
   "id": "96b40710",
   "metadata": {},
   "outputs": [
    {
     "name": "stderr",
     "output_type": "stream",
     "text": [
      "Using 104 background data samples could cause slower run times. Consider using shap.sample(data, K) or shap.kmeans(data, K) to summarize the background as K samples.\n"
     ]
    },
    {
     "data": {
      "application/vnd.jupyter.widget-view+json": {
       "model_id": "af2af1ad8b00460aa1f276ca024abf1c",
       "version_major": 2,
       "version_minor": 0
      },
      "text/plain": [
       "  0%|          | 0/104 [00:00<?, ?it/s]"
      ]
     },
     "metadata": {},
     "output_type": "display_data"
    },
    {
     "ename": "KeyboardInterrupt",
     "evalue": "",
     "output_type": "error",
     "traceback": [
      "\u001b[0;31m---------------------------------------------------------------------------\u001b[0m",
      "\u001b[0;31mKeyboardInterrupt\u001b[0m                         Traceback (most recent call last)",
      "Input \u001b[0;32mIn [153]\u001b[0m, in \u001b[0;36m<cell line: 4>\u001b[0;34m()\u001b[0m\n\u001b[1;32m      4\u001b[0m \u001b[38;5;28;01mwith\u001b[39;00m warnings\u001b[38;5;241m.\u001b[39mcatch_warnings():\n\u001b[1;32m      5\u001b[0m     warnings\u001b[38;5;241m.\u001b[39mfilterwarnings(\u001b[38;5;124m\"\u001b[39m\u001b[38;5;124mignore\u001b[39m\u001b[38;5;124m\"\u001b[39m)\n\u001b[0;32m----> 6\u001b[0m     shap_values \u001b[38;5;241m=\u001b[39m \u001b[43mexplainer\u001b[49m\u001b[38;5;241;43m.\u001b[39;49m\u001b[43mshap_values\u001b[49m\u001b[43m(\u001b[49m\u001b[43mX_train\u001b[49m\u001b[43m,\u001b[49m\u001b[43m \u001b[49m\u001b[43mnsamples\u001b[49m\u001b[43m \u001b[49m\u001b[38;5;241;43m=\u001b[39;49m\u001b[43m \u001b[49m\u001b[38;5;241;43m100\u001b[39;49m\u001b[43m)\u001b[49m\n\u001b[1;32m      7\u001b[0m \u001b[38;5;66;03m# visualize the first prediction's explanation\u001b[39;00m\n\u001b[1;32m      8\u001b[0m shap\u001b[38;5;241m.\u001b[39mplots\u001b[38;5;241m.\u001b[39m_waterfall\u001b[38;5;241m.\u001b[39mwaterfall_legacy(explainer\u001b[38;5;241m.\u001b[39mexpected_value[\u001b[38;5;241m0\u001b[39m], \n\u001b[1;32m      9\u001b[0m                                        shap_values[\u001b[38;5;241m0\u001b[39m], \n\u001b[1;32m     10\u001b[0m                                        feature_names \u001b[38;5;241m=\u001b[39m df\u001b[38;5;241m.\u001b[39mcolumns[:\u001b[38;5;241m-\u001b[39m\u001b[38;5;241m2\u001b[39m],\n\u001b[1;32m     11\u001b[0m                                        show \u001b[38;5;241m=\u001b[39m \u001b[38;5;28;01mTrue\u001b[39;00m)\n",
      "File \u001b[0;32m~/miniforge3/envs/skywalker/lib/python3.9/site-packages/shap/explainers/_kernel.py:190\u001b[0m, in \u001b[0;36mKernel.shap_values\u001b[0;34m(self, X, **kwargs)\u001b[0m\n\u001b[1;32m    188\u001b[0m \u001b[38;5;28;01mif\u001b[39;00m \u001b[38;5;28mself\u001b[39m\u001b[38;5;241m.\u001b[39mkeep_index:\n\u001b[1;32m    189\u001b[0m     data \u001b[38;5;241m=\u001b[39m convert_to_instance_with_index(data, column_name, index_value[i:i \u001b[38;5;241m+\u001b[39m \u001b[38;5;241m1\u001b[39m], index_name)\n\u001b[0;32m--> 190\u001b[0m explanations\u001b[38;5;241m.\u001b[39mappend(\u001b[38;5;28;43mself\u001b[39;49m\u001b[38;5;241;43m.\u001b[39;49m\u001b[43mexplain\u001b[49m\u001b[43m(\u001b[49m\u001b[43mdata\u001b[49m\u001b[43m,\u001b[49m\u001b[43m \u001b[49m\u001b[38;5;241;43m*\u001b[39;49m\u001b[38;5;241;43m*\u001b[39;49m\u001b[43mkwargs\u001b[49m\u001b[43m)\u001b[49m)\n\u001b[1;32m    191\u001b[0m \u001b[38;5;28;01mif\u001b[39;00m kwargs\u001b[38;5;241m.\u001b[39mget(\u001b[38;5;124m\"\u001b[39m\u001b[38;5;124mgc_collect\u001b[39m\u001b[38;5;124m\"\u001b[39m, \u001b[38;5;28;01mFalse\u001b[39;00m):\n\u001b[1;32m    192\u001b[0m     gc\u001b[38;5;241m.\u001b[39mcollect()\n",
      "File \u001b[0;32m~/miniforge3/envs/skywalker/lib/python3.9/site-packages/shap/explainers/_kernel.py:382\u001b[0m, in \u001b[0;36mKernel.explain\u001b[0;34m(self, incoming_instance, **kwargs)\u001b[0m\n\u001b[1;32m    379\u001b[0m     \u001b[38;5;28mself\u001b[39m\u001b[38;5;241m.\u001b[39mkernelWeights[nfixed_samples:] \u001b[38;5;241m*\u001b[39m\u001b[38;5;241m=\u001b[39m weight_left \u001b[38;5;241m/\u001b[39m \u001b[38;5;28mself\u001b[39m\u001b[38;5;241m.\u001b[39mkernelWeights[nfixed_samples:]\u001b[38;5;241m.\u001b[39msum()\n\u001b[1;32m    381\u001b[0m \u001b[38;5;66;03m# execute the model on the synthetic samples we have created\u001b[39;00m\n\u001b[0;32m--> 382\u001b[0m \u001b[38;5;28;43mself\u001b[39;49m\u001b[38;5;241;43m.\u001b[39;49m\u001b[43mrun\u001b[49m\u001b[43m(\u001b[49m\u001b[43m)\u001b[49m\n\u001b[1;32m    384\u001b[0m \u001b[38;5;66;03m# solve then expand the feature importance (Shapley value) vector to contain the non-varying features\u001b[39;00m\n\u001b[1;32m    385\u001b[0m phi \u001b[38;5;241m=\u001b[39m np\u001b[38;5;241m.\u001b[39mzeros((\u001b[38;5;28mself\u001b[39m\u001b[38;5;241m.\u001b[39mdata\u001b[38;5;241m.\u001b[39mgroups_size, \u001b[38;5;28mself\u001b[39m\u001b[38;5;241m.\u001b[39mD))\n",
      "File \u001b[0;32m~/miniforge3/envs/skywalker/lib/python3.9/site-packages/shap/explainers/_kernel.py:521\u001b[0m, in \u001b[0;36mKernel.run\u001b[0;34m(self)\u001b[0m\n\u001b[1;32m    519\u001b[0m     \u001b[38;5;28;01mif\u001b[39;00m \u001b[38;5;28mself\u001b[39m\u001b[38;5;241m.\u001b[39mkeep_index_ordered:\n\u001b[1;32m    520\u001b[0m         data \u001b[38;5;241m=\u001b[39m data\u001b[38;5;241m.\u001b[39msort_index()\n\u001b[0;32m--> 521\u001b[0m modelOut \u001b[38;5;241m=\u001b[39m \u001b[38;5;28;43mself\u001b[39;49m\u001b[38;5;241;43m.\u001b[39;49m\u001b[43mmodel\u001b[49m\u001b[38;5;241;43m.\u001b[39;49m\u001b[43mf\u001b[49m\u001b[43m(\u001b[49m\u001b[43mdata\u001b[49m\u001b[43m)\u001b[49m\n\u001b[1;32m    522\u001b[0m \u001b[38;5;28;01mif\u001b[39;00m \u001b[38;5;28misinstance\u001b[39m(modelOut, (pd\u001b[38;5;241m.\u001b[39mDataFrame, pd\u001b[38;5;241m.\u001b[39mSeries)):\n\u001b[1;32m    523\u001b[0m     modelOut \u001b[38;5;241m=\u001b[39m modelOut\u001b[38;5;241m.\u001b[39mvalues\n",
      "File \u001b[0;32m~/miniforge3/envs/skywalker/lib/python3.9/site-packages/keras/utils/traceback_utils.py:64\u001b[0m, in \u001b[0;36mfilter_traceback.<locals>.error_handler\u001b[0;34m(*args, **kwargs)\u001b[0m\n\u001b[1;32m     62\u001b[0m filtered_tb \u001b[38;5;241m=\u001b[39m \u001b[38;5;28;01mNone\u001b[39;00m\n\u001b[1;32m     63\u001b[0m \u001b[38;5;28;01mtry\u001b[39;00m:\n\u001b[0;32m---> 64\u001b[0m   \u001b[38;5;28;01mreturn\u001b[39;00m \u001b[43mfn\u001b[49m\u001b[43m(\u001b[49m\u001b[38;5;241;43m*\u001b[39;49m\u001b[43margs\u001b[49m\u001b[43m,\u001b[49m\u001b[43m \u001b[49m\u001b[38;5;241;43m*\u001b[39;49m\u001b[38;5;241;43m*\u001b[39;49m\u001b[43mkwargs\u001b[49m\u001b[43m)\u001b[49m\n\u001b[1;32m     65\u001b[0m \u001b[38;5;28;01mexcept\u001b[39;00m \u001b[38;5;167;01mException\u001b[39;00m \u001b[38;5;28;01mas\u001b[39;00m e:  \u001b[38;5;66;03m# pylint: disable=broad-except\u001b[39;00m\n\u001b[1;32m     66\u001b[0m   filtered_tb \u001b[38;5;241m=\u001b[39m _process_traceback_frames(e\u001b[38;5;241m.\u001b[39m__traceback__)\n",
      "File \u001b[0;32m~/miniforge3/envs/skywalker/lib/python3.9/site-packages/keras/engine/training.py:1982\u001b[0m, in \u001b[0;36mModel.predict\u001b[0;34m(self, x, batch_size, verbose, steps, callbacks, max_queue_size, workers, use_multiprocessing)\u001b[0m\n\u001b[1;32m   1980\u001b[0m \u001b[38;5;28;01mfor\u001b[39;00m step \u001b[38;5;129;01min\u001b[39;00m data_handler\u001b[38;5;241m.\u001b[39msteps():\n\u001b[1;32m   1981\u001b[0m   callbacks\u001b[38;5;241m.\u001b[39mon_predict_batch_begin(step)\n\u001b[0;32m-> 1982\u001b[0m   tmp_batch_outputs \u001b[38;5;241m=\u001b[39m \u001b[38;5;28;43mself\u001b[39;49m\u001b[38;5;241;43m.\u001b[39;49m\u001b[43mpredict_function\u001b[49m\u001b[43m(\u001b[49m\u001b[43miterator\u001b[49m\u001b[43m)\u001b[49m\n\u001b[1;32m   1983\u001b[0m   \u001b[38;5;28;01mif\u001b[39;00m data_handler\u001b[38;5;241m.\u001b[39mshould_sync:\n\u001b[1;32m   1984\u001b[0m     context\u001b[38;5;241m.\u001b[39masync_wait()\n",
      "File \u001b[0;32m~/miniforge3/envs/skywalker/lib/python3.9/site-packages/tensorflow/python/util/traceback_utils.py:150\u001b[0m, in \u001b[0;36mfilter_traceback.<locals>.error_handler\u001b[0;34m(*args, **kwargs)\u001b[0m\n\u001b[1;32m    148\u001b[0m filtered_tb \u001b[38;5;241m=\u001b[39m \u001b[38;5;28;01mNone\u001b[39;00m\n\u001b[1;32m    149\u001b[0m \u001b[38;5;28;01mtry\u001b[39;00m:\n\u001b[0;32m--> 150\u001b[0m   \u001b[38;5;28;01mreturn\u001b[39;00m \u001b[43mfn\u001b[49m\u001b[43m(\u001b[49m\u001b[38;5;241;43m*\u001b[39;49m\u001b[43margs\u001b[49m\u001b[43m,\u001b[49m\u001b[43m \u001b[49m\u001b[38;5;241;43m*\u001b[39;49m\u001b[38;5;241;43m*\u001b[39;49m\u001b[43mkwargs\u001b[49m\u001b[43m)\u001b[49m\n\u001b[1;32m    151\u001b[0m \u001b[38;5;28;01mexcept\u001b[39;00m \u001b[38;5;167;01mException\u001b[39;00m \u001b[38;5;28;01mas\u001b[39;00m e:\n\u001b[1;32m    152\u001b[0m   filtered_tb \u001b[38;5;241m=\u001b[39m _process_traceback_frames(e\u001b[38;5;241m.\u001b[39m__traceback__)\n",
      "File \u001b[0;32m~/miniforge3/envs/skywalker/lib/python3.9/site-packages/tensorflow/python/eager/def_function.py:915\u001b[0m, in \u001b[0;36mFunction.__call__\u001b[0;34m(self, *args, **kwds)\u001b[0m\n\u001b[1;32m    912\u001b[0m compiler \u001b[38;5;241m=\u001b[39m \u001b[38;5;124m\"\u001b[39m\u001b[38;5;124mxla\u001b[39m\u001b[38;5;124m\"\u001b[39m \u001b[38;5;28;01mif\u001b[39;00m \u001b[38;5;28mself\u001b[39m\u001b[38;5;241m.\u001b[39m_jit_compile \u001b[38;5;28;01melse\u001b[39;00m \u001b[38;5;124m\"\u001b[39m\u001b[38;5;124mnonXla\u001b[39m\u001b[38;5;124m\"\u001b[39m\n\u001b[1;32m    914\u001b[0m \u001b[38;5;28;01mwith\u001b[39;00m OptionalXlaContext(\u001b[38;5;28mself\u001b[39m\u001b[38;5;241m.\u001b[39m_jit_compile):\n\u001b[0;32m--> 915\u001b[0m   result \u001b[38;5;241m=\u001b[39m \u001b[38;5;28;43mself\u001b[39;49m\u001b[38;5;241;43m.\u001b[39;49m\u001b[43m_call\u001b[49m\u001b[43m(\u001b[49m\u001b[38;5;241;43m*\u001b[39;49m\u001b[43margs\u001b[49m\u001b[43m,\u001b[49m\u001b[43m \u001b[49m\u001b[38;5;241;43m*\u001b[39;49m\u001b[38;5;241;43m*\u001b[39;49m\u001b[43mkwds\u001b[49m\u001b[43m)\u001b[49m\n\u001b[1;32m    917\u001b[0m new_tracing_count \u001b[38;5;241m=\u001b[39m \u001b[38;5;28mself\u001b[39m\u001b[38;5;241m.\u001b[39mexperimental_get_tracing_count()\n\u001b[1;32m    918\u001b[0m without_tracing \u001b[38;5;241m=\u001b[39m (tracing_count \u001b[38;5;241m==\u001b[39m new_tracing_count)\n",
      "File \u001b[0;32m~/miniforge3/envs/skywalker/lib/python3.9/site-packages/tensorflow/python/eager/def_function.py:954\u001b[0m, in \u001b[0;36mFunction._call\u001b[0;34m(self, *args, **kwds)\u001b[0m\n\u001b[1;32m    951\u001b[0m \u001b[38;5;28mself\u001b[39m\u001b[38;5;241m.\u001b[39m_lock\u001b[38;5;241m.\u001b[39mrelease()\n\u001b[1;32m    952\u001b[0m \u001b[38;5;66;03m# In this case we have not created variables on the first call. So we can\u001b[39;00m\n\u001b[1;32m    953\u001b[0m \u001b[38;5;66;03m# run the first trace but we should fail if variables are created.\u001b[39;00m\n\u001b[0;32m--> 954\u001b[0m results \u001b[38;5;241m=\u001b[39m \u001b[38;5;28;43mself\u001b[39;49m\u001b[38;5;241;43m.\u001b[39;49m\u001b[43m_stateful_fn\u001b[49m\u001b[43m(\u001b[49m\u001b[38;5;241;43m*\u001b[39;49m\u001b[43margs\u001b[49m\u001b[43m,\u001b[49m\u001b[43m \u001b[49m\u001b[38;5;241;43m*\u001b[39;49m\u001b[38;5;241;43m*\u001b[39;49m\u001b[43mkwds\u001b[49m\u001b[43m)\u001b[49m\n\u001b[1;32m    955\u001b[0m \u001b[38;5;28;01mif\u001b[39;00m \u001b[38;5;28mself\u001b[39m\u001b[38;5;241m.\u001b[39m_created_variables \u001b[38;5;129;01mand\u001b[39;00m \u001b[38;5;129;01mnot\u001b[39;00m ALLOW_DYNAMIC_VARIABLE_CREATION:\n\u001b[1;32m    956\u001b[0m   \u001b[38;5;28;01mraise\u001b[39;00m \u001b[38;5;167;01mValueError\u001b[39;00m(\u001b[38;5;124m\"\u001b[39m\u001b[38;5;124mCreating variables on a non-first call to a function\u001b[39m\u001b[38;5;124m\"\u001b[39m\n\u001b[1;32m    957\u001b[0m                    \u001b[38;5;124m\"\u001b[39m\u001b[38;5;124m decorated with tf.function.\u001b[39m\u001b[38;5;124m\"\u001b[39m)\n",
      "File \u001b[0;32m~/miniforge3/envs/skywalker/lib/python3.9/site-packages/tensorflow/python/eager/function.py:2955\u001b[0m, in \u001b[0;36mFunction.__call__\u001b[0;34m(self, *args, **kwargs)\u001b[0m\n\u001b[1;32m   2952\u001b[0m \u001b[38;5;124;03m\"\"\"Calls a graph function specialized to the inputs.\"\"\"\u001b[39;00m\n\u001b[1;32m   2953\u001b[0m \u001b[38;5;28;01mwith\u001b[39;00m \u001b[38;5;28mself\u001b[39m\u001b[38;5;241m.\u001b[39m_lock:\n\u001b[1;32m   2954\u001b[0m   (graph_function,\n\u001b[0;32m-> 2955\u001b[0m    filtered_flat_args) \u001b[38;5;241m=\u001b[39m \u001b[38;5;28;43mself\u001b[39;49m\u001b[38;5;241;43m.\u001b[39;49m\u001b[43m_maybe_define_function\u001b[49m\u001b[43m(\u001b[49m\u001b[43margs\u001b[49m\u001b[43m,\u001b[49m\u001b[43m \u001b[49m\u001b[43mkwargs\u001b[49m\u001b[43m)\u001b[49m\n\u001b[1;32m   2956\u001b[0m \u001b[38;5;28;01mreturn\u001b[39;00m graph_function\u001b[38;5;241m.\u001b[39m_call_flat(\n\u001b[1;32m   2957\u001b[0m     filtered_flat_args, captured_inputs\u001b[38;5;241m=\u001b[39mgraph_function\u001b[38;5;241m.\u001b[39mcaptured_inputs)\n",
      "File \u001b[0;32m~/miniforge3/envs/skywalker/lib/python3.9/site-packages/tensorflow/python/eager/function.py:3262\u001b[0m, in \u001b[0;36mFunction._maybe_define_function\u001b[0;34m(self, args, kwargs)\u001b[0m\n\u001b[1;32m   3257\u001b[0m \u001b[38;5;28;01mexcept\u001b[39;00m \u001b[38;5;167;01mTypeError\u001b[39;00m \u001b[38;5;28;01mas\u001b[39;00m e:\n\u001b[1;32m   3258\u001b[0m   \u001b[38;5;28;01mraise\u001b[39;00m \u001b[38;5;167;01mTypeError\u001b[39;00m(\n\u001b[1;32m   3259\u001b[0m       \u001b[38;5;124m\"\u001b[39m\u001b[38;5;124mArguments supplied to `defun`-generated functions must be \u001b[39m\u001b[38;5;124m\"\u001b[39m\n\u001b[1;32m   3260\u001b[0m       \u001b[38;5;124mf\u001b[39m\u001b[38;5;124m\"\u001b[39m\u001b[38;5;124mhashable.  Original error: \u001b[39m\u001b[38;5;132;01m{\u001b[39;00me\u001b[38;5;132;01m}\u001b[39;00m\u001b[38;5;124m.\u001b[39m\u001b[38;5;124m\"\u001b[39m)\n\u001b[0;32m-> 3262\u001b[0m graph_function \u001b[38;5;241m=\u001b[39m \u001b[38;5;28;43mself\u001b[39;49m\u001b[38;5;241;43m.\u001b[39;49m\u001b[43m_function_cache\u001b[49m\u001b[38;5;241;43m.\u001b[39;49m\u001b[43mlookup\u001b[49m\u001b[43m(\u001b[49m\u001b[43mcache_key\u001b[49m\u001b[43m,\u001b[49m\n\u001b[1;32m   3263\u001b[0m \u001b[43m                                             \u001b[49m\u001b[43mUSE_FUNCTION_SUBTYPING\u001b[49m\u001b[43m)\u001b[49m\n\u001b[1;32m   3264\u001b[0m \u001b[38;5;28;01mif\u001b[39;00m graph_function \u001b[38;5;129;01mis\u001b[39;00m \u001b[38;5;129;01mnot\u001b[39;00m \u001b[38;5;28;01mNone\u001b[39;00m:\n\u001b[1;32m   3265\u001b[0m   \u001b[38;5;28;01mreturn\u001b[39;00m graph_function, filtered_flat_args\n",
      "File \u001b[0;32m~/miniforge3/envs/skywalker/lib/python3.9/site-packages/tensorflow/python/eager/function_cache.py:165\u001b[0m, in \u001b[0;36mFunctionCache.lookup\u001b[0;34m(self, key, use_function_subtyping)\u001b[0m\n\u001b[1;32m    162\u001b[0m \u001b[38;5;28;01mif\u001b[39;00m key \u001b[38;5;129;01min\u001b[39;00m \u001b[38;5;28mself\u001b[39m\u001b[38;5;241m.\u001b[39m_dispatch_cache:\n\u001b[1;32m    163\u001b[0m   \u001b[38;5;28;01mreturn\u001b[39;00m \u001b[38;5;28mself\u001b[39m\u001b[38;5;241m.\u001b[39m_primary[\u001b[38;5;28mself\u001b[39m\u001b[38;5;241m.\u001b[39m_dispatch_cache[key]]\n\u001b[0;32m--> 165\u001b[0m \u001b[38;5;28;01mfor\u001b[39;00m known_key \u001b[38;5;129;01min\u001b[39;00m \u001b[38;5;28mself\u001b[39m\u001b[38;5;241m.\u001b[39m_primary:\n\u001b[1;32m    166\u001b[0m   \u001b[38;5;28;01mif\u001b[39;00m known_key\u001b[38;5;241m.\u001b[39mis_subtype_of(key):\n\u001b[1;32m    167\u001b[0m     \u001b[38;5;28mself\u001b[39m\u001b[38;5;241m.\u001b[39m_dispatch_cache[key] \u001b[38;5;241m=\u001b[39m known_key\n",
      "File \u001b[0;32m~/miniforge3/envs/skywalker/lib/python3.9/site-packages/tensorflow/python/eager/function_cache.py:96\u001b[0m, in \u001b[0;36mFunctionCacheKey.__hash__\u001b[0;34m(self)\u001b[0m\n\u001b[1;32m     95\u001b[0m \u001b[38;5;28;01mdef\u001b[39;00m \u001b[38;5;21m__hash__\u001b[39m(\u001b[38;5;28mself\u001b[39m) \u001b[38;5;241m-\u001b[39m\u001b[38;5;241m>\u001b[39m \u001b[38;5;28mint\u001b[39m:\n\u001b[0;32m---> 96\u001b[0m   \u001b[38;5;28;01mreturn\u001b[39;00m \u001b[38;5;28;43mhash\u001b[39;49m\u001b[43m(\u001b[49m\u001b[43m(\u001b[49m\u001b[38;5;28;43mself\u001b[39;49m\u001b[38;5;241;43m.\u001b[39;49m\u001b[43mcall_context\u001b[49m\u001b[43m,\u001b[49m\u001b[43m \u001b[49m\u001b[38;5;28;43mself\u001b[39;49m\u001b[38;5;241;43m.\u001b[39;49m\u001b[43mfunction_signature\u001b[49m\u001b[43m)\u001b[49m\u001b[43m)\u001b[49m\n",
      "File \u001b[0;32m~/miniforge3/envs/skywalker/lib/python3.9/site-packages/tensorflow/python/eager/function_trace_type.py:211\u001b[0m, in \u001b[0;36mOrderedCollectionType.__hash__\u001b[0;34m(self)\u001b[0m\n\u001b[1;32m    210\u001b[0m \u001b[38;5;28;01mdef\u001b[39;00m \u001b[38;5;21m__hash__\u001b[39m(\u001b[38;5;28mself\u001b[39m) \u001b[38;5;241m-\u001b[39m\u001b[38;5;241m>\u001b[39m \u001b[38;5;28mint\u001b[39m:\n\u001b[0;32m--> 211\u001b[0m   \u001b[38;5;28;01mreturn\u001b[39;00m \u001b[38;5;28;43mhash\u001b[39;49m\u001b[43m(\u001b[49m\u001b[38;5;28;43mself\u001b[39;49m\u001b[38;5;241;43m.\u001b[39;49m\u001b[43mcomponents\u001b[49m\u001b[43m)\u001b[49m\n",
      "File \u001b[0;32m~/miniforge3/envs/skywalker/lib/python3.9/site-packages/tensorflow/python/eager/function_trace_type.py:211\u001b[0m, in \u001b[0;36mOrderedCollectionType.__hash__\u001b[0;34m(self)\u001b[0m\n\u001b[1;32m    210\u001b[0m \u001b[38;5;28;01mdef\u001b[39;00m \u001b[38;5;21m__hash__\u001b[39m(\u001b[38;5;28mself\u001b[39m) \u001b[38;5;241m-\u001b[39m\u001b[38;5;241m>\u001b[39m \u001b[38;5;28mint\u001b[39m:\n\u001b[0;32m--> 211\u001b[0m   \u001b[38;5;28;01mreturn\u001b[39;00m \u001b[38;5;28;43mhash\u001b[39;49m\u001b[43m(\u001b[49m\u001b[38;5;28;43mself\u001b[39;49m\u001b[38;5;241;43m.\u001b[39;49m\u001b[43mcomponents\u001b[49m\u001b[43m)\u001b[49m\n",
      "File \u001b[0;32m~/miniforge3/envs/skywalker/lib/python3.9/site-packages/tensorflow/python/data/ops/iterator_ops.py:693\u001b[0m, in \u001b[0;36mIteratorType.__hash__\u001b[0;34m(self)\u001b[0m\n\u001b[1;32m    692\u001b[0m \u001b[38;5;28;01mdef\u001b[39;00m \u001b[38;5;21m__hash__\u001b[39m(\u001b[38;5;28mself\u001b[39m) \u001b[38;5;241m-\u001b[39m\u001b[38;5;241m>\u001b[39m \u001b[38;5;28mint\u001b[39m:\n\u001b[0;32m--> 693\u001b[0m   \u001b[38;5;28;01mreturn\u001b[39;00m \u001b[38;5;28;43mhash\u001b[39;49m\u001b[43m(\u001b[49m\u001b[38;5;28;43mself\u001b[39;49m\u001b[38;5;241;43m.\u001b[39;49m\u001b[43m_components\u001b[49m\u001b[43m)\u001b[49m\n",
      "File \u001b[0;32m~/miniforge3/envs/skywalker/lib/python3.9/site-packages/tensorflow/python/framework/type_spec.py:350\u001b[0m, in \u001b[0;36mTypeSpec.__hash__\u001b[0;34m(self)\u001b[0m\n\u001b[1;32m    349\u001b[0m \u001b[38;5;28;01mdef\u001b[39;00m \u001b[38;5;21m__hash__\u001b[39m(\u001b[38;5;28mself\u001b[39m) \u001b[38;5;241m-\u001b[39m\u001b[38;5;241m>\u001b[39m \u001b[38;5;28mint\u001b[39m:\n\u001b[0;32m--> 350\u001b[0m   \u001b[38;5;28;01mreturn\u001b[39;00m \u001b[38;5;28mhash\u001b[39m(\u001b[38;5;28;43mself\u001b[39;49m\u001b[38;5;241;43m.\u001b[39;49m\u001b[43m__get_cmp_key\u001b[49m\u001b[43m(\u001b[49m\u001b[43m)\u001b[49m)\n",
      "File \u001b[0;32m~/miniforge3/envs/skywalker/lib/python3.9/site-packages/tensorflow/python/framework/type_spec.py:396\u001b[0m, in \u001b[0;36mTypeSpec.__get_cmp_key\u001b[0;34m(self)\u001b[0m\n\u001b[1;32m    394\u001b[0m \u001b[38;5;124;03m\"\"\"Returns a hashable eq-comparable key for `self`.\"\"\"\u001b[39;00m\n\u001b[1;32m    395\u001b[0m \u001b[38;5;66;03m# TODO(b/133606651): Decide whether to cache this value.\u001b[39;00m\n\u001b[0;32m--> 396\u001b[0m \u001b[38;5;28;01mreturn\u001b[39;00m (\u001b[38;5;28mtype\u001b[39m(\u001b[38;5;28mself\u001b[39m), \u001b[38;5;28;43mself\u001b[39;49m\u001b[38;5;241;43m.\u001b[39;49m\u001b[43m__make_cmp_key\u001b[49m\u001b[43m(\u001b[49m\u001b[38;5;28;43mself\u001b[39;49m\u001b[38;5;241;43m.\u001b[39;49m\u001b[43m_serialize\u001b[49m\u001b[43m(\u001b[49m\u001b[43m)\u001b[49m\u001b[43m)\u001b[49m)\n",
      "File \u001b[0;32m~/miniforge3/envs/skywalker/lib/python3.9/site-packages/tensorflow/python/framework/type_spec.py:403\u001b[0m, in \u001b[0;36mTypeSpec.__make_cmp_key\u001b[0;34m(self, value)\u001b[0m\n\u001b[1;32m    400\u001b[0m \u001b[38;5;28;01mif\u001b[39;00m \u001b[38;5;28misinstance\u001b[39m(value,\n\u001b[1;32m    401\u001b[0m               (\u001b[38;5;28mint\u001b[39m, \u001b[38;5;28mfloat\u001b[39m, \u001b[38;5;28mbool\u001b[39m, np\u001b[38;5;241m.\u001b[39mgeneric, dtypes\u001b[38;5;241m.\u001b[39mDType, TypeSpec)):\n\u001b[1;32m    402\u001b[0m   \u001b[38;5;28;01mreturn\u001b[39;00m value\n\u001b[0;32m--> 403\u001b[0m \u001b[38;5;28;01mif\u001b[39;00m \u001b[38;5;28;43misinstance\u001b[39;49m\u001b[43m(\u001b[49m\u001b[43mvalue\u001b[49m\u001b[43m,\u001b[49m\u001b[43m \u001b[49m\u001b[43mcompat\u001b[49m\u001b[38;5;241;43m.\u001b[39;49m\u001b[43mbytes_or_text_types\u001b[49m\u001b[43m)\u001b[49m:\n\u001b[1;32m    404\u001b[0m   \u001b[38;5;28;01mreturn\u001b[39;00m value\n\u001b[1;32m    405\u001b[0m \u001b[38;5;28;01mif\u001b[39;00m value \u001b[38;5;129;01mis\u001b[39;00m \u001b[38;5;28;01mNone\u001b[39;00m:\n",
      "\u001b[0;31mKeyboardInterrupt\u001b[0m: "
     ]
    }
   ],
   "source": [
    "# Explain the model's predictions using SHAP\n",
    "explainer = shap.KernelExplainer(mlp.predict, X_train)\n",
    "# Hide annoying messages\n",
    "with warnings.catch_warnings():\n",
    "    warnings.filterwarnings(\"ignore\")\n",
    "    shap_values = explainer.shap_values(X_train, nsamples = 100)\n",
    "# visualize the first prediction's explanation\n",
    "shap.plots._waterfall.waterfall_legacy(explainer.expected_value[0], \n",
    "                                       shap_values[0], \n",
    "                                       feature_names = df.columns[:-2],\n",
    "                                       show = True)"
   ]
  },
  {
   "cell_type": "markdown",
   "id": "a6c8c760",
   "metadata": {},
   "source": [
    "## Analyse Predictions"
   ]
  },
  {
   "cell_type": "code",
   "execution_count": 40,
   "id": "0de4caa7",
   "metadata": {},
   "outputs": [],
   "source": [
    "# Get list of factors to aggregate by, including intersectional factors\n",
    "groupers = [[\"ethnicity\", \"idaci_quantile\"],\n",
    "            [\"ethnicity\", \"attainment_quantile\"],\n",
    "            [\"ethnicity\", \"idaci_quantile\", \"attainment_quantile\"],\n",
    "            [\"ethnicity\", \"idaci_quantile\", \"attainment_quantile\", \"eal\"],\n",
    "            [\"ethnicity\", \"idaci_quantile\", \"attainment_quantile\", \"fsm\"],\n",
    "            [\"ethnicity\", \"idaci_quantile\", \"attainment_quantile\", \"sen\"],\n",
    "            [\"ethnicity\", \"idaci_quantile\", \"attainment_quantile\", \"tier\"],\n",
    "            [\"idaci_quantile\", \"attainment_quantile\"],\n",
    "            [\"idaci_quantile\", \"fsm\"],\n",
    "            [\"idaci_quantile\", \"fsm\", \"attainment_quantile\"],\n",
    "            [\"sen\", \"ethnicity\"],\n",
    "            [\"sen\", \"idaci_quantile\"],\n",
    "            [\"sen\", \"attainment_quantile\"],\n",
    "            [\"eal\", \"ethnicity\"],\n",
    "            [\"eal\", \"idaci_quantile\"],\n",
    "            [\"eal\", \"attainment_quantile\"],\n",
    "            'eal', 'gender', 'ethnicity',\n",
    "            'fsm', 'sen', 'jcqtitle', 'tier',\n",
    "            'centretypedesc','idaci_quantile',\n",
    "            'attainment_quantile']"
   ]
  },
  {
   "cell_type": "code",
   "execution_count": 82,
   "id": "c2f1a601",
   "metadata": {},
   "outputs": [],
   "source": [
    "# Create df to store each group's results in\n",
    "all_groups = pd.DataFrame()\n",
    "for grouper in groupers:\n",
    "    group_df = treatment.groupby(grouper)[[\"cag_diff\", \"centreassessmentgrade\"]].mean().reset_index()\n",
    "    # Store values for factor and factor values\n",
    "    group_df[\"factor\"] = \"X\".join(grouper) if isinstance(grouper, list) else grouper\n",
    "    group_df[\"factor_value\"] = group_df.iloc[:, 0].astype(str)\n",
    "    \n",
    "    # Also concat factor value when grouper is more than 1 item\n",
    "    if isinstance(grouper, list):\n",
    "        for i in range(1, len(grouper)):\n",
    "            group_df[\"factor_value\"] = group_df[\"factor_value\"] + \" X \" + group_df.iloc[:, i].astype(str)\n",
    "    \n",
    "    # Save results to df\n",
    "    all_groups = pd.concat([all_groups, group_df[[\"factor\", \"factor_value\",\n",
    "                                                  \"cag_diff\", \"centreassessmentgrade\"]]])\n",
    "\n",
    "# Export results\n",
    "all_groups.sort_values([\"factor\", \"factor_value\"]).to_csv(\"predicted_diffs.csv\", index = False)"
   ]
  },
  {
   "cell_type": "code",
   "execution_count": null,
   "id": "c550c68d",
   "metadata": {},
   "outputs": [],
   "source": []
  }
 ],
 "metadata": {
  "kernelspec": {
   "display_name": "Python 3 (ipykernel)",
   "language": "python",
   "name": "python3"
  },
  "language_info": {
   "codemirror_mode": {
    "name": "ipython",
    "version": 3
   },
   "file_extension": ".py",
   "mimetype": "text/x-python",
   "name": "python",
   "nbconvert_exporter": "python",
   "pygments_lexer": "ipython3",
   "version": "3.9.0"
  },
  "toc": {
   "base_numbering": 1,
   "nav_menu": {},
   "number_sections": true,
   "sideBar": true,
   "skip_h1_title": false,
   "title_cell": "Table of Contents",
   "title_sidebar": "Contents",
   "toc_cell": false,
   "toc_position": {},
   "toc_section_display": true,
   "toc_window_display": false
  },
  "varInspector": {
   "cols": {
    "lenName": 16,
    "lenType": 16,
    "lenVar": 40
   },
   "kernels_config": {
    "python": {
     "delete_cmd_postfix": "",
     "delete_cmd_prefix": "del ",
     "library": "var_list.py",
     "varRefreshCmd": "print(var_dic_list())"
    },
    "r": {
     "delete_cmd_postfix": ") ",
     "delete_cmd_prefix": "rm(",
     "library": "var_list.r",
     "varRefreshCmd": "cat(var_dic_list()) "
    }
   },
   "types_to_exclude": [
    "module",
    "function",
    "builtin_function_or_method",
    "instance",
    "_Feature"
   ],
   "window_display": false
  }
 },
 "nbformat": 4,
 "nbformat_minor": 5
}
