{
 "cells": [
  {
   "cell_type": "code",
   "execution_count": 1,
   "id": "5e3256c3",
   "metadata": {},
   "outputs": [],
   "source": [
    "# General\n",
    "import pandas as pd\n",
    "import numpy as np\n",
    "import os\n",
    "import glob\n",
    "\n",
    "# Preprocessing\n",
    "from sklearn.model_selection import train_test_split\n",
    "from sklearn.preprocessing import OrdinalEncoder, MinMaxScaler\n",
    "\n",
    "# Descriptive statistics\n",
    "from scipy.stats import ttest_ind, chi2_contingency\n",
    "\n",
    "# Plotting\n",
    "import seaborn as sns\n",
    "sns.set_style(\"darkgrid\")\n",
    "import matplotlib.pyplot as plt\n",
    "\n",
    "# Modelling\n",
    "from sklearn.metrics import mean_squared_error\n",
    "from sklearn.model_selection import StratifiedKFold\n",
    "## Linear regression\n",
    "from sklearn.linear_model import LinearRegression\n",
    "## SVR\n",
    "from sklearn.svm import LinearSVR, SVR\n",
    "## Neural networks\n",
    "from tensorflow.keras.layers import Dense, BatchNormalization\n",
    "from tensorflow.keras import Sequential\n",
    "from tensorflow.keras import optimizers\n",
    "from tensorflow.keras.callbacks import EarlyStopping\n",
    "## LGBM\n",
    "import lightgbm as lgb\n",
    "import optuna\n",
    "from optuna.integration import LightGBMPruningCallback"
   ]
  },
  {
   "cell_type": "code",
   "execution_count": 2,
   "id": "3c3a4149",
   "metadata": {},
   "outputs": [],
   "source": [
    "# Get rid of annoying LGBM messages\n",
    "import warnings\n",
    "warnings.filterwarnings(\"ignore\", message=\"categorical_column in param dict is overridden.\")\n",
    "warnings.filterwarnings(\"ignore\", message='Overriding the parameters from Reference Dataset.')\n",
    "warnings.filterwarnings(\"ignore\", message='The reported value is ignored because this*')\n",
    "warnings.filterwarnings(\"ignore\", message='Found `n_estimators` in params. Will use it*')\n",
    "warnings.filterwarnings(\"ignore\", message='The distribution is specified by*')\n",
    "\n",
    "# Hide optuna logging too\n",
    "optuna.logging.set_verbosity(optuna.logging.WARNING)"
   ]
  },
  {
   "cell_type": "markdown",
   "id": "543924db",
   "metadata": {},
   "source": [
    "# Pre-processing"
   ]
  },
  {
   "cell_type": "code",
   "execution_count": 3,
   "id": "837c4a42",
   "metadata": {},
   "outputs": [],
   "source": [
    "# Get files to read in\n",
    "gcse_files = glob.glob(\"../fake_data/synthetic_*_gcse_20[1-2][0, 8-9].csv\")\n",
    "npd_files = glob.glob(\"../fake_data/synthetic_npd_ks4_student_20[1-2][0, 8-9].csv\")"
   ]
  },
  {
   "cell_type": "markdown",
   "id": "65dcd54b",
   "metadata": {},
   "source": [
    "## Exam Data"
   ]
  },
  {
   "cell_type": "code",
   "execution_count": 4,
   "id": "1cbcb540",
   "metadata": {},
   "outputs": [],
   "source": [
    "def process_grades(data = pd.DataFrame, grade_col = str):\n",
    "    \n",
    "    # Drop rows with missing grades\n",
    "    data = data.dropna(subset = grade_col)\n",
    "    # Convert U grade to 0\n",
    "    data.loc[data[grade_col] == \"U\", grade_col] = \"0\"\n",
    "    # Convert grades to numeric from string format\n",
    "    data = data[data[grade_col].isin([str(x) for x in (range(0, 10))])]\n",
    "    data[grade_col] = data[grade_col].astype(float)\n",
    "    return data"
   ]
  },
  {
   "cell_type": "code",
   "execution_count": 5,
   "id": "06b48f57",
   "metadata": {},
   "outputs": [],
   "source": [
    "def process_gcse_data(df = pd.DataFrame):\n",
    "    \n",
    "    \"\"\"\n",
    "    Takes raw GCSE exam data (2017-2020 files), filters it\n",
    "    appropriately and processes it. \n",
    "    Returns a DataFrame with a reduced number of columns.\n",
    "    Full steps taken can be seen in code commenting or in\n",
    "    Methodology section of capstone.\n",
    "    --------------------------------------------------\n",
    "    df = DataFrame of raw GCSE data\n",
    "    \"\"\"\n",
    "    \n",
    "    # Copy to prevent in-place changes\n",
    "    data = df.copy()\n",
    "    \n",
    "    # Make cols lowercase\n",
    "    data.columns = [x.lower() for x in data.columns]\n",
    "    \n",
    "    # Reformat examseries to year col\n",
    "    data[\"year\"] = data.examseries.apply(lambda x: x.split()[1])\n",
    "    \n",
    "    # Remove candidates who were not 16 on 31st August\n",
    "    data = data.query(\"yearendage == 16\")\n",
    "    # Remove private candidates\n",
    "    data = data.query(\"privatecandidate == False\")\n",
    "    # Commented out below since all True in synthetic data\n",
    "    # Remove partial absentees\n",
    "#     data = data.query(\"partialabsence == False\")\n",
    "    # Remove candidates without prior attainment or that weren't matched in NPD\n",
    "    data = data.dropna(subset = [\"normalisedks2score\", \"npdmatchround\"])\n",
    "    \n",
    "    # Remove candidates with 0 prior attainment (errors in data)\n",
    "    data = data[data.normalisedks2score > 0]\n",
    "    \n",
    "    # Remove non-reformed GCSEs\n",
    "    data = data[data.reformphase.isin(['Ofqual-regulated Phase 1 reformed GCSE FC',\n",
    "                                       'Ofqual-regulated Phase 2 reformed GCSE FC'])]\n",
    "    # Recode tier into foundation or not foundation\n",
    "    data.loc[data.tier != \"F\", \"tier\"] = \"Not F\"\n",
    "    \n",
    "    # Process grade column inplace\n",
    "    data = process_grades(data, grade_col = \"grade\")\n",
    "    \n",
    "    # Standardise the KS2 prior attainment to between 0 and 1\n",
    "    scaler = MinMaxScaler()\n",
    "    data.normalisedks2score = scaler.fit_transform(data[['normalisedks2score']])\n",
    "    \n",
    "    # Get candidates who took at least 8 GCSEs\n",
    "    grouped = data.groupby(\"uidp\").count()\n",
    "    at_least_8 = set(grouped[grouped.examseries >= 8].index.to_list())\n",
    "    # Get candidates who took English and Maths\n",
    "    eng_math = set(data[data.jcqtitle.isin([\"Mathematics\", \"English language\"])].uidp)\n",
    "    # Get candidates who took English and Maths and >= 8 GCSEs\n",
    "    filtered_ids = at_least_8 & eng_math\n",
    "    # Beware that since this is simulated data, it's wrong\n",
    "    filtered = data[data.uidp.isin(filtered_ids)]\n",
    "    \n",
    "    # Select cols needed for modelling and dropnas\n",
    "    gcse_cols = [\"uidp\", \"year\", \"jcqtitle\", \"tier\", \"centretypedesc\",\n",
    "                 \"normalisedks2score\", \"grade\", \"centreassessmentgrade\"]\n",
    "    filtered = filtered[gcse_cols]\n",
    "\n",
    "    return filtered"
   ]
  },
  {
   "cell_type": "code",
   "execution_count": 6,
   "id": "d6d381e3",
   "metadata": {},
   "outputs": [],
   "source": [
    "# Load and process all the GCSE exam data\n",
    "gcse_data = pd.DataFrame()\n",
    "# Iterate through files\n",
    "for file in gcse_files:\n",
    "    # Perform filtering/pre-processing\n",
    "    year_df = process_gcse_data(pd.read_csv(file))\n",
    "    # Process the CAG column too\n",
    "    if \"2020\" in file:\n",
    "        year_df = process_grades(year_df, \"centreassessmentgrade\")\n",
    "    # Create dummy value for other years\n",
    "    else:\n",
    "        year_df.centreassessmentgrade = np.NaN\n",
    "        \n",
    "    # Merge with other years\n",
    "    gcse_data = pd.concat([gcse_data, year_df])\n",
    "    # Delete var to save memory\n",
    "    del year_df\n",
    "# Reset index\n",
    "gcse_data = gcse_data.reset_index(drop = True)"
   ]
  },
  {
   "cell_type": "code",
   "execution_count": 53,
   "id": "6827b0ec",
   "metadata": {},
   "outputs": [],
   "source": [
    "# Take a smaller sample of the GCSE data, overwrite the orignal gcse_data object too\n",
    "gcse_data, unneeded_gcse_data = train_test_split(gcse_data, \n",
    "                                                  train_size = 0.1, \n",
    "                                                  stratify = gcse_data.year,\n",
    "                                                  random_state = 42, shuffle = True)\n",
    "del unneeded_gcse_data"
   ]
  },
  {
   "cell_type": "markdown",
   "id": "94c3c64c",
   "metadata": {},
   "source": [
    "## NPD Data"
   ]
  },
  {
   "cell_type": "code",
   "execution_count": 47,
   "id": "8c27b640",
   "metadata": {},
   "outputs": [],
   "source": [
    "def process_npd(data = pd.DataFrame):\n",
    "    \n",
    "    \"\"\"\n",
    "    Takes raw NPD data (2017-2020 files), filters it\n",
    "    appropriately and processes it. \n",
    "    Returns a DataFrame with a reduced number of columns.\n",
    "    Full steps taken can be seen in code commenting or in\n",
    "    Methodology section of capstone.\n",
    "    --------------------------------------------------\n",
    "    df = DataFrame of raw NPD data\n",
    "    \"\"\"    \n",
    "    \n",
    "    # Copy to prevent inplace changes\n",
    "    df = data.copy()\n",
    "    # Make cols lowercase\n",
    "    df.columns = [x.lower() for x in df.columns]\n",
    "    # Select the columns that are common across files\n",
    "    npd_cols = [\"uidp\", \"ks4_ealgrp_ptq_ee\", \"ks4_gender\"]\n",
    "    # Get the bases for the columns that change in suffix in each file\n",
    "    col_bases = [\"ethnicgroupmajor\", \"fsmeligible\", \"senprovisionmajor\"]\n",
    "    # Get the suffix part that changes\n",
    "    year_ending = int(file[-6:-4])\n",
    "    # Dynamically select those cols with changing suffixes\n",
    "    npd_cols.extend([col_base + f\"_spr{year_ending}\" for col_base in col_bases])\n",
    "    # Also add in most recent IDACI score\n",
    "    npd_cols.append(sorted([x for x in df.columns if \"idaciscore\" in x])[-1])\n",
    "    \n",
    "    # Select the needed columns\n",
    "    df = df[npd_cols]\n",
    "    # Add in year col\n",
    "    df[\"year\"] = f\"20{year_ending}\"\n",
    "    # Rename columns\n",
    "    clean_cols = [\"uidp\", \"eal\", \"gender\", \"ethnicity\",\n",
    "              \"fsm\", \"sen\", \"idaci\", \"year\"]\n",
    "    df.columns = clean_cols\n",
    "    \n",
    "    return df"
   ]
  },
  {
   "cell_type": "code",
   "execution_count": 48,
   "id": "1f9927c4",
   "metadata": {},
   "outputs": [],
   "source": [
    "# Legacy code for checking cols are consistent\n",
    "# col_dict = dict()\n",
    "# for file in npd_files:\n",
    "#     col_dict[file[-8:-4]] = pd.read_csv(file).columns\n",
    "# set(col_dict[\"2020\"]) & set(col_dict[\"2019\"]) & set(col_dict[\"2018\"])\n",
    "# set(col_dict[\"2020\"]) - set(col_dict[\"2019\"])"
   ]
  },
  {
   "cell_type": "code",
   "execution_count": 49,
   "id": "143102ce",
   "metadata": {},
   "outputs": [],
   "source": [
    "# Create df to store each year's data in\n",
    "npd_data = pd.DataFrame()\n",
    "\n",
    "# Iterate through files\n",
    "for file in npd_files:\n",
    "    # Load data\n",
    "    npd_df = pd.read_csv(file)\n",
    "    # Process the NPD data\n",
    "    npd_df = process_npd(npd_df)\n",
    "    # Combine into dataframe\n",
    "    npd_data = pd.concat([npd_data, npd_df])\n",
    "    \n",
    "    # Delete var to save memory\n",
    "    del npd_df"
   ]
  },
  {
   "cell_type": "markdown",
   "id": "559c918d",
   "metadata": {},
   "source": [
    "# Joining"
   ]
  },
  {
   "cell_type": "code",
   "execution_count": 50,
   "id": "5e3ba32f",
   "metadata": {
    "code_folding": [
     0
    ]
   },
   "outputs": [],
   "source": [
    "def recode_cols(data = pd.DataFrame):\n",
    "    \"\"\"\n",
    "    Takes processed merged GCSE exam and NPD data (2017-2020 files),\n",
    "    filters it appropriately and processes it. \n",
    "    It recodes several columns into fewer numbers of categories\n",
    "    to make modelling easier.\n",
    "    Returns a DataFrame with a reduced number of columns.\n",
    "    Full steps taken can be seen in code commenting or in\n",
    "    Methodology section of capstone.\n",
    "    --------------------------------------------------\n",
    "    df = DataFrame of merged NPD/GCSE data\n",
    "    \"\"\"\n",
    "    \n",
    "    # Copy to prevent inplace changes\n",
    "    df = data.copy()\n",
    "    # Filter EAL to remove NAs or unclassifieds\n",
    "    df = df[df.eal.isin([1,2])]\n",
    "    # Filter ethnicity to remove unclassifieds/NaNs\n",
    "    df = df[df.ethnicity.isin([\"AOEG\", \"ASIA\", \"BLAC\", \"CHIN\",\n",
    "                          \"MIXD\", \"WHIT\"])]\n",
    "    # Filter and recode SEN to remove unclassifieds and make SEN/not SEN\n",
    "    df = df[df.sen.isin([\"1_NON\", \"2_SNS\", \"3_SS\"])]\n",
    "    df.loc[df.sen != \"1_NON\", \"sen\"] = \"SEN\"\n",
    "    df.loc[df.sen == \"1_NON\", \"sen\"] = \"No SEN\"\n",
    "    \n",
    "    # Drop remaining NaNs from FSM and IDACI cols\n",
    "    df = df.dropna(subset = [\"fsm\", \"idaci\"])\n",
    "    \n",
    "    return df"
   ]
  },
  {
   "cell_type": "code",
   "execution_count": 51,
   "id": "0559a8d7",
   "metadata": {},
   "outputs": [],
   "source": [
    "# Inner join exam data with NPD data\n",
    "merged = npd_data.merge(gcse_data, on = [\"uidp\", \"year\"],\n",
    "                       how = \"inner\")\n",
    "\n",
    "# Recode columns and filter further\n",
    "df = recode_cols(merged)\n",
    "\n",
    "# Recode columns and filter further\n",
    "df = recode_cols(merged)\n",
    "\n",
    "# Get list of most common subjects to plot with later\n",
    "most_common_subjects = df.groupby(\"jcqtitle\").count()\\\n",
    ".sort_values(\"eal\", ascending = False)\\\n",
    ".head(10)\\\n",
    ".index\\\n",
    ".to_list()\n",
    "\n",
    "# Drop now unnecesary UIDP and year cols\n",
    "df = df.drop(columns = [\"year\", \"uidp\"])\n",
    "\n",
    "# Convert categorical cols to numerics\n",
    "categorical_cols = [\"eal\", \"gender\", \"ethnicity\", \"fsm\",\n",
    "               \"sen\", \"jcqtitle\", \"tier\", \"centretypedesc\"]\n",
    "\n",
    "# Encode categorical columns as numerics\n",
    "# Create mapping to inverse transform with later\n",
    "mapping = {}\n",
    "# Iterate through categorical columns\n",
    "for col in categorical_cols:\n",
    "    # Instantiate encoder\n",
    "    encoder = OrdinalEncoder()\n",
    "    # Store encoding in mapping dict\n",
    "    mapping[col] = encoder.fit(df[col].values.reshape(-1, 1))\n",
    "    # Convert column to numerics\n",
    "    df[col] = encoder.transform(df[col].values.reshape(-1, 1))"
   ]
  },
  {
   "cell_type": "code",
   "execution_count": 12,
   "id": "797e4b5a",
   "metadata": {},
   "outputs": [],
   "source": [
    "# Split into treatment and control\n",
    "treatment = df[~df.centreassessmentgrade.isna()].copy()\n",
    "control = df[df.centreassessmentgrade.isna()].copy()\n",
    "\n",
    "# Split into labels and features\n",
    "X = np.array(control.iloc[:, :10], dtype = \"float32\")\n",
    "y = np.array(control.grade, dtype = \"float32\")\n",
    "\n",
    "# Split into test and train\n",
    "X_train, X_test, y_train, y_test = train_test_split(X, y, test_size = 0.2,\n",
    "                                                   shuffle = True,\n",
    "                                                   random_state = 42)"
   ]
  },
  {
   "cell_type": "markdown",
   "id": "b0cbf133",
   "metadata": {},
   "source": [
    "# Descriptive Statistics"
   ]
  },
  {
   "cell_type": "markdown",
   "id": "84173beb",
   "metadata": {},
   "source": [
    "## Continuous Variables"
   ]
  },
  {
   "cell_type": "code",
   "execution_count": 13,
   "id": "b35c8ca0",
   "metadata": {},
   "outputs": [],
   "source": [
    "# Calculate summary stats of continuous variables\n",
    "continuous_cols = ['idaci', 'normalisedks2score', 'grade', 'centreassessmentgrade']\n",
    "control_continuous = control[continuous_cols].apply([np.mean, np.std]).T\n",
    "treatment_continuous = treatment[continuous_cols].apply([np.mean, np.std]).T"
   ]
  },
  {
   "cell_type": "code",
   "execution_count": 14,
   "id": "9a101719",
   "metadata": {},
   "outputs": [],
   "source": [
    "# Save summary stats\n",
    "summary_cont = pd.merge(control_continuous,\n",
    "                        treatment_continuous,\n",
    "                        how = \"inner\",\n",
    "                        left_index = True,\n",
    "                        right_index = True,\n",
    "                        suffixes = [\"_control\", \"_treatment\"])\n",
    "# Run t-tests\n",
    "summary_cont[\"p_val\"] = np.NaN\n",
    "for col in continuous_cols:\n",
    "    # Run t-test over each continuous col\n",
    "    t_test = ttest_ind(treatment[col], control[col])\n",
    "    # Store p-value\n",
    "    summary_cont.loc[col, \"p_val\"] = t_test.pvalue\n",
    "    \n",
    "# Export results\n",
    "summary_cont.to_csv(\"descriptive-continuous.csv\", index = False)"
   ]
  },
  {
   "cell_type": "code",
   "execution_count": 15,
   "id": "67b9606e",
   "metadata": {},
   "outputs": [
    {
     "data": {
      "text/html": [
       "<div>\n",
       "<style scoped>\n",
       "    .dataframe tbody tr th:only-of-type {\n",
       "        vertical-align: middle;\n",
       "    }\n",
       "\n",
       "    .dataframe tbody tr th {\n",
       "        vertical-align: top;\n",
       "    }\n",
       "\n",
       "    .dataframe thead th {\n",
       "        text-align: right;\n",
       "    }\n",
       "</style>\n",
       "<table border=\"1\" class=\"dataframe\">\n",
       "  <thead>\n",
       "    <tr style=\"text-align: right;\">\n",
       "      <th></th>\n",
       "      <th>mean_control</th>\n",
       "      <th>std_control</th>\n",
       "      <th>mean_treatment</th>\n",
       "      <th>std_treatment</th>\n",
       "      <th>p_val</th>\n",
       "    </tr>\n",
       "  </thead>\n",
       "  <tbody>\n",
       "    <tr>\n",
       "      <th>idaci</th>\n",
       "      <td>0.114231</td>\n",
       "      <td>0.092638</td>\n",
       "      <td>0.223775</td>\n",
       "      <td>0.117293</td>\n",
       "      <td>1.348000e-15</td>\n",
       "    </tr>\n",
       "    <tr>\n",
       "      <th>normalisedks2score</th>\n",
       "      <td>0.497498</td>\n",
       "      <td>0.188187</td>\n",
       "      <td>0.514253</td>\n",
       "      <td>0.160407</td>\n",
       "      <td>4.289147e-01</td>\n",
       "    </tr>\n",
       "    <tr>\n",
       "      <th>grade</th>\n",
       "      <td>4.823077</td>\n",
       "      <td>2.017233</td>\n",
       "      <td>5.323944</td>\n",
       "      <td>1.918737</td>\n",
       "      <td>3.680288e-02</td>\n",
       "    </tr>\n",
       "    <tr>\n",
       "      <th>centreassessmentgrade</th>\n",
       "      <td>NaN</td>\n",
       "      <td>NaN</td>\n",
       "      <td>5.225352</td>\n",
       "      <td>2.071058</td>\n",
       "      <td>NaN</td>\n",
       "    </tr>\n",
       "  </tbody>\n",
       "</table>\n",
       "</div>"
      ],
      "text/plain": [
       "                       mean_control  std_control  mean_treatment  \\\n",
       "idaci                      0.114231     0.092638        0.223775   \n",
       "normalisedks2score         0.497498     0.188187        0.514253   \n",
       "grade                      4.823077     2.017233        5.323944   \n",
       "centreassessmentgrade           NaN          NaN        5.225352   \n",
       "\n",
       "                       std_treatment         p_val  \n",
       "idaci                       0.117293  1.348000e-15  \n",
       "normalisedks2score          0.160407  4.289147e-01  \n",
       "grade                       1.918737  3.680288e-02  \n",
       "centreassessmentgrade       2.071058           NaN  "
      ]
     },
     "execution_count": 15,
     "metadata": {},
     "output_type": "execute_result"
    }
   ],
   "source": [
    "summary_cont"
   ]
  },
  {
   "cell_type": "markdown",
   "id": "2143e1ea",
   "metadata": {},
   "source": [
    "## Categorical Variables"
   ]
  },
  {
   "cell_type": "code",
   "execution_count": 16,
   "id": "9bd37c0e",
   "metadata": {},
   "outputs": [],
   "source": [
    "# Reconvert categorical cols back into original label form\n",
    "for col in categorical_cols:\n",
    "    # Inverse transform columns\n",
    "    control[col] = mapping[col].inverse_transform(control[col].values.reshape(-1, 1))\n",
    "    treatment[col] = mapping[col].inverse_transform(treatment[col].values.reshape(-1, 1))"
   ]
  },
  {
   "cell_type": "code",
   "execution_count": 17,
   "id": "792a6115",
   "metadata": {},
   "outputs": [],
   "source": [
    "# Calculate proportions in each group\n",
    "summary_cat = pd.DataFrame()\n",
    "\n",
    "for col in categorical_cols:\n",
    "    # Get frequencies and proportions for categories in group\n",
    "    # For control\n",
    "    control_count = control.groupby(col)[\"eal\"].count()\n",
    "    control_prop =  control_count / control.shape[0]\n",
    "    control_sum = pd.DataFrame(data = {\"control_count\":control_count,\n",
    "                                       \"control_prop\": control_prop,\n",
    "                                       \"col\": col})\n",
    "    # For treatment\n",
    "    treatment_count = treatment.groupby(col)[\"eal\"].count()\n",
    "    treatment_prop = treatment_count / treatment.shape[0]\n",
    "    treatment_sum = pd.DataFrame(data = {\"treatment_count\":treatment_count,\n",
    "                                         \"treatment_prop\": treatment_prop,\n",
    "                                         \"col\": col})\n",
    "    # Combine into one df\n",
    "    comparison = pd.concat([control_sum,\n",
    "                            treatment_sum[[\"treatment_count\", \"treatment_prop\"]]], axis = 1).fillna(0)\n",
    "    # Run chi-square test\n",
    "    chi2, p, dof, exp = chi2_contingency(comparison[[\"control_count\", \"treatment_count\"]])\n",
    "    # Add p-values to df\n",
    "    comparison[\"p_val\"] = p\n",
    "    \n",
    "    # Merge with other results\n",
    "    summary_cat = pd.concat([summary_cat, comparison])\n",
    "\n",
    "# Rename index\n",
    "summary_cat.index.name = \"category\"\n",
    "summary_cat = summary_cat.reset_index()\n",
    "# Export results\n",
    "summary_cat.to_csv(\"descriptive-categoricals.csv\", index = False)"
   ]
  },
  {
   "cell_type": "code",
   "execution_count": 18,
   "id": "24946572",
   "metadata": {},
   "outputs": [
    {
     "data": {
      "text/html": [
       "<div>\n",
       "<style scoped>\n",
       "    .dataframe tbody tr th:only-of-type {\n",
       "        vertical-align: middle;\n",
       "    }\n",
       "\n",
       "    .dataframe tbody tr th {\n",
       "        vertical-align: top;\n",
       "    }\n",
       "\n",
       "    .dataframe thead th {\n",
       "        text-align: right;\n",
       "    }\n",
       "</style>\n",
       "<table border=\"1\" class=\"dataframe\">\n",
       "  <thead>\n",
       "    <tr style=\"text-align: right;\">\n",
       "      <th></th>\n",
       "      <th>category</th>\n",
       "      <th>control_count</th>\n",
       "      <th>control_prop</th>\n",
       "      <th>col</th>\n",
       "      <th>treatment_count</th>\n",
       "      <th>treatment_prop</th>\n",
       "      <th>p_val</th>\n",
       "    </tr>\n",
       "  </thead>\n",
       "  <tbody>\n",
       "    <tr>\n",
       "      <th>0</th>\n",
       "      <td>1.0</td>\n",
       "      <td>104.0</td>\n",
       "      <td>0.800000</td>\n",
       "      <td>eal</td>\n",
       "      <td>95.0</td>\n",
       "      <td>0.669014</td>\n",
       "      <td>0.021548</td>\n",
       "    </tr>\n",
       "    <tr>\n",
       "      <th>1</th>\n",
       "      <td>2.0</td>\n",
       "      <td>26.0</td>\n",
       "      <td>0.200000</td>\n",
       "      <td>eal</td>\n",
       "      <td>47.0</td>\n",
       "      <td>0.330986</td>\n",
       "      <td>0.021548</td>\n",
       "    </tr>\n",
       "    <tr>\n",
       "      <th>2</th>\n",
       "      <td>F</td>\n",
       "      <td>49.0</td>\n",
       "      <td>0.376923</td>\n",
       "      <td>gender</td>\n",
       "      <td>82.0</td>\n",
       "      <td>0.577465</td>\n",
       "      <td>0.001448</td>\n",
       "    </tr>\n",
       "    <tr>\n",
       "      <th>3</th>\n",
       "      <td>M</td>\n",
       "      <td>81.0</td>\n",
       "      <td>0.623077</td>\n",
       "      <td>gender</td>\n",
       "      <td>60.0</td>\n",
       "      <td>0.422535</td>\n",
       "      <td>0.001448</td>\n",
       "    </tr>\n",
       "    <tr>\n",
       "      <th>4</th>\n",
       "      <td>ASIA</td>\n",
       "      <td>16.0</td>\n",
       "      <td>0.123077</td>\n",
       "      <td>ethnicity</td>\n",
       "      <td>8.0</td>\n",
       "      <td>0.056338</td>\n",
       "      <td>0.026099</td>\n",
       "    </tr>\n",
       "  </tbody>\n",
       "</table>\n",
       "</div>"
      ],
      "text/plain": [
       "  category  control_count  control_prop        col  treatment_count  \\\n",
       "0      1.0          104.0      0.800000        eal             95.0   \n",
       "1      2.0           26.0      0.200000        eal             47.0   \n",
       "2        F           49.0      0.376923     gender             82.0   \n",
       "3        M           81.0      0.623077     gender             60.0   \n",
       "4     ASIA           16.0      0.123077  ethnicity              8.0   \n",
       "\n",
       "   treatment_prop     p_val  \n",
       "0        0.669014  0.021548  \n",
       "1        0.330986  0.021548  \n",
       "2        0.577465  0.001448  \n",
       "3        0.422535  0.001448  \n",
       "4        0.056338  0.026099  "
      ]
     },
     "execution_count": 18,
     "metadata": {},
     "output_type": "execute_result"
    }
   ],
   "source": [
    "summary_cat.head()"
   ]
  },
  {
   "cell_type": "code",
   "execution_count": 19,
   "id": "7c7a9912",
   "metadata": {},
   "outputs": [],
   "source": [
    "# Plot most common subject mean grades, treatment vs control\n",
    "subject_treat = treatment.groupby(\"jcqtitle\")[[\"grade\"]].mean()\\\n",
    ".loc[most_common_subjects].reset_index().round(2)\n",
    "subject_control = control.groupby(\"jcqtitle\")[[\"grade\"]].mean()\\\n",
    ".loc[most_common_subjects].reset_index().round(2)"
   ]
  },
  {
   "cell_type": "code",
   "execution_count": 20,
   "id": "1d08b63c",
   "metadata": {},
   "outputs": [
    {
     "data": {
      "image/png": "[encoded data removed]",
      "text/plain": [
       "<Figure size 432x288 with 1 Axes>"
      ]
     },
     "metadata": {},
     "output_type": "display_data"
    }
   ],
   "source": [
    "# Plot treatment\n",
    "fig = sns.barplot(x = \"jcqtitle\", y = \"grade\", data = subject_treat)\n",
    "fig.tick_params(axis='x', rotation=60)\n",
    "fig.set(xlabel = \"Subject\", ylabel = \"Mean Grade\",\n",
    "        title = \"Mean Grades | Most Common 10 Subjects| Treatment\")\n",
    "fig.bar_label(fig.containers[0]);\n",
    "\n",
    "plt.tight_layout()\n",
    "plt.savefig(\"treatment_subj_grades.png\")"
   ]
  },
  {
   "cell_type": "code",
   "execution_count": 21,
   "id": "1feb5dba",
   "metadata": {},
   "outputs": [
    {
     "data": {
      "image/png": "[encoded data removed]",
      "text/plain": [
       "<Figure size 432x288 with 1 Axes>"
      ]
     },
     "metadata": {},
     "output_type": "display_data"
    }
   ],
   "source": [
    "# Plot control\n",
    "fig = sns.barplot(x = \"jcqtitle\", y = \"grade\", data = subject_control)\n",
    "fig.tick_params(axis='x', rotation=60)\n",
    "fig.set(xlabel = \"Subject\", ylabel = \"Mean Grade\",\n",
    "        title = \"Mean Grades | Most Common 10 Subjects| Control\")\n",
    "fig.bar_label(fig.containers[0]);\n",
    "\n",
    "plt.tight_layout()\n",
    "plt.savefig(\"control_subj_grades.png\")"
   ]
  },
  {
   "cell_type": "markdown",
   "id": "3145f260",
   "metadata": {
    "heading_collapsed": true
   },
   "source": [
    "# Modelling"
   ]
  },
  {
   "cell_type": "code",
   "execution_count": 22,
   "id": "d9c9449e",
   "metadata": {
    "hidden": true
   },
   "outputs": [],
   "source": [
    "# Create dataframe to store model results in\n",
    "all_results = pd.DataFrame()"
   ]
  },
  {
   "cell_type": "code",
   "execution_count": 23,
   "id": "cc5e4087",
   "metadata": {
    "hidden": true
   },
   "outputs": [],
   "source": [
    "def evaluate_model(X_train, X_test,\n",
    "                  y_train, y_test,\n",
    "                  model, model_name):\n",
    "    \n",
    "    \"\"\"\n",
    "    Function to evaluate a model in terms of\n",
    "    train and test RMSE.\n",
    "    Returns a dataframe of model name and RMSEs.\n",
    "    --------------------------------------------------\n",
    "    X_train = np.array of X data, used to generate train RMSE\n",
    "    X_test = np.array of X data, used to generate test RMSE\n",
    "    y_train = np.array of y data, used to generate train RMSE\n",
    "    y_test = np.array of y data, used to generate test RMSE\n",
    "    model = fitted model instance to use with model.predict\n",
    "    model_name = str, name to save the model under\n",
    "    \"\"\"\n",
    "    # Generate predictions\n",
    "    train_preds = model.predict(X_train)\n",
    "    test_preds = model.predict(X_test)\n",
    "    # Evaluate model\n",
    "    train_rmse = mean_squared_error(y_train, train_preds, squared = False)\n",
    "    test_rmse = mean_squared_error(y_test, test_preds, squared = False)\n",
    "\n",
    "    # Store results\n",
    "    results = pd.DataFrame({\"model\": model_name,\n",
    "                            \"train_rmse\": train_rmse,\n",
    "                            \"test_rmse\": test_rmse,\n",
    "                 }, index = [0])\n",
    "    \n",
    "    return results"
   ]
  },
  {
   "cell_type": "markdown",
   "id": "44c0a8ea",
   "metadata": {
    "hidden": true
   },
   "source": [
    "## Linear Model"
   ]
  },
  {
   "cell_type": "code",
   "execution_count": 24,
   "id": "06e5abc7",
   "metadata": {
    "hidden": true
   },
   "outputs": [],
   "source": [
    "# Create linear model\n",
    "linear_model = LinearRegression()\n",
    "linear_model.fit(X_train, y_train)\n",
    "# Evaluate model, getting test and train RMSE\n",
    "results = evaluate_model(X_train, X_test,\n",
    "                         y_train, y_test,\n",
    "                         linear_model, \"ols_linear\")\n",
    "# Store results\n",
    "all_results = pd.concat([all_results, results])"
   ]
  },
  {
   "cell_type": "markdown",
   "id": "22357ac1",
   "metadata": {
    "hidden": true
   },
   "source": [
    "## Neural Network"
   ]
  },
  {
   "cell_type": "markdown",
   "id": "9bdf2ae9",
   "metadata": {
    "hidden": true
   },
   "source": [
    "The 32-32 network seemed to work quite well. Could also try it with batch normalisation, same again with 64-64 networks"
   ]
  },
  {
   "cell_type": "code",
   "execution_count": 25,
   "id": "282cb932",
   "metadata": {
    "hidden": true
   },
   "outputs": [],
   "source": [
    "def build_mlp(X_data,\n",
    "              layer_1_units = 64,\n",
    "              layer_2_units = 64,\n",
    "              batch_normalization = False,\n",
    "              loss = \"mse\",\n",
    "              optimizer = \"adam\",\n",
    "              metrics = [\"mse\"]):\n",
    "    \"\"\"\n",
    "    Function to create artificial neural network. Dense layer\n",
    "    units can be specified, as can the use of batch normalization\n",
    "    in between the dense layers (this provides mild regularisation)\n",
    "    and may speed up training.\n",
    "    Returns a compiled Keras model.\n",
    "    --------------------------------------------------\n",
    "    X_data = np.array of X data, used to give input shape to model\n",
    "    layer_1_units = int, number of neurons in 1st hidden layer\n",
    "    layer_2_units = int, number of neurons in 2nd hidden layer\n",
    "    batch_normalization = bool, batch normalize between hidden layers \n",
    "    if true\n",
    "    loss = str, name of loss function to use\n",
    "    optimizer = str or keras.Optimzer object, optimizer to use\n",
    "    metrics = list of strings, evaluation metrics to use\n",
    "    \"\"\"\n",
    "    # Build model\n",
    "    model = Sequential(name = \"MLP\")\n",
    "    # 1st Dense layer\n",
    "    model.add(Dense(units = layer_1_units, activation = \"relu\", input_shape = (X_data.shape[1], ),\n",
    "                   kernel_initializer = \"he_normal\"))\n",
    "    \n",
    "    # Add batch normalization if desired\n",
    "    if batch_normalization:\n",
    "        model.add(BatchNormalization())\n",
    "    \n",
    "    # 2nd Dense layer\n",
    "    model.add(Dense(units = layer_2_units, activation = \"relu\",\n",
    "                   kernel_initializer = \"he_normal\"))\n",
    "    # Output layer\n",
    "    model.add(Dense(units = 1, activation = \"linear\",\n",
    "                   kernel_initializer = \"he_normal\"))\n",
    "    # Compile model\n",
    "    model.compile(**compile_hp)\n",
    "    \n",
    "    return model"
   ]
  },
  {
   "cell_type": "code",
   "execution_count": 26,
   "id": "88baf23e",
   "metadata": {
    "hidden": true
   },
   "outputs": [],
   "source": [
    "# Hyperparams used during modelling\n",
    "# Compilation hyperparams\n",
    "compile_hp = dict()\n",
    "compile_hp[\"loss\"] = \"mse\"\n",
    "compile_hp[\"optimizer\"] = optimizers.Adam(learning_rate = 0.001)\n",
    "compile_hp[\"metrics\"] = [\"mse\"]\n",
    "\n",
    "# Fitting hyperparams\n",
    "fit_hp = dict()\n",
    "fit_hp[\"batch_size\"] = 32\n",
    "fit_hp[\"epochs\"] = 200\n",
    "fit_hp[\"validation_split\"] = 0.2\n",
    "# Create callback to select the best model\n",
    "fit_hp[\"callbacks\"] = EarlyStopping(monitor = \"val_loss\",\n",
    "                                         mode = \"min\",\n",
    "                                         restore_best_weights = True,\n",
    "                                         patience = 25)\n",
    "\n",
    "# Eliminate verbose to have a neater notebook \n",
    "fit_hp[\"verbose\"] = 2"
   ]
  },
  {
   "cell_type": "markdown",
   "id": "c2abe51f",
   "metadata": {
    "hidden": true
   },
   "source": [
    "### NN 1"
   ]
  },
  {
   "cell_type": "code",
   "execution_count": 27,
   "id": "14561def",
   "metadata": {
    "hidden": true,
    "scrolled": true
   },
   "outputs": [
    {
     "name": "stdout",
     "output_type": "stream",
     "text": [
      "Metal device set to: Apple M1\n",
      "Epoch 1/200\n"
     ]
    },
    {
     "name": "stderr",
     "output_type": "stream",
     "text": [
      "2022-07-27 16:03:21.128438: I tensorflow/core/common_runtime/pluggable_device/pluggable_device_factory.cc:305] Could not identify NUMA node of platform GPU ID 0, defaulting to 0. Your kernel may not have been built with NUMA support.\n",
      "2022-07-27 16:03:21.128818: I tensorflow/core/common_runtime/pluggable_device/pluggable_device_factory.cc:271] Created TensorFlow device (/job:localhost/replica:0/task:0/device:GPU:0 with 0 MB memory) -> physical PluggableDevice (device: 0, name: METAL, pci bus id: <undefined>)\n",
      "2022-07-27 16:03:21.278404: W tensorflow/core/platform/profile_utils/cpu_utils.cc:128] Failed to get CPU frequency: 0 Hz\n",
      "2022-07-27 16:03:21.496182: I tensorflow/core/grappler/optimizers/custom_graph_optimizer_registry.cc:113] Plugin optimizer for device_type GPU is enabled.\n"
     ]
    },
    {
     "name": "stdout",
     "output_type": "stream",
     "text": [
      "3/3 - 1s - loss: 39.4846 - mse: 39.4846 - val_loss: 179.8803 - val_mse: 179.8803 - 521ms/epoch - 174ms/step\n",
      "Epoch 2/200\n",
      "3/3 - 0s - loss: 37.3395 - mse: 37.3395 - val_loss: 131.5641 - val_mse: 131.5641 - 35ms/epoch - 12ms/step\n",
      "Epoch 3/200\n",
      "3/3 - 0s - loss: 35.1735 - mse: 35.1735 - val_loss: 101.8032 - val_mse: 101.8032 - 35ms/epoch - 12ms/step\n",
      "Epoch 4/200\n",
      "3/3 - 0s - loss: 33.2167 - mse: 33.2167 - val_loss: 81.7894 - val_mse: 81.7894 - 36ms/epoch - 12ms/step\n",
      "Epoch 5/200\n",
      "3/3 - 0s - loss: 30.7019 - mse: 30.7019 - val_loss: 67.7548 - val_mse: 67.7548 - 30ms/epoch - 10ms/step\n",
      "Epoch 6/200\n"
     ]
    },
    {
     "name": "stderr",
     "output_type": "stream",
     "text": [
      "2022-07-27 16:03:21.774663: I tensorflow/core/grappler/optimizers/custom_graph_optimizer_registry.cc:113] Plugin optimizer for device_type GPU is enabled.\n"
     ]
    },
    {
     "name": "stdout",
     "output_type": "stream",
     "text": [
      "3/3 - 0s - loss: 29.2579 - mse: 29.2579 - val_loss: 56.7998 - val_mse: 56.7998 - 32ms/epoch - 11ms/step\n",
      "Epoch 7/200\n",
      "3/3 - 0s - loss: 27.2271 - mse: 27.2271 - val_loss: 48.3952 - val_mse: 48.3952 - 31ms/epoch - 10ms/step\n",
      "Epoch 8/200\n",
      "3/3 - 0s - loss: 25.6969 - mse: 25.6969 - val_loss: 41.8178 - val_mse: 41.8178 - 31ms/epoch - 10ms/step\n",
      "Epoch 9/200\n",
      "3/3 - 0s - loss: 23.8405 - mse: 23.8405 - val_loss: 36.6797 - val_mse: 36.6797 - 33ms/epoch - 11ms/step\n",
      "Epoch 10/200\n",
      "3/3 - 0s - loss: 22.4398 - mse: 22.4398 - val_loss: 32.4124 - val_mse: 32.4124 - 42ms/epoch - 14ms/step\n",
      "Epoch 11/200\n",
      "3/3 - 0s - loss: 21.1667 - mse: 21.1667 - val_loss: 28.9840 - val_mse: 28.9840 - 45ms/epoch - 15ms/step\n",
      "Epoch 12/200\n",
      "3/3 - 0s - loss: 19.7969 - mse: 19.7969 - val_loss: 26.1256 - val_mse: 26.1256 - 32ms/epoch - 11ms/step\n",
      "Epoch 13/200\n",
      "3/3 - 0s - loss: 18.4316 - mse: 18.4316 - val_loss: 23.7289 - val_mse: 23.7289 - 30ms/epoch - 10ms/step\n",
      "Epoch 14/200\n",
      "3/3 - 0s - loss: 17.3438 - mse: 17.3438 - val_loss: 21.6930 - val_mse: 21.6930 - 31ms/epoch - 10ms/step\n",
      "Epoch 15/200\n",
      "3/3 - 0s - loss: 16.7467 - mse: 16.7467 - val_loss: 19.9356 - val_mse: 19.9356 - 32ms/epoch - 11ms/step\n",
      "Epoch 16/200\n",
      "3/3 - 0s - loss: 15.3373 - mse: 15.3373 - val_loss: 18.5361 - val_mse: 18.5361 - 32ms/epoch - 11ms/step\n",
      "Epoch 17/200\n",
      "3/3 - 0s - loss: 14.5424 - mse: 14.5424 - val_loss: 17.3516 - val_mse: 17.3516 - 32ms/epoch - 11ms/step\n",
      "Epoch 18/200\n",
      "3/3 - 0s - loss: 13.7590 - mse: 13.7590 - val_loss: 16.2446 - val_mse: 16.2446 - 31ms/epoch - 10ms/step\n",
      "Epoch 19/200\n",
      "3/3 - 0s - loss: 12.5354 - mse: 12.5354 - val_loss: 15.3056 - val_mse: 15.3056 - 31ms/epoch - 10ms/step\n",
      "Epoch 20/200\n",
      "3/3 - 0s - loss: 11.9591 - mse: 11.9591 - val_loss: 14.5056 - val_mse: 14.5056 - 30ms/epoch - 10ms/step\n",
      "Epoch 21/200\n",
      "3/3 - 0s - loss: 11.0631 - mse: 11.0631 - val_loss: 13.8115 - val_mse: 13.8115 - 30ms/epoch - 10ms/step\n",
      "Epoch 22/200\n",
      "3/3 - 0s - loss: 10.5130 - mse: 10.5130 - val_loss: 13.2368 - val_mse: 13.2368 - 30ms/epoch - 10ms/step\n",
      "Epoch 23/200\n",
      "3/3 - 0s - loss: 9.8559 - mse: 9.8559 - val_loss: 12.7256 - val_mse: 12.7256 - 31ms/epoch - 10ms/step\n",
      "Epoch 24/200\n",
      "3/3 - 0s - loss: 9.0155 - mse: 9.0155 - val_loss: 12.2611 - val_mse: 12.2611 - 31ms/epoch - 10ms/step\n",
      "Epoch 25/200\n",
      "3/3 - 0s - loss: 8.7000 - mse: 8.7000 - val_loss: 11.8265 - val_mse: 11.8265 - 30ms/epoch - 10ms/step\n",
      "Epoch 26/200\n",
      "3/3 - 0s - loss: 8.2208 - mse: 8.2208 - val_loss: 11.4584 - val_mse: 11.4584 - 31ms/epoch - 10ms/step\n",
      "Epoch 27/200\n",
      "3/3 - 0s - loss: 7.6183 - mse: 7.6183 - val_loss: 11.1546 - val_mse: 11.1546 - 29ms/epoch - 10ms/step\n",
      "Epoch 28/200\n",
      "3/3 - 0s - loss: 7.4033 - mse: 7.4033 - val_loss: 10.8952 - val_mse: 10.8952 - 30ms/epoch - 10ms/step\n",
      "Epoch 29/200\n",
      "3/3 - 0s - loss: 7.1569 - mse: 7.1569 - val_loss: 10.6415 - val_mse: 10.6415 - 30ms/epoch - 10ms/step\n",
      "Epoch 30/200\n",
      "3/3 - 0s - loss: 6.6558 - mse: 6.6558 - val_loss: 10.4290 - val_mse: 10.4290 - 31ms/epoch - 10ms/step\n",
      "Epoch 31/200\n",
      "3/3 - 0s - loss: 6.1953 - mse: 6.1953 - val_loss: 10.2473 - val_mse: 10.2473 - 31ms/epoch - 10ms/step\n",
      "Epoch 32/200\n",
      "3/3 - 0s - loss: 6.0661 - mse: 6.0661 - val_loss: 10.0655 - val_mse: 10.0655 - 30ms/epoch - 10ms/step\n",
      "Epoch 33/200\n",
      "3/3 - 0s - loss: 5.5946 - mse: 5.5946 - val_loss: 9.8972 - val_mse: 9.8972 - 33ms/epoch - 11ms/step\n",
      "Epoch 34/200\n",
      "3/3 - 0s - loss: 5.7421 - mse: 5.7421 - val_loss: 9.7258 - val_mse: 9.7258 - 31ms/epoch - 10ms/step\n",
      "Epoch 35/200\n",
      "3/3 - 0s - loss: 5.3598 - mse: 5.3598 - val_loss: 9.5838 - val_mse: 9.5838 - 30ms/epoch - 10ms/step\n",
      "Epoch 36/200\n",
      "3/3 - 0s - loss: 5.4081 - mse: 5.4081 - val_loss: 9.4341 - val_mse: 9.4341 - 31ms/epoch - 10ms/step\n",
      "Epoch 37/200\n",
      "3/3 - 0s - loss: 5.1029 - mse: 5.1029 - val_loss: 9.2685 - val_mse: 9.2685 - 31ms/epoch - 10ms/step\n",
      "Epoch 38/200\n",
      "3/3 - 0s - loss: 4.8967 - mse: 4.8967 - val_loss: 9.1003 - val_mse: 9.1003 - 32ms/epoch - 11ms/step\n",
      "Epoch 39/200\n",
      "3/3 - 0s - loss: 4.9856 - mse: 4.9856 - val_loss: 8.9340 - val_mse: 8.9340 - 32ms/epoch - 11ms/step\n",
      "Epoch 40/200\n",
      "3/3 - 0s - loss: 5.2181 - mse: 5.2181 - val_loss: 8.7872 - val_mse: 8.7872 - 31ms/epoch - 10ms/step\n",
      "Epoch 41/200\n",
      "3/3 - 0s - loss: 5.1077 - mse: 5.1077 - val_loss: 8.6159 - val_mse: 8.6159 - 30ms/epoch - 10ms/step\n",
      "Epoch 42/200\n",
      "3/3 - 0s - loss: 4.6792 - mse: 4.6792 - val_loss: 8.4842 - val_mse: 8.4842 - 29ms/epoch - 10ms/step\n",
      "Epoch 43/200\n",
      "3/3 - 0s - loss: 4.6103 - mse: 4.6103 - val_loss: 8.3721 - val_mse: 8.3721 - 32ms/epoch - 11ms/step\n",
      "Epoch 44/200\n",
      "3/3 - 0s - loss: 4.6678 - mse: 4.6678 - val_loss: 8.2692 - val_mse: 8.2692 - 30ms/epoch - 10ms/step\n",
      "Epoch 45/200\n",
      "3/3 - 0s - loss: 4.5838 - mse: 4.5838 - val_loss: 8.1475 - val_mse: 8.1475 - 31ms/epoch - 10ms/step\n",
      "Epoch 46/200\n",
      "3/3 - 0s - loss: 4.3551 - mse: 4.3551 - val_loss: 8.0610 - val_mse: 8.0610 - 30ms/epoch - 10ms/step\n",
      "Epoch 47/200\n",
      "3/3 - 0s - loss: 4.6343 - mse: 4.6343 - val_loss: 7.9554 - val_mse: 7.9554 - 31ms/epoch - 10ms/step\n",
      "Epoch 48/200\n",
      "3/3 - 0s - loss: 4.0517 - mse: 4.0517 - val_loss: 7.8750 - val_mse: 7.8750 - 31ms/epoch - 10ms/step\n",
      "Epoch 49/200\n",
      "3/3 - 0s - loss: 4.6336 - mse: 4.6336 - val_loss: 7.8005 - val_mse: 7.8005 - 30ms/epoch - 10ms/step\n",
      "Epoch 50/200\n",
      "3/3 - 0s - loss: 5.8474 - mse: 5.8474 - val_loss: 7.7052 - val_mse: 7.7052 - 30ms/epoch - 10ms/step\n",
      "Epoch 51/200\n",
      "3/3 - 0s - loss: 4.1566 - mse: 4.1566 - val_loss: 7.6363 - val_mse: 7.6363 - 31ms/epoch - 10ms/step\n",
      "Epoch 52/200\n",
      "3/3 - 0s - loss: 4.2565 - mse: 4.2565 - val_loss: 7.5593 - val_mse: 7.5593 - 30ms/epoch - 10ms/step\n",
      "Epoch 53/200\n",
      "3/3 - 0s - loss: 4.0333 - mse: 4.0333 - val_loss: 7.4850 - val_mse: 7.4850 - 31ms/epoch - 10ms/step\n",
      "Epoch 54/200\n",
      "3/3 - 0s - loss: 4.3735 - mse: 4.3735 - val_loss: 7.3999 - val_mse: 7.3999 - 30ms/epoch - 10ms/step\n",
      "Epoch 55/200\n",
      "3/3 - 0s - loss: 3.9708 - mse: 3.9708 - val_loss: 7.3376 - val_mse: 7.3376 - 30ms/epoch - 10ms/step\n",
      "Epoch 56/200\n",
      "3/3 - 0s - loss: 3.8369 - mse: 3.8369 - val_loss: 7.2829 - val_mse: 7.2829 - 29ms/epoch - 10ms/step\n",
      "Epoch 57/200\n",
      "3/3 - 0s - loss: 4.1352 - mse: 4.1352 - val_loss: 7.2281 - val_mse: 7.2281 - 31ms/epoch - 10ms/step\n",
      "Epoch 58/200\n",
      "3/3 - 0s - loss: 3.9647 - mse: 3.9647 - val_loss: 7.1552 - val_mse: 7.1552 - 31ms/epoch - 10ms/step\n",
      "Epoch 59/200\n",
      "3/3 - 0s - loss: 4.0479 - mse: 4.0479 - val_loss: 7.0809 - val_mse: 7.0809 - 31ms/epoch - 10ms/step\n",
      "Epoch 60/200\n",
      "3/3 - 0s - loss: 3.8174 - mse: 3.8174 - val_loss: 7.0147 - val_mse: 7.0147 - 32ms/epoch - 11ms/step\n",
      "Epoch 61/200\n",
      "3/3 - 0s - loss: 3.6622 - mse: 3.6622 - val_loss: 6.9520 - val_mse: 6.9520 - 30ms/epoch - 10ms/step\n",
      "Epoch 62/200\n",
      "3/3 - 0s - loss: 3.7824 - mse: 3.7824 - val_loss: 6.9113 - val_mse: 6.9113 - 40ms/epoch - 13ms/step\n",
      "Epoch 63/200\n",
      "3/3 - 0s - loss: 3.8350 - mse: 3.8350 - val_loss: 6.8779 - val_mse: 6.8779 - 35ms/epoch - 12ms/step\n",
      "Epoch 64/200\n",
      "3/3 - 0s - loss: 3.8004 - mse: 3.8004 - val_loss: 6.8515 - val_mse: 6.8515 - 31ms/epoch - 10ms/step\n",
      "Epoch 65/200\n",
      "3/3 - 0s - loss: 3.6621 - mse: 3.6621 - val_loss: 6.8260 - val_mse: 6.8260 - 30ms/epoch - 10ms/step\n",
      "Epoch 66/200\n",
      "3/3 - 0s - loss: 3.8041 - mse: 3.8041 - val_loss: 6.8052 - val_mse: 6.8052 - 31ms/epoch - 10ms/step\n",
      "Epoch 67/200\n",
      "3/3 - 0s - loss: 3.5437 - mse: 3.5437 - val_loss: 6.8143 - val_mse: 6.8143 - 27ms/epoch - 9ms/step\n",
      "Epoch 68/200\n",
      "3/3 - 0s - loss: 3.4828 - mse: 3.4828 - val_loss: 6.8100 - val_mse: 6.8100 - 26ms/epoch - 9ms/step\n",
      "Epoch 69/200\n",
      "3/3 - 0s - loss: 3.6110 - mse: 3.6110 - val_loss: 6.8063 - val_mse: 6.8063 - 27ms/epoch - 9ms/step\n",
      "Epoch 70/200\n",
      "3/3 - 0s - loss: 3.6265 - mse: 3.6265 - val_loss: 6.7996 - val_mse: 6.7996 - 30ms/epoch - 10ms/step\n",
      "Epoch 71/200\n",
      "3/3 - 0s - loss: 3.5721 - mse: 3.5721 - val_loss: 6.7976 - val_mse: 6.7976 - 30ms/epoch - 10ms/step\n",
      "Epoch 72/200\n",
      "3/3 - 0s - loss: 3.9716 - mse: 3.9716 - val_loss: 6.7860 - val_mse: 6.7860 - 31ms/epoch - 10ms/step\n",
      "Epoch 73/200\n",
      "3/3 - 0s - loss: 3.5014 - mse: 3.5014 - val_loss: 6.7858 - val_mse: 6.7858 - 30ms/epoch - 10ms/step\n",
      "Epoch 74/200\n",
      "3/3 - 0s - loss: 3.5328 - mse: 3.5328 - val_loss: 6.7801 - val_mse: 6.7801 - 31ms/epoch - 10ms/step\n",
      "Epoch 75/200\n",
      "3/3 - 0s - loss: 4.2881 - mse: 4.2881 - val_loss: 6.7584 - val_mse: 6.7584 - 30ms/epoch - 10ms/step\n",
      "Epoch 76/200\n",
      "3/3 - 0s - loss: 3.4617 - mse: 3.4617 - val_loss: 6.7535 - val_mse: 6.7535 - 30ms/epoch - 10ms/step\n",
      "Epoch 77/200\n",
      "3/3 - 0s - loss: 3.7688 - mse: 3.7688 - val_loss: 6.7379 - val_mse: 6.7379 - 32ms/epoch - 11ms/step\n"
     ]
    },
    {
     "name": "stdout",
     "output_type": "stream",
     "text": [
      "Epoch 78/200\n",
      "3/3 - 0s - loss: 3.7214 - mse: 3.7214 - val_loss: 6.7220 - val_mse: 6.7220 - 31ms/epoch - 10ms/step\n",
      "Epoch 79/200\n",
      "3/3 - 0s - loss: 3.5918 - mse: 3.5918 - val_loss: 6.7006 - val_mse: 6.7006 - 31ms/epoch - 10ms/step\n",
      "Epoch 80/200\n",
      "3/3 - 0s - loss: 3.3489 - mse: 3.3489 - val_loss: 6.6982 - val_mse: 6.6982 - 30ms/epoch - 10ms/step\n",
      "Epoch 81/200\n",
      "3/3 - 0s - loss: 3.3753 - mse: 3.3753 - val_loss: 6.6895 - val_mse: 6.6895 - 30ms/epoch - 10ms/step\n",
      "Epoch 82/200\n",
      "3/3 - 0s - loss: 4.0920 - mse: 4.0920 - val_loss: 6.6774 - val_mse: 6.6774 - 31ms/epoch - 10ms/step\n",
      "Epoch 83/200\n",
      "3/3 - 0s - loss: 3.3445 - mse: 3.3445 - val_loss: 6.6674 - val_mse: 6.6674 - 31ms/epoch - 10ms/step\n",
      "Epoch 84/200\n",
      "3/3 - 0s - loss: 3.2584 - mse: 3.2584 - val_loss: 6.6463 - val_mse: 6.6463 - 31ms/epoch - 10ms/step\n",
      "Epoch 85/200\n",
      "3/3 - 0s - loss: 3.4055 - mse: 3.4055 - val_loss: 6.6469 - val_mse: 6.6469 - 28ms/epoch - 9ms/step\n",
      "Epoch 86/200\n",
      "3/3 - 0s - loss: 3.5988 - mse: 3.5988 - val_loss: 6.6654 - val_mse: 6.6654 - 27ms/epoch - 9ms/step\n",
      "Epoch 87/200\n",
      "3/3 - 0s - loss: 3.5242 - mse: 3.5242 - val_loss: 6.6497 - val_mse: 6.6497 - 27ms/epoch - 9ms/step\n",
      "Epoch 88/200\n",
      "3/3 - 0s - loss: 3.2489 - mse: 3.2489 - val_loss: 6.6452 - val_mse: 6.6452 - 31ms/epoch - 10ms/step\n",
      "Epoch 89/200\n",
      "3/3 - 0s - loss: 3.2342 - mse: 3.2342 - val_loss: 6.6393 - val_mse: 6.6393 - 31ms/epoch - 10ms/step\n",
      "Epoch 90/200\n",
      "3/3 - 0s - loss: 3.2807 - mse: 3.2807 - val_loss: 6.6263 - val_mse: 6.6263 - 31ms/epoch - 10ms/step\n",
      "Epoch 91/200\n",
      "3/3 - 0s - loss: 3.3017 - mse: 3.3017 - val_loss: 6.6250 - val_mse: 6.6250 - 31ms/epoch - 10ms/step\n",
      "Epoch 92/200\n",
      "3/3 - 0s - loss: 3.2231 - mse: 3.2231 - val_loss: 6.6104 - val_mse: 6.6104 - 32ms/epoch - 11ms/step\n",
      "Epoch 93/200\n",
      "3/3 - 0s - loss: 3.2408 - mse: 3.2408 - val_loss: 6.6070 - val_mse: 6.6070 - 31ms/epoch - 10ms/step\n",
      "Epoch 94/200\n",
      "3/3 - 0s - loss: 3.3009 - mse: 3.3009 - val_loss: 6.6025 - val_mse: 6.6025 - 32ms/epoch - 11ms/step\n",
      "Epoch 95/200\n",
      "3/3 - 0s - loss: 3.4610 - mse: 3.4610 - val_loss: 6.5944 - val_mse: 6.5944 - 31ms/epoch - 10ms/step\n",
      "Epoch 96/200\n",
      "3/3 - 0s - loss: 3.2162 - mse: 3.2162 - val_loss: 6.5788 - val_mse: 6.5788 - 31ms/epoch - 10ms/step\n",
      "Epoch 97/200\n",
      "3/3 - 0s - loss: 3.1580 - mse: 3.1580 - val_loss: 6.5669 - val_mse: 6.5669 - 31ms/epoch - 10ms/step\n",
      "Epoch 98/200\n",
      "3/3 - 0s - loss: 3.1003 - mse: 3.1003 - val_loss: 6.5503 - val_mse: 6.5503 - 30ms/epoch - 10ms/step\n",
      "Epoch 99/200\n",
      "3/3 - 0s - loss: 3.1566 - mse: 3.1566 - val_loss: 6.5374 - val_mse: 6.5374 - 31ms/epoch - 10ms/step\n",
      "Epoch 100/200\n",
      "3/3 - 0s - loss: 3.3606 - mse: 3.3606 - val_loss: 6.5331 - val_mse: 6.5331 - 33ms/epoch - 11ms/step\n",
      "Epoch 101/200\n",
      "3/3 - 0s - loss: 4.0781 - mse: 4.0781 - val_loss: 6.5142 - val_mse: 6.5142 - 34ms/epoch - 11ms/step\n",
      "Epoch 102/200\n",
      "3/3 - 0s - loss: 3.1611 - mse: 3.1611 - val_loss: 6.5183 - val_mse: 6.5183 - 30ms/epoch - 10ms/step\n",
      "Epoch 103/200\n",
      "3/3 - 0s - loss: 3.1832 - mse: 3.1832 - val_loss: 6.5309 - val_mse: 6.5309 - 43ms/epoch - 14ms/step\n",
      "Epoch 104/200\n",
      "3/3 - 0s - loss: 2.9962 - mse: 2.9962 - val_loss: 6.5406 - val_mse: 6.5406 - 36ms/epoch - 12ms/step\n",
      "Epoch 105/200\n",
      "3/3 - 0s - loss: 3.2087 - mse: 3.2087 - val_loss: 6.5454 - val_mse: 6.5454 - 31ms/epoch - 10ms/step\n",
      "Epoch 106/200\n",
      "3/3 - 0s - loss: 3.0429 - mse: 3.0429 - val_loss: 6.5273 - val_mse: 6.5273 - 35ms/epoch - 12ms/step\n",
      "Epoch 107/200\n",
      "3/3 - 0s - loss: 3.0579 - mse: 3.0579 - val_loss: 6.4987 - val_mse: 6.4987 - 37ms/epoch - 12ms/step\n",
      "Epoch 108/200\n",
      "3/3 - 0s - loss: 3.0725 - mse: 3.0725 - val_loss: 6.4995 - val_mse: 6.4995 - 32ms/epoch - 11ms/step\n",
      "Epoch 109/200\n",
      "3/3 - 0s - loss: 3.2573 - mse: 3.2573 - val_loss: 6.5033 - val_mse: 6.5033 - 29ms/epoch - 10ms/step\n",
      "Epoch 110/200\n",
      "3/3 - 0s - loss: 3.0669 - mse: 3.0669 - val_loss: 6.5454 - val_mse: 6.5454 - 33ms/epoch - 11ms/step\n",
      "Epoch 111/200\n",
      "3/3 - 0s - loss: 3.0714 - mse: 3.0714 - val_loss: 6.5434 - val_mse: 6.5434 - 31ms/epoch - 10ms/step\n",
      "Epoch 112/200\n",
      "3/3 - 0s - loss: 3.0776 - mse: 3.0776 - val_loss: 6.5483 - val_mse: 6.5483 - 31ms/epoch - 10ms/step\n",
      "Epoch 113/200\n",
      "3/3 - 0s - loss: 3.0011 - mse: 3.0011 - val_loss: 6.5423 - val_mse: 6.5423 - 30ms/epoch - 10ms/step\n",
      "Epoch 114/200\n",
      "3/3 - 0s - loss: 2.9895 - mse: 2.9895 - val_loss: 6.5298 - val_mse: 6.5298 - 29ms/epoch - 10ms/step\n",
      "Epoch 115/200\n",
      "3/3 - 0s - loss: 2.9452 - mse: 2.9452 - val_loss: 6.5081 - val_mse: 6.5081 - 29ms/epoch - 10ms/step\n",
      "Epoch 116/200\n",
      "3/3 - 0s - loss: 3.0815 - mse: 3.0815 - val_loss: 6.5131 - val_mse: 6.5131 - 91ms/epoch - 30ms/step\n",
      "Epoch 117/200\n",
      "3/3 - 0s - loss: 2.8971 - mse: 2.8971 - val_loss: 6.5216 - val_mse: 6.5216 - 142ms/epoch - 47ms/step\n",
      "Epoch 118/200\n",
      "3/3 - 0s - loss: 2.9529 - mse: 2.9529 - val_loss: 6.5425 - val_mse: 6.5425 - 36ms/epoch - 12ms/step\n",
      "Epoch 119/200\n",
      "3/3 - 0s - loss: 3.0655 - mse: 3.0655 - val_loss: 6.5473 - val_mse: 6.5473 - 38ms/epoch - 13ms/step\n",
      "Epoch 120/200\n",
      "3/3 - 0s - loss: 3.0160 - mse: 3.0160 - val_loss: 6.5470 - val_mse: 6.5470 - 33ms/epoch - 11ms/step\n",
      "Epoch 121/200\n",
      "3/3 - 0s - loss: 3.0420 - mse: 3.0420 - val_loss: 6.5168 - val_mse: 6.5168 - 31ms/epoch - 10ms/step\n",
      "Epoch 122/200\n",
      "3/3 - 0s - loss: 2.9205 - mse: 2.9205 - val_loss: 6.5253 - val_mse: 6.5253 - 29ms/epoch - 10ms/step\n",
      "Epoch 123/200\n",
      "3/3 - 0s - loss: 2.8504 - mse: 2.8504 - val_loss: 6.5335 - val_mse: 6.5335 - 33ms/epoch - 11ms/step\n",
      "Epoch 124/200\n",
      "3/3 - 0s - loss: 2.7751 - mse: 2.7751 - val_loss: 6.5322 - val_mse: 6.5322 - 28ms/epoch - 9ms/step\n",
      "Epoch 125/200\n",
      "3/3 - 0s - loss: 2.9061 - mse: 2.9061 - val_loss: 6.5233 - val_mse: 6.5233 - 29ms/epoch - 10ms/step\n",
      "Epoch 126/200\n",
      "3/3 - 0s - loss: 2.9214 - mse: 2.9214 - val_loss: 6.5190 - val_mse: 6.5190 - 34ms/epoch - 11ms/step\n",
      "Epoch 127/200\n",
      "3/3 - 0s - loss: 3.1627 - mse: 3.1627 - val_loss: 6.5396 - val_mse: 6.5396 - 29ms/epoch - 10ms/step\n",
      "Epoch 128/200\n",
      "3/3 - 0s - loss: 2.7922 - mse: 2.7922 - val_loss: 6.5464 - val_mse: 6.5464 - 29ms/epoch - 10ms/step\n",
      "Epoch 129/200\n",
      "3/3 - 0s - loss: 2.9580 - mse: 2.9580 - val_loss: 6.5792 - val_mse: 6.5792 - 32ms/epoch - 11ms/step\n",
      "Epoch 130/200\n",
      "3/3 - 0s - loss: 3.1400 - mse: 3.1400 - val_loss: 6.5923 - val_mse: 6.5923 - 30ms/epoch - 10ms/step\n",
      "Epoch 131/200\n",
      "3/3 - 0s - loss: 2.9733 - mse: 2.9733 - val_loss: 6.6295 - val_mse: 6.6295 - 31ms/epoch - 10ms/step\n",
      "Epoch 132/200\n",
      "3/3 - 0s - loss: 2.7574 - mse: 2.7574 - val_loss: 6.6188 - val_mse: 6.6188 - 34ms/epoch - 11ms/step\n"
     ]
    },
    {
     "name": "stderr",
     "output_type": "stream",
     "text": [
      "2022-07-27 16:03:26.377008: I tensorflow/core/grappler/optimizers/custom_graph_optimizer_registry.cc:113] Plugin optimizer for device_type GPU is enabled.\n"
     ]
    }
   ],
   "source": [
    "# Select number of hidden units\n",
    "layer_1_units = 32\n",
    "layer_2_units = 32\n",
    "# Select whether to batch normalize\n",
    "batch_normalization = True\n",
    "\n",
    "# Build and compile model\n",
    "mlp = build_mlp(X_train,\n",
    "                  layer_1_units = layer_1_units,\n",
    "                  layer_2_units = layer_2_units,\n",
    "                  batch_normalization = batch_normalization,\n",
    "                  **compile_hp)\n",
    "# Fit model\n",
    "history = mlp.fit(X_train, y_train, **fit_hp)\n",
    "\n",
    "# Get string to save model details with\n",
    "save_name  = f\"neural_network-{layer_1_units}_{layer_2_units}\"\n",
    "if batch_normalization:\n",
    "    save_name = save_name + \"_bn\"\n",
    "\n",
    "# Evaluate model, getting test and train RMSE\n",
    "results = evaluate_model(X_train, X_test,\n",
    "                         y_train, y_test,\n",
    "                         mlp, save_name)\n",
    "# Store results\n",
    "all_results = pd.concat([all_results, results])"
   ]
  },
  {
   "cell_type": "markdown",
   "id": "02747447",
   "metadata": {
    "hidden": true
   },
   "source": [
    "## LGBM"
   ]
  },
  {
   "cell_type": "code",
   "execution_count": 28,
   "id": "4c728573",
   "metadata": {
    "hidden": true
   },
   "outputs": [],
   "source": [
    "# Params to compile LGBM model with\n",
    "fixed_params = {\n",
    "        'objective': 'regression',\n",
    "        'metric': \"rmse\",  \n",
    "        'verbosity': -1,\n",
    "}"
   ]
  },
  {
   "cell_type": "code",
   "execution_count": 29,
   "id": "b2812b5d",
   "metadata": {
    "hidden": true
   },
   "outputs": [],
   "source": [
    "def objective(trial, X, y):\n",
    "    \"\"\"\n",
    "    Wrapper function to work with Optuna trial objects, \n",
    "    enabling Hyperband hyperparameter search.\n",
    "    \"\"\"   \n",
    "    # Suggest hyperparams to test using Optuna trial object.\n",
    "    param = {**fixed_params,\n",
    "        'boosting_type': 'gbdt',\n",
    "        'num_leaves': trial.suggest_int('num_leaves', 2, 3000, step = 20),\n",
    "        'feature_fraction': trial.suggest_float('feature_fraction', 0.2, 0.99, step = 0.05),\n",
    "        'bagging_fraction': trial.suggest_float('bagging_fraction', 0.2, 0.99, step = 0.05),\n",
    "        'bagging_freq': trial.suggest_int('bagging_freq', 1, 7),\n",
    "        'min_child_samples': trial.suggest_int('min_child_samples', 5, 100),\n",
    "        \"n_estimators\": trial.suggest_int(\"n_estimators\", 200, 5000),\n",
    "        \"learning_rate\": trial.suggest_float(\"learning_rate\", 0.01, 0.3),\n",
    "        \"max_depth\": trial.suggest_int(\"max_depth\", 3, 12),\n",
    "        \"min_data_in_leaf\": trial.suggest_int(\"min_data_in_leaf\", 5, 2000, step=5),\n",
    "        \"lambda_l1\": trial.suggest_float(\"lambda_l1\", 1e-8, 10.0, log=True),\n",
    "        \"lambda_l2\": trial.suggest_float(\"lambda_l2\", 1e-8, 10.0, log=True),\n",
    "        \"min_gain_to_split\": trial.suggest_float(\"min_gain_to_split\", 0, 10),\n",
    "        \"max_bin\": trial.suggest_int(\"max_bin\", 200, 300),\n",
    "    }\n",
    "    \n",
    "    # Create cv object\n",
    "    cv = StratifiedKFold(n_splits = 5, shuffle = True)\n",
    "    # Make empty array to store cv RMSE scores in\n",
    "    cv_scores = np.empty(5)\n",
    "    \n",
    "    # Split into K train and validation sets and iterate through them\n",
    "    for idx, (train_idx, test_idx) in enumerate(cv.split(X, y)):\n",
    "        # Split into training and validation CV sets\n",
    "        X_train_cv, X_test_cv = X[train_idx], X[test_idx]\n",
    "        y_train_cv, y_test_cv = y[train_idx], y[test_idx]\n",
    "\n",
    "        # Convert data to proper LGBM format\n",
    "        train_data = lgb.Dataset(X_train_cv, label = y_train_cv,\n",
    "                                 categorical_feature = [0,1,2,3,4,6,7,8])\n",
    "        val_data = lgb.Dataset(X_test_cv, label = y_test_cv, \n",
    "                               categorical_feature = [0,1,2,3,4,6,7,8],\n",
    "                              reference = train_data)\n",
    "        \n",
    "        # Make callbacks to prevent trialling hyperparams that are obviously bad\n",
    "        callbacks = [\n",
    "            LightGBMPruningCallback(trial, metric = \"rmse\"),\n",
    "                     # Callback to reduce model validation performance messages\n",
    "                    lgb.log_evaluation(period = 100),\n",
    "                     # Early stoppping to prevent overfitting training data\n",
    "                    lgb.early_stopping(100)]\n",
    "\n",
    "        # Training the model\n",
    "        model = lgb.train(params = param,  train_set = train_data,\n",
    "                          valid_sets = val_data,   \n",
    "                          callbacks = callbacks,\n",
    "                         )\n",
    "    \n",
    "        # Get predictions\n",
    "        preds = model.predict(X_test_cv)\n",
    "        # Calculate RMSE\n",
    "        cv_scores[idx] = mean_squared_error(y_test_cv, preds, squared = False)\n",
    "\n",
    "    return np.mean(cv_scores)"
   ]
  },
  {
   "cell_type": "code",
   "execution_count": 30,
   "id": "86154180",
   "metadata": {
    "hidden": true
   },
   "outputs": [],
   "source": [
    "%%capture my_study\n",
    "# Above line magic hides lengthy output, but stores into first_round if you want to look\n",
    "\n",
    "# Create Optuna study to do CV hyperparameter search\n",
    "study = optuna.create_study(direction = \"minimize\", # minimizing RMSE\n",
    "                            study_name = \"LGBM Classifier\",\n",
    "                           pruner = optuna.pruners.HyperbandPruner())\n",
    "func = lambda trial: objective(trial, X = X_train, y = y_train)\n",
    "study.optimize(func, n_trials = 200)"
   ]
  },
  {
   "cell_type": "code",
   "execution_count": 31,
   "id": "8387684e",
   "metadata": {
    "hidden": true
   },
   "outputs": [
    {
     "name": "stderr",
     "output_type": "stream",
     "text": [
      "/Users/louis/miniforge3/envs/skywalker/lib/python3.9/site-packages/lightgbm/basic.py:2065: UserWarning: Using categorical_feature in Dataset.\n",
      "  _log_warning('Using categorical_feature in Dataset.')\n"
     ]
    },
    {
     "name": "stdout",
     "output_type": "stream",
     "text": [
      "[LightGBM] [Warning] min_data_in_leaf is set=5, min_child_samples=69 will be ignored. Current value: min_data_in_leaf=5\n"
     ]
    }
   ],
   "source": [
    "# Run best model and evaluate\n",
    "# Convert data to proper LGBM format\n",
    "train_data = lgb.Dataset(X_train, label = y_train,\n",
    "                         categorical_feature = [0,1,2,3,4,6,7,8])\n",
    "\n",
    "# Callback to reduce model messages\n",
    "callbacks = [lgb.log_evaluation(period = 100)]\n",
    "\n",
    "# Training the model using the best params identified in study\n",
    "lgbm = lgb.train(params = {**fixed_params, **study.best_params},\n",
    "                  train_set = train_data, \n",
    "                  callbacks = callbacks,\n",
    "                 )\n",
    "\n",
    "# Evaluate model, getting test and train RMSE\n",
    "results = evaluate_model(X_train, X_test,\n",
    "                         y_train, y_test,\n",
    "                         lgbm, \"lgbm\")\n",
    "# Store results\n",
    "all_results = pd.concat([all_results, results])"
   ]
  },
  {
   "cell_type": "markdown",
   "id": "52da8826",
   "metadata": {
    "hidden": true
   },
   "source": [
    "## Support Vector Regression"
   ]
  },
  {
   "cell_type": "markdown",
   "id": "43bccd0b",
   "metadata": {
    "hidden": true
   },
   "source": [
    "### RBF SVR"
   ]
  },
  {
   "cell_type": "code",
   "execution_count": 32,
   "id": "038a816e",
   "metadata": {
    "hidden": true
   },
   "outputs": [],
   "source": [
    "# Create model\n",
    "rbf_svr = SVR()\n",
    "# Fit\n",
    "rbf_svr.fit(X_train, y_train)\n",
    "# Evaluate model, getting test and train RMSE\n",
    "results = evaluate_model(X_train, X_test,\n",
    "                         y_train, y_test,\n",
    "                         rbf_svr, \"svm_rbf\")\n",
    "# Store results\n",
    "all_results = pd.concat([all_results, results])"
   ]
  },
  {
   "cell_type": "markdown",
   "id": "3362182f",
   "metadata": {
    "hidden": true
   },
   "source": [
    "### LinearSVR"
   ]
  },
  {
   "cell_type": "code",
   "execution_count": 33,
   "id": "863ae93e",
   "metadata": {
    "hidden": true
   },
   "outputs": [
    {
     "name": "stderr",
     "output_type": "stream",
     "text": [
      "/Users/louis/miniforge3/envs/skywalker/lib/python3.9/site-packages/sklearn/svm/_base.py:1206: ConvergenceWarning: Liblinear failed to converge, increase the number of iterations.\n",
      "  warnings.warn(\n"
     ]
    }
   ],
   "source": [
    "# Create model\n",
    "epsilon = 0.499\n",
    "linear_svr = LinearSVR(epsilon = epsilon)\n",
    "# Fit\n",
    "linear_svr.fit(X_train, y_train)\n",
    "# Evaluate model, getting test and train RMSE\n",
    "results = evaluate_model(X_train, X_test,\n",
    "                         y_train, y_test,\n",
    "                         linear_svr, f\"svm_linear-{epsilon}\")\n",
    "# Store results\n",
    "all_results = pd.concat([all_results, results])"
   ]
  },
  {
   "cell_type": "markdown",
   "id": "f55e57ab",
   "metadata": {},
   "source": [
    "# Analysing Results / Using Best Model"
   ]
  },
  {
   "cell_type": "markdown",
   "id": "646dc686",
   "metadata": {},
   "source": [
    "## Make Predictions"
   ]
  },
  {
   "cell_type": "code",
   "execution_count": 34,
   "id": "d5b5a629",
   "metadata": {},
   "outputs": [],
   "source": [
    "# Compare model performances\n",
    "best = all_results.sort_values(\"test_rmse\").head(1)\n",
    "all_results.sort_values(\"test_rmse\")\n",
    "all_results.to_csv(\"model_evaluations.csv\", index = False)"
   ]
  },
  {
   "cell_type": "code",
   "execution_count": 35,
   "id": "d51a1198",
   "metadata": {},
   "outputs": [],
   "source": [
    "# Select best model and it's test RMSE\n",
    "best_model = lgbm\n",
    "best_rmse = best.test_rmse"
   ]
  },
  {
   "cell_type": "code",
   "execution_count": 36,
   "id": "c94cc384",
   "metadata": {},
   "outputs": [],
   "source": [
    "# Get treatment in numeric form again\n",
    "treatment = df[~df.centreassessmentgrade.isna()].copy()\n",
    "\n",
    "# Split into labels and features\n",
    "X_treatment = np.array(treatment.iloc[:, :10], dtype = \"float32\")\n",
    "y_treatment = np.array(treatment.grade, dtype = \"float32\")"
   ]
  },
  {
   "cell_type": "code",
   "execution_count": 37,
   "id": "28e6eac8",
   "metadata": {},
   "outputs": [],
   "source": [
    "# Calculate predictions for 2020 year using best model\n",
    "treatment[\"predictions\"] = best_model.predict(X_treatment)\n",
    "# Calculate differences from CAG\n",
    "treatment[\"cag_diff\"] = treatment.centreassessmentgrade - treatment.predictions"
   ]
  },
  {
   "cell_type": "code",
   "execution_count": 38,
   "id": "d88f41b8",
   "metadata": {},
   "outputs": [],
   "source": [
    "# Create quantiles for IDACI and prior attainment\n",
    "quantile_labels = [\"very low\", \"low\", \"medium\", \"high\", \"very high\"]\n",
    "treatment[\"idaci_quantile\"] = pd.qcut(treatment.idaci, \n",
    "                                      q = 5,\n",
    "                                      labels = quantile_labels)\n",
    "treatment[\"attainment_quantile\"] = pd.qcut(treatment.normalisedks2score, \n",
    "                                      q = 5,\n",
    "                                      labels = quantile_labels)\n",
    "# Reconvert categorical cols back into original label form\n",
    "for col in categorical_cols:\n",
    "    # Inverse transform columns\n",
    "    treatment[col] = mapping[col].inverse_transform(treatment[col].values.reshape(-1, 1))\n",
    "    \n",
    "# Create neater labels for certain columns\n",
    "# EAL\n",
    "eal_mappings = {1.0:\"No EAL\", 2.0: \"EAL\"}\n",
    "treatment.eal = treatment.eal.replace(eal_mappings)\n",
    "# FSM\n",
    "fsm_mappings = {0:\"No FSM\", 1: \"FSM\"}\n",
    "treatment.fsm = treatment.fsm.replace(fsm_mappings)"
   ]
  },
  {
   "cell_type": "markdown",
   "id": "a6c8c760",
   "metadata": {},
   "source": [
    "## Analyse Predictions"
   ]
  },
  {
   "cell_type": "code",
   "execution_count": 39,
   "id": "0de4caa7",
   "metadata": {},
   "outputs": [],
   "source": [
    "# Get list of factors to aggregate by, including intersectional factors\n",
    "groupers = [[\"ethnicity\", \"idaci_quantile\"],\n",
    "            [\"ethnicity\", \"attainment_quantile\"],\n",
    "            [\"ethnicity\", \"idaci_quantile\", \"attainment_quantile\"],\n",
    "            [\"ethnicity\", \"idaci_quantile\", \"attainment_quantile\", \"eal\"],\n",
    "            [\"ethnicity\", \"idaci_quantile\", \"attainment_quantile\", \"fsm\"],\n",
    "            [\"ethnicity\", \"idaci_quantile\", \"attainment_quantile\", \"sen\"],\n",
    "            [\"ethnicity\", \"idaci_quantile\", \"attainment_quantile\", \"tier\"],\n",
    "            [\"idaci_quantile\", \"attainment_quantile\"],\n",
    "            [\"idaci_quantile\", \"fsm\"],\n",
    "            [\"idaci_quantile\", \"fsm\", \"attainment_quantile\"],\n",
    "            [\"sen\", \"ethnicity\"],\n",
    "            [\"sen\", \"idaci_quantile\"],\n",
    "            [\"sen\", \"attainment_quantile\"],\n",
    "            [\"eal\", \"ethnicity\"],\n",
    "            [\"eal\", \"idaci_quantile\"],\n",
    "            [\"eal\", \"attainment_quantile\"],\n",
    "            'eal', 'gender', 'ethnicity',\n",
    "            'fsm', 'sen', 'jcqtitle', 'tier',\n",
    "            'centretypedesc','idaci_quantile',\n",
    "            'attainment_quantile']"
   ]
  },
  {
   "cell_type": "code",
   "execution_count": 40,
   "id": "c2f1a601",
   "metadata": {},
   "outputs": [],
   "source": [
    "# Create df to store each group's results in\n",
    "all_groups = pd.DataFrame()\n",
    "for grouper in groupers:\n",
    "    group_df = treatment.groupby(grouper)[\"cag_diff\"].mean().reset_index()\n",
    "    # Store values for factor and factor values\n",
    "    group_df[\"factor\"] = \"X\".join(grouper) if isinstance(grouper, list) else grouper\n",
    "    group_df[\"factor_value\"] = group_df.iloc[:, 0].astype(str)\n",
    "    \n",
    "    # Also concat factor value when grouper is more than 1 item\n",
    "    if isinstance(grouper, list):\n",
    "        for i in range(1, len(grouper)):\n",
    "            group_df[\"factor_value\"] = group_df[\"factor_value\"] + \" X \" + group_df.iloc[:, i].astype(str)\n",
    "    \n",
    "    # Save results to df\n",
    "    all_groups = pd.concat([all_groups, group_df[[\"factor\", \"factor_value\", \"cag_diff\"]]])\n",
    "\n",
    "# Export results\n",
    "all_groups.sort_values([\"factor\", \"factor_value\"]).to_csv(\"predicted_diffs.csv\", index = False)"
   ]
  }
 ],
 "metadata": {
  "kernelspec": {
   "display_name": "Python 3 (ipykernel)",
   "language": "python",
   "name": "python3"
  },
  "language_info": {
   "codemirror_mode": {
    "name": "ipython",
    "version": 3
   },
   "file_extension": ".py",
   "mimetype": "text/x-python",
   "name": "python",
   "nbconvert_exporter": "python",
   "pygments_lexer": "ipython3",
   "version": "3.9.0"
  },
  "toc": {
   "base_numbering": 1,
   "nav_menu": {},
   "number_sections": true,
   "sideBar": true,
   "skip_h1_title": false,
   "title_cell": "Table of Contents",
   "title_sidebar": "Contents",
   "toc_cell": false,
   "toc_position": {},
   "toc_section_display": true,
   "toc_window_display": false
  },
  "varInspector": {
   "cols": {
    "lenName": 16,
    "lenType": 16,
    "lenVar": 40
   },
   "kernels_config": {
    "python": {
     "delete_cmd_postfix": "",
     "delete_cmd_prefix": "del ",
     "library": "var_list.py",
     "varRefreshCmd": "print(var_dic_list())"
    },
    "r": {
     "delete_cmd_postfix": ") ",
     "delete_cmd_prefix": "rm(",
     "library": "var_list.r",
     "varRefreshCmd": "cat(var_dic_list()) "
    }
   },
   "types_to_exclude": [
    "module",
    "function",
    "builtin_function_or_method",
    "instance",
    "_Feature"
   ],
   "window_display": false
  }
 },
 "nbformat": 4,
 "nbformat_minor": 5
}
