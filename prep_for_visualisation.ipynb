{
 "cells": [
  {
   "cell_type": "code",
   "execution_count": 1,
   "id": "9c858dd9-b982-48e3-b022-bfaa36e597f6",
   "metadata": {},
   "outputs": [],
   "source": [
    "# General\n",
    "import pandas as pd\n",
    "import numpy as np\n",
    "import os\n",
    "import glob\n",
    "import re\n",
    "\n",
    "# Plotting\n",
    "import seaborn as sns\n",
    "sns.set_style(\"darkgrid\")\n",
    "import matplotlib.pyplot as plt"
   ]
  },
  {
   "cell_type": "code",
   "execution_count": 3,
   "id": "8fbe4e2a-e55a-4ccc-95b8-f138a1696a41",
   "metadata": {},
   "outputs": [],
   "source": [
    "# Read in data\n",
    "df = pd.read_csv(\"data/predicted_diffs.csv\")\n",
    "\n",
    "# Relabel IDACI quantiles to make plotting easier\n",
    "pat = r\"(\\w*\\S*X*\\S*)(low|medium|high)(.*)\"\n",
    "df.loc[df.factor.str.contains(\"idaci_quantile\"), \"factor_value\"] = df.loc[df.factor.str.contains(\"idaci_quantile\"),\n",
    "                                                                         \"factor_value\"].apply(lambda x: re.sub(pat, r\"\\1\\2 IDACI\\3\", x))\n",
    "# Save to csv, needed in this format for R plotting\n",
    "df.to_csv(\"data/predicted_diffs-processed.csv\", index = False)\n",
    "\n",
    "# Prep for BigQuery\n",
    "# Tidy up category names and values\n",
    "df.factor = df.factor.str.replace(\"_|X\", \" \", regex = True).str.title()\n",
    "df.factor_value = df.factor_value.str.title()\n",
    "var_mapping = {\"Fsm\":\"FSM\", \"Sen\":\"SEN\", \"Eal\":\"EAL\", \"Idaci\":\"IDACI\"}\n",
    "df = df.replace(var_mapping, regex = True)\n",
    "cat_mapping = {'Whit':'White','Blac':'Black', 'Asia':'Asian',\n",
    "               \"Chin\":\"Chinese\", \"Mixd\":\"Mixed\", \"Aoeg\":\"AOEG\"}\n",
    "df = df.replace(cat_mapping, regex = True)\n",
    "# Get neater column names\n",
    "df.columns = [\"Variable\", \"Category\", \"CATE\", \"Modelled GCSE Points\", \n",
    "             \"Modelled GCSE Points (std.)\", \"CAG Points\", \"CAG Points (std.)\",\n",
    "             \"Welch's p-value\", \"Num. of Obs.\"]\n",
    "# Save to csv\n",
    "df.to_csv(\"data/bigquery_data.csv\", index = False)"
   ]
  },
  {
   "cell_type": "code",
   "execution_count": null,
   "id": "d0e2a871-f4c3-44ea-9e26-196b44452b06",
   "metadata": {},
   "outputs": [],
   "source": []
  }
 ],
 "metadata": {
  "kernelspec": {
   "display_name": "Python 3 (ipykernel)",
   "language": "python",
   "name": "python3"
  },
  "language_info": {
   "codemirror_mode": {
    "name": "ipython",
    "version": 3
   },
   "file_extension": ".py",
   "mimetype": "text/x-python",
   "name": "python",
   "nbconvert_exporter": "python",
   "pygments_lexer": "ipython3",
   "version": "3.9.0"
  }
 },
 "nbformat": 4,
 "nbformat_minor": 5
}
