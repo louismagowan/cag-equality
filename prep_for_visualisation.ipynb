{
 "cells": [
  {
   "cell_type": "code",
   "execution_count": 1,
   "id": "9c858dd9-b982-48e3-b022-bfaa36e597f6",
   "metadata": {},
   "outputs": [],
   "source": [
    "# General\n",
    "import pandas as pd\n",
    "import numpy as np\n",
    "import os\n",
    "import glob\n",
    "import re\n",
    "\n",
    "# Plotting\n",
    "import seaborn as sns\n",
    "sns.set_style(\"darkgrid\")\n",
    "import matplotlib.pyplot as plt"
   ]
  },
  {
   "cell_type": "code",
   "execution_count": 86,
   "id": "02b4f2ce-7a4e-4269-a804-d3d39df6bb63",
   "metadata": {},
   "outputs": [],
   "source": [
    "# Read in data\n",
    "df = pd.read_csv(\"predicted_diffs-ols.csv\")"
   ]
  },
  {
   "cell_type": "code",
   "execution_count": 72,
   "id": "08701572-4605-4c4f-932d-1a48b107307c",
   "metadata": {},
   "outputs": [],
   "source": [
    "df.to_clipboard()"
   ]
  },
  {
   "cell_type": "code",
   "execution_count": 109,
   "id": "50a9f39f-7c2a-4d67-b585-94c178519d89",
   "metadata": {},
   "outputs": [],
   "source": [
    "# Relabel IDACI quantiles to make plotting easier\n",
    "pat = r\"(\\w*\\S*X*\\S*)(low|medium|high)(.*)\"\n",
    "df.loc[df.factor.str.contains(\"idaci_quantile\"), \"factor_value\"] = df.loc[df.factor.str.contains(\"idaci_quantile\"),\n",
    "                                                                         \"factor_value\"].apply(lambda x: re.sub(pat, r\"\\1\\2 SES\\3\", x))"
   ]
  },
  {
   "cell_type": "code",
   "execution_count": 111,
   "id": "087d79cb-f150-4339-9bb3-351ba0d80059",
   "metadata": {},
   "outputs": [],
   "source": [
    "df.to_csv(\"predicted_diffs-processed.csv\", index = False)"
   ]
  }
 ],
 "metadata": {
  "kernelspec": {
   "display_name": "Python 3 (ipykernel)",
   "language": "python",
   "name": "python3"
  },
  "language_info": {
   "codemirror_mode": {
    "name": "ipython",
    "version": 3
   },
   "file_extension": ".py",
   "mimetype": "text/x-python",
   "name": "python",
   "nbconvert_exporter": "python",
   "pygments_lexer": "ipython3",
   "version": "3.9.0"
  }
 },
 "nbformat": 4,
 "nbformat_minor": 5
}
